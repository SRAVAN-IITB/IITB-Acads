{
 "cells": [
  {
   "cell_type": "markdown",
   "id": "b61814a4",
   "metadata": {},
   "source": [
    "# Assignment 5\n",
    "## Nistha Agarwal\n",
    "## 210010045"
   ]
  },
  {
   "cell_type": "markdown",
   "id": "b2fa3015",
   "metadata": {},
   "source": [
    "### Importing all the required packages and libraries"
   ]
  },
  {
   "cell_type": "code",
   "execution_count": 1,
   "id": "75d8a48f",
   "metadata": {},
   "outputs": [],
   "source": [
    "import numpy as np #used to deal with arrays and related operations\n",
    "import pandas as pd #used to convert our csv file to a dataframe and perform desired operations on it\n",
    "import matplotlib.pyplot as plt #used to make various mathematical plots\n",
    "import seaborn as sns #contains additional plot features\n",
    "import statsmodels.api as sm #used for qq plot\n",
    "import scipy.stats as stats #This module contains a large number of probability distributions, summary and frequency statistics, correlation functions and statistical tests, masked statistics, and more.\n",
    "import math # contains the math functions like min, mx, sqrt\n",
    "import sympy as sym #package used to solve equations for unknown variables "
   ]
  },
  {
   "cell_type": "markdown",
   "id": "4330c21c",
   "metadata": {},
   "source": [
    "## Question 1"
   ]
  },
  {
   "cell_type": "markdown",
   "id": "8eb7a10d",
   "metadata": {},
   "source": [
    "### Converting our excel data file to pandas dataframe"
   ]
  },
  {
   "cell_type": "code",
   "execution_count": 2,
   "id": "c634664e",
   "metadata": {},
   "outputs": [
    {
     "data": {
      "text/html": [
       "<div>\n",
       "<style scoped>\n",
       "    .dataframe tbody tr th:only-of-type {\n",
       "        vertical-align: middle;\n",
       "    }\n",
       "\n",
       "    .dataframe tbody tr th {\n",
       "        vertical-align: top;\n",
       "    }\n",
       "\n",
       "    .dataframe thead th {\n",
       "        text-align: right;\n",
       "    }\n",
       "</style>\n",
       "<table border=\"1\" class=\"dataframe\">\n",
       "  <thead>\n",
       "    <tr style=\"text-align: right;\">\n",
       "      <th></th>\n",
       "      <th>Unnamed: 0</th>\n",
       "      <th>Rowid</th>\n",
       "      <th>Country</th>\n",
       "      <th>State lgd code</th>\n",
       "      <th>State</th>\n",
       "      <th>District lgd code</th>\n",
       "      <th>District</th>\n",
       "      <th>Year</th>\n",
       "      <th>Type of residence namely rural or urban</th>\n",
       "      <th>Number of census houses</th>\n",
       "      <th>...</th>\n",
       "      <th>Percentage of Houses having grass or thatch or bamboo etc. as material of wall</th>\n",
       "      <th>Percentage of Houses having plastic or polythene as material of wall</th>\n",
       "      <th>Percentage of Houses having mud or unburnt brick as material of wall</th>\n",
       "      <th>Percentage of Houses having wood as material of wall</th>\n",
       "      <th>Percentage of Houses having stone not packed with mortar as material of wall</th>\n",
       "      <th>Percentage of Houses having stone packed with mortar as material of wall</th>\n",
       "      <th>Percentage of Houses having galvanized iron (gi) sheets or metal or asbestos sheets as material of wall</th>\n",
       "      <th>Percentage of Houses having burnt brick as material of wall</th>\n",
       "      <th>Percentage of Houses having concrete as material of wall</th>\n",
       "      <th>Percentage of Houses having any other material of wall</th>\n",
       "    </tr>\n",
       "  </thead>\n",
       "  <tbody>\n",
       "    <tr>\n",
       "      <th>0</th>\n",
       "      <td>0</td>\n",
       "      <td>1</td>\n",
       "      <td>India</td>\n",
       "      <td>1</td>\n",
       "      <td>Jammu And Kashmir</td>\n",
       "      <td>1</td>\n",
       "      <td>Anantnag</td>\n",
       "      <td>2011</td>\n",
       "      <td>Rural</td>\n",
       "      <td>109465</td>\n",
       "      <td>...</td>\n",
       "      <td>0.246654</td>\n",
       "      <td>1.215914</td>\n",
       "      <td>20.746357</td>\n",
       "      <td>2.753391</td>\n",
       "      <td>2.771662</td>\n",
       "      <td>0.438496</td>\n",
       "      <td>0.209199</td>\n",
       "      <td>69.637784</td>\n",
       "      <td>1.278948</td>\n",
       "      <td>0.701594</td>\n",
       "    </tr>\n",
       "    <tr>\n",
       "      <th>1</th>\n",
       "      <td>1</td>\n",
       "      <td>2</td>\n",
       "      <td>India</td>\n",
       "      <td>1</td>\n",
       "      <td>Jammu And Kashmir</td>\n",
       "      <td>1</td>\n",
       "      <td>Anantnag</td>\n",
       "      <td>2011</td>\n",
       "      <td>Urban</td>\n",
       "      <td>33522</td>\n",
       "      <td>...</td>\n",
       "      <td>0.205835</td>\n",
       "      <td>0.360957</td>\n",
       "      <td>20.306068</td>\n",
       "      <td>0.366923</td>\n",
       "      <td>0.799475</td>\n",
       "      <td>0.277430</td>\n",
       "      <td>0.292345</td>\n",
       "      <td>70.965336</td>\n",
       "      <td>5.650021</td>\n",
       "      <td>0.775610</td>\n",
       "    </tr>\n",
       "    <tr>\n",
       "      <th>2</th>\n",
       "      <td>2</td>\n",
       "      <td>3</td>\n",
       "      <td>India</td>\n",
       "      <td>1</td>\n",
       "      <td>Jammu And Kashmir</td>\n",
       "      <td>2</td>\n",
       "      <td>Budgam</td>\n",
       "      <td>2011</td>\n",
       "      <td>Rural</td>\n",
       "      <td>85562</td>\n",
       "      <td>...</td>\n",
       "      <td>0.156612</td>\n",
       "      <td>0.197518</td>\n",
       "      <td>8.384563</td>\n",
       "      <td>1.121993</td>\n",
       "      <td>0.874220</td>\n",
       "      <td>0.357635</td>\n",
       "      <td>0.251280</td>\n",
       "      <td>85.717959</td>\n",
       "      <td>1.185106</td>\n",
       "      <td>1.751946</td>\n",
       "    </tr>\n",
       "    <tr>\n",
       "      <th>3</th>\n",
       "      <td>3</td>\n",
       "      <td>4</td>\n",
       "      <td>India</td>\n",
       "      <td>1</td>\n",
       "      <td>Jammu And Kashmir</td>\n",
       "      <td>2</td>\n",
       "      <td>Budgam</td>\n",
       "      <td>2011</td>\n",
       "      <td>Urban</td>\n",
       "      <td>13136</td>\n",
       "      <td>...</td>\n",
       "      <td>0.373021</td>\n",
       "      <td>0.205542</td>\n",
       "      <td>7.117844</td>\n",
       "      <td>0.182704</td>\n",
       "      <td>1.423569</td>\n",
       "      <td>0.228380</td>\n",
       "      <td>0.296894</td>\n",
       "      <td>86.000305</td>\n",
       "      <td>3.456151</td>\n",
       "      <td>0.715591</td>\n",
       "    </tr>\n",
       "    <tr>\n",
       "      <th>4</th>\n",
       "      <td>4</td>\n",
       "      <td>5</td>\n",
       "      <td>India</td>\n",
       "      <td>1</td>\n",
       "      <td>Jammu And Kashmir</td>\n",
       "      <td>3</td>\n",
       "      <td>Baramulla</td>\n",
       "      <td>2011</td>\n",
       "      <td>Rural</td>\n",
       "      <td>120312</td>\n",
       "      <td>...</td>\n",
       "      <td>0.341612</td>\n",
       "      <td>0.143793</td>\n",
       "      <td>15.965157</td>\n",
       "      <td>2.683024</td>\n",
       "      <td>10.433706</td>\n",
       "      <td>4.554824</td>\n",
       "      <td>1.446240</td>\n",
       "      <td>60.415420</td>\n",
       "      <td>1.760423</td>\n",
       "      <td>2.256633</td>\n",
       "    </tr>\n",
       "  </tbody>\n",
       "</table>\n",
       "<p>5 rows × 30 columns</p>\n",
       "</div>"
      ],
      "text/plain": [
       "   Unnamed: 0  Rowid Country  State lgd code              State  \\\n",
       "0           0      1   India               1  Jammu And Kashmir   \n",
       "1           1      2   India               1  Jammu And Kashmir   \n",
       "2           2      3   India               1  Jammu And Kashmir   \n",
       "3           3      4   India               1  Jammu And Kashmir   \n",
       "4           4      5   India               1  Jammu And Kashmir   \n",
       "\n",
       "   District lgd code   District  Year Type of residence namely rural or urban  \\\n",
       "0                  1   Anantnag  2011                                   Rural   \n",
       "1                  1   Anantnag  2011                                   Urban   \n",
       "2                  2     Budgam  2011                                   Rural   \n",
       "3                  2     Budgam  2011                                   Urban   \n",
       "4                  3  Baramulla  2011                                   Rural   \n",
       "\n",
       "   Number of census houses  ...  \\\n",
       "0                   109465  ...   \n",
       "1                    33522  ...   \n",
       "2                    85562  ...   \n",
       "3                    13136  ...   \n",
       "4                   120312  ...   \n",
       "\n",
       "   Percentage of Houses having grass or thatch or bamboo etc. as material of wall  \\\n",
       "0                                           0.246654                                \n",
       "1                                           0.205835                                \n",
       "2                                           0.156612                                \n",
       "3                                           0.373021                                \n",
       "4                                           0.341612                                \n",
       "\n",
       "   Percentage of Houses having plastic or polythene as material of wall  \\\n",
       "0                                           1.215914                      \n",
       "1                                           0.360957                      \n",
       "2                                           0.197518                      \n",
       "3                                           0.205542                      \n",
       "4                                           0.143793                      \n",
       "\n",
       "   Percentage of Houses having mud or unburnt brick as material of wall  \\\n",
       "0                                          20.746357                      \n",
       "1                                          20.306068                      \n",
       "2                                           8.384563                      \n",
       "3                                           7.117844                      \n",
       "4                                          15.965157                      \n",
       "\n",
       "   Percentage of Houses having wood as material of wall  \\\n",
       "0                                           2.753391      \n",
       "1                                           0.366923      \n",
       "2                                           1.121993      \n",
       "3                                           0.182704      \n",
       "4                                           2.683024      \n",
       "\n",
       "   Percentage of Houses having stone not packed with mortar as material of wall  \\\n",
       "0                                           2.771662                              \n",
       "1                                           0.799475                              \n",
       "2                                           0.874220                              \n",
       "3                                           1.423569                              \n",
       "4                                          10.433706                              \n",
       "\n",
       "   Percentage of Houses having stone packed with mortar as material of wall  \\\n",
       "0                                           0.438496                          \n",
       "1                                           0.277430                          \n",
       "2                                           0.357635                          \n",
       "3                                           0.228380                          \n",
       "4                                           4.554824                          \n",
       "\n",
       "   Percentage of Houses having galvanized iron (gi) sheets or metal or asbestos sheets as material of wall  \\\n",
       "0                                           0.209199                                                         \n",
       "1                                           0.292345                                                         \n",
       "2                                           0.251280                                                         \n",
       "3                                           0.296894                                                         \n",
       "4                                           1.446240                                                         \n",
       "\n",
       "   Percentage of Houses having burnt brick as material of wall  \\\n",
       "0                                          69.637784             \n",
       "1                                          70.965336             \n",
       "2                                          85.717959             \n",
       "3                                          86.000305             \n",
       "4                                          60.415420             \n",
       "\n",
       "   Percentage of Houses having concrete as material of wall  \\\n",
       "0                                           1.278948          \n",
       "1                                           5.650021          \n",
       "2                                           1.185106          \n",
       "3                                           3.456151          \n",
       "4                                           1.760423          \n",
       "\n",
       "   Percentage of Houses having any other material of wall  \n",
       "0                                           0.701594       \n",
       "1                                           0.775610       \n",
       "2                                           1.751946       \n",
       "3                                           0.715591       \n",
       "4                                           2.256633       \n",
       "\n",
       "[5 rows x 30 columns]"
      ]
     },
     "execution_count": 2,
     "metadata": {},
     "output_type": "execute_result"
    }
   ],
   "source": [
    "#converting our csv file into a pandas dataframe for successful EDA\n",
    "df = pd.read_excel('NDAP_percentage_file.xlsx') #reading csv file into \"df\" dataframe\n",
    "#df_new = pd.read_excel('NDAP_percentage_file.xlsx')\n",
    "df = df.fillna(0) # filling all blank percentage cells as zero because their corresponding housing data had zero as the cell value\n",
    "df.head() #df.head() gives us a preview of the first few rows of the dataframe"
   ]
  },
  {
   "cell_type": "markdown",
   "id": "78a80de1",
   "metadata": {},
   "source": [
    "### Filtering the data column we require from our dataset file"
   ]
  },
  {
   "cell_type": "code",
   "execution_count": 3,
   "id": "bc168ed1",
   "metadata": {},
   "outputs": [],
   "source": [
    "df_1=df.filter(['Percentage of Houses having mud or unburnt brick as material of wall']) #only filtering the 'percentage of houses with mud or unburnt brick' column we require "
   ]
  },
  {
   "cell_type": "code",
   "execution_count": 4,
   "id": "ace2166c",
   "metadata": {},
   "outputs": [
    {
     "data": {
      "text/html": [
       "<div>\n",
       "<style scoped>\n",
       "    .dataframe tbody tr th:only-of-type {\n",
       "        vertical-align: middle;\n",
       "    }\n",
       "\n",
       "    .dataframe tbody tr th {\n",
       "        vertical-align: top;\n",
       "    }\n",
       "\n",
       "    .dataframe thead th {\n",
       "        text-align: right;\n",
       "    }\n",
       "</style>\n",
       "<table border=\"1\" class=\"dataframe\">\n",
       "  <thead>\n",
       "    <tr style=\"text-align: right;\">\n",
       "      <th></th>\n",
       "      <th>Percentage of Houses having mud or unburnt brick as material of wall</th>\n",
       "    </tr>\n",
       "  </thead>\n",
       "  <tbody>\n",
       "    <tr>\n",
       "      <th>0</th>\n",
       "      <td>20.746357</td>\n",
       "    </tr>\n",
       "    <tr>\n",
       "      <th>1</th>\n",
       "      <td>20.306068</td>\n",
       "    </tr>\n",
       "    <tr>\n",
       "      <th>2</th>\n",
       "      <td>8.384563</td>\n",
       "    </tr>\n",
       "    <tr>\n",
       "      <th>3</th>\n",
       "      <td>7.117844</td>\n",
       "    </tr>\n",
       "    <tr>\n",
       "      <th>4</th>\n",
       "      <td>15.965157</td>\n",
       "    </tr>\n",
       "  </tbody>\n",
       "</table>\n",
       "</div>"
      ],
      "text/plain": [
       "   Percentage of Houses having mud or unburnt brick as material of wall\n",
       "0                                          20.746357                   \n",
       "1                                          20.306068                   \n",
       "2                                           8.384563                   \n",
       "3                                           7.117844                   \n",
       "4                                          15.965157                   "
      ]
     },
     "execution_count": 4,
     "metadata": {},
     "output_type": "execute_result"
    }
   ],
   "source": [
    "df_1.head()#preview of filtered dataset"
   ]
  },
  {
   "cell_type": "code",
   "execution_count": 5,
   "id": "ca047ada",
   "metadata": {},
   "outputs": [
    {
     "name": "stdout",
     "output_type": "stream",
     "text": [
      "Number of rows in the dataframe = 1468\n"
     ]
    }
   ],
   "source": [
    "print('Number of rows in the dataframe = '+str(df.shape[0])) #shape parameter 0 refers to the rows of the dataframe"
   ]
  },
  {
   "cell_type": "code",
   "execution_count": 6,
   "id": "a960936f",
   "metadata": {
    "scrolled": false
   },
   "outputs": [
    {
     "name": "stdout",
     "output_type": "stream",
     "text": [
      "      Percentage of Houses having mud or unburnt brick as material of wall\n",
      "531                                            0.000000                   \n",
      "198                                            0.000000                   \n",
      "525                                            0.000000                   \n",
      "1380                                           0.000000                   \n",
      "579                                            0.000000                   \n",
      "...                                                 ...                   \n",
      "777                                           93.744415                   \n",
      "902                                           95.713339                   \n",
      "916                                           96.460369                   \n",
      "936                                           96.460819                   \n",
      "934                                           96.461278                   \n",
      "\n",
      "[1468 rows x 1 columns]\n"
     ]
    }
   ],
   "source": [
    "df_1 = df_1.sort_values(by=['Percentage of Houses having mud or unburnt brick as material of wall'], ascending = True)\n",
    "print(df_1) #sorting the values in our column"
   ]
  },
  {
   "cell_type": "markdown",
   "id": "0d651e72",
   "metadata": {},
   "source": [
    "### a)Examine Q-Q plots for Gaussian and uniform distributions, and visually assess which of the two is abetter fit"
   ]
  },
  {
   "cell_type": "markdown",
   "id": "40840249",
   "metadata": {},
   "source": [
    "##### QQ plot for Gaussian Distribution"
   ]
  },
  {
   "cell_type": "code",
   "execution_count": 7,
   "id": "3d34829e",
   "metadata": {
    "scrolled": true
   },
   "outputs": [
    {
     "data": {
      "image/png": "[encoded data removed]",
      "text/plain": [
       "<Figure size 432x288 with 1 Axes>"
      ]
     },
     "metadata": {
      "needs_background": "light"
     },
     "output_type": "display_data"
    }
   ],
   "source": [
    "n = 1468 #number of enteries in our cleaned dataset\n",
    "observation = df_1['Percentage of Houses having mud or unburnt brick as material of wall']/n  #mean of data values\n",
    "  \n",
    "z = (observation-np.mean(observation))/np.std(observation) #gaussian test statistic computation for the values of our datatset\n",
    "  \n",
    "stats.probplot(z, dist=\"norm\", plot=plt) #ploting the qq plot ofor our datset\n",
    "plt.title(\"Normal Q-Q plot\") #adding title to our plot\n",
    "\n",
    "plt.show()#displaying plot\n"
   ]
  },
  {
   "cell_type": "markdown",
   "id": "c97ba1f8",
   "metadata": {},
   "source": [
    "Right skewed\n",
    "can check with displot\n",
    "displotr confirms"
   ]
  },
  {
   "cell_type": "code",
   "execution_count": 8,
   "id": "26a57731",
   "metadata": {},
   "outputs": [
    {
     "name": "stderr",
     "output_type": "stream",
     "text": [
      "C:\\Users\\postn\\anaconda3\\lib\\site-packages\\seaborn\\distributions.py:2619: FutureWarning: `distplot` is a deprecated function and will be removed in a future version. Please adapt your code to use either `displot` (a figure-level function with similar flexibility) or `histplot` (an axes-level function for histograms).\n",
      "  warnings.warn(msg, FutureWarning)\n"
     ]
    },
    {
     "data": {
      "text/plain": [
       "<AxesSubplot:xlabel='Percentage of Houses having mud or unburnt brick as material of wall', ylabel='Density'>"
      ]
     },
     "execution_count": 8,
     "metadata": {},
     "output_type": "execute_result"
    },
    {
     "data": {
      "image/png": "[encoded data removed]",
      "text/plain": [
       "<Figure size 432x288 with 1 Axes>"
      ]
     },
     "metadata": {
      "needs_background": "light"
     },
     "output_type": "display_data"
    }
   ],
   "source": [
    "sns.distplot(z) #plotting histogram to just analytically visualize our dataset"
   ]
  },
  {
   "cell_type": "markdown",
   "id": "4925c4a0",
   "metadata": {},
   "source": [
    "##### QQ plot for Normal Distribution"
   ]
  },
  {
   "cell_type": "code",
   "execution_count": 9,
   "id": "cf0fbe7d",
   "metadata": {},
   "outputs": [
    {
     "data": {
      "image/png": "[encoded data removed]",
      "text/plain": [
       "<Figure size 432x288 with 1 Axes>"
      ]
     },
     "metadata": {
      "needs_background": "light"
     },
     "output_type": "display_data"
    }
   ],
   "source": [
    "observation = df_1['Percentage of Houses having mud or unburnt brick as material of wall']/100 #to scale the valueas of y coordiantes\n",
    "  \n",
    "stats.probplot(observation, dist=\"uniform\", plot=plt) # plotting qq plot for uniform distribution\n",
    "plt.title(\"Uniform Q-Q plot\") #adding title to plot\n",
    "\n",
    "plt.show()"
   ]
  },
  {
   "cell_type": "markdown",
   "id": "1c7e1f29",
   "metadata": {},
   "source": [
    "### b) Find out MLE parameter estimates for Gaussian distribution."
   ]
  },
  {
   "cell_type": "markdown",
   "id": "fa7d8002",
   "metadata": {},
   "source": [
    "For Gaussian, MLE parameters are μ and σ:\n",
    "\n",
    "their estimates are found by: \n",
    "\n",
    "$$ \\mu \\simeq x̄ = \\frac{\\Sigma x}{n}$$\n",
    "\n",
    "and\n",
    "\n",
    "$$ σ \\simeq S = \\sqrt\\frac{\\Sigma {(x_i - x̄)^2}}{n} $$"
   ]
  },
  {
   "cell_type": "markdown",
   "id": "eab2f4d6",
   "metadata": {},
   "source": [
    "**Estimating μ**"
   ]
  },
  {
   "cell_type": "code",
   "execution_count": 10,
   "id": "59b868dc",
   "metadata": {},
   "outputs": [
    {
     "name": "stdout",
     "output_type": "stream",
     "text": [
      "Mean =  20.523306244783704\n"
     ]
    }
   ],
   "source": [
    "sum_x = 0.0\n",
    "for i in range(n):\n",
    "    sum_x = sum_x + df_1.iloc[i]['Percentage of Houses having mud or unburnt brick as material of wall'] #summing up each cell entry of the dataset\n",
    "mu = sum_x/n #calculating mu\n",
    "print(\"Mean = \" , mu)"
   ]
  },
  {
   "cell_type": "code",
   "execution_count": 11,
   "id": "2236a21e",
   "metadata": {},
   "outputs": [
    {
     "name": "stdout",
     "output_type": "stream",
     "text": [
      "Mean = 20.523306244783704\n"
     ]
    }
   ],
   "source": [
    "mu_np = np.mean(df_1['Percentage of Houses having mud or unburnt brick as material of wall']) #using numpy function to calculate mu and cross check previous result\n",
    "print (\"Mean =\" , mu_np)"
   ]
  },
  {
   "cell_type": "markdown",
   "id": "dca62d94",
   "metadata": {},
   "source": [
    "**Estimating σ**"
   ]
  },
  {
   "cell_type": "code",
   "execution_count": 12,
   "id": "0bbf52d8",
   "metadata": {},
   "outputs": [
    {
     "name": "stdout",
     "output_type": "stream",
     "text": [
      "Standard Deviation = 20.98298931769971\n"
     ]
    }
   ],
   "source": [
    "std_np = np.std(df_1['Percentage of Houses having mud or unburnt brick as material of wall']) #using numpy function to calculate standard deviation\n",
    "print(\"Standard Deviation =\" , std_np)"
   ]
  },
  {
   "cell_type": "code",
   "execution_count": 13,
   "id": "1b5616b0",
   "metadata": {},
   "outputs": [
    {
     "name": "stdout",
     "output_type": "stream",
     "text": [
      "Standard Deviation = 20.98298931769971\n"
     ]
    }
   ],
   "source": [
    "sum_x2 = 0.0\n",
    "for i in range(n):\n",
    "    xi_mu = df_1.iloc[i]['Percentage of Houses having mud or unburnt brick as material of wall'] - mu #calculating deviation of cell entry from the data mean\n",
    "    sum_x2 = sum_x2 +  xi_mu **2 #calculating square sum of deviation\n",
    "sigma_sq = sum_x2/n\n",
    "std = sigma_sq ** 0.5 #calculating standard eviation from variance\n",
    "print(\"Standard Deviation =\" , std)"
   ]
  },
  {
   "cell_type": "markdown",
   "id": "2444d3de",
   "metadata": {},
   "source": [
    "### c)Find out MLE parameter estimates for uniform distribution. "
   ]
  },
  {
   "cell_type": "markdown",
   "id": "5b014d60",
   "metadata": {},
   "source": [
    "likelihood function for uniform distribution = $\\frac{1}{{(b-a)}^n}$\n",
    "\n",
    "a = min($x_i$)\n",
    "\n",
    "b = max($x_i$)"
   ]
  },
  {
   "cell_type": "code",
   "execution_count": 14,
   "id": "b3f2bc81",
   "metadata": {},
   "outputs": [
    {
     "name": "stdout",
     "output_type": "stream",
     "text": [
      "a =  0.0\n"
     ]
    }
   ],
   "source": [
    "a = df_1['Percentage of Houses having mud or unburnt brick as material of wall'].loc[df['Percentage of Houses having mud or unburnt brick as material of wall'].idxmin()]      # Minimum in column\n",
    "print(\"a = \" ,a)"
   ]
  },
  {
   "cell_type": "code",
   "execution_count": 15,
   "id": "2059c1ba",
   "metadata": {},
   "outputs": [
    {
     "name": "stdout",
     "output_type": "stream",
     "text": [
      "b =  96.4612778406356\n"
     ]
    }
   ],
   "source": [
    "b = df_1['Percentage of Houses having mud or unburnt brick as material of wall'].loc[df['Percentage of Houses having mud or unburnt brick as material of wall'].idxmax()]      # Maximum in column\n",
    "print(\"b = \" ,b)"
   ]
  },
  {
   "cell_type": "markdown",
   "id": "6d122b41",
   "metadata": {},
   "source": [
    "### d) Between Gaussian and uniform with MLE parameters, determine the one that is more likely toexplain the observed data. "
   ]
  },
  {
   "cell_type": "markdown",
   "id": "4c4e7112",
   "metadata": {},
   "source": [
    "**Calculating negataive sum log likelihood value for normal distribution**"
   ]
  },
  {
   "cell_type": "code",
   "execution_count": 16,
   "id": "ab4675a8",
   "metadata": {},
   "outputs": [
    {
     "name": "stdout",
     "output_type": "stream",
     "text": [
      "6551.171095750125\n"
     ]
    }
   ],
   "source": [
    "log_sum_norm =0 #to store negative log sum of terms of the likelihood function for a normal distribution\n",
    "for i in range(n): #looping over all cell entries of the column\n",
    "    x_i = df_1.iloc[i]['Percentage of Houses having mud or unburnt brick as material of wall'] #extracting cell value\n",
    "    val = stats.norm.pdf(x_i, mu, std) #finding corresponding pdf value\n",
    "    log_sum_norm = log_sum_norm - math.log(val) #calculating negative sum of log of pdf value for each entry\n",
    "print(log_sum_norm) #printing final sum "
   ]
  },
  {
   "cell_type": "markdown",
   "id": "af092eee",
   "metadata": {},
   "source": [
    "**Calculating negative sum of log likelihood value for normal function**"
   ]
  },
  {
   "cell_type": "code",
   "execution_count": 17,
   "id": "2216308b",
   "metadata": {},
   "outputs": [
    {
     "name": "stdout",
     "output_type": "stream",
     "text": [
      "6707.499959692815\n"
     ]
    }
   ],
   "source": [
    "log_sum_uni = 0 #to store negative log sum of terms of the likelihood function for a uniform distribution\n",
    "p_x = 1/ ( b-a)  # pdf value for each entry\n",
    "log_sum_uni = -1 * n * math.log(p_x)  #calculating negative sum of log of pdf value for each entry\n",
    "print(log_sum_uni)  #printing final sum "
   ]
  },
  {
   "cell_type": "markdown",
   "id": "cc75705d",
   "metadata": {},
   "source": [
    "We can observe that log_sum_uni $>$ log_sum_norm \n",
    "\n",
    "Therefore, the normal distribution better explains the observed data as we have calculated the negative sum of log likelihood"
   ]
  },
  {
   "cell_type": "markdown",
   "id": "70efa9a9",
   "metadata": {},
   "source": [
    "## Question 2\n",
    "\n",
    "### Assume there is a new type of distribution called IQ (inverted quadratic) given by p(x) = 0.75 (1-x2) for |x| ≤ 1and p(x) = 0 for |x|>1."
   ]
  },
  {
   "cell_type": "markdown",
   "id": "5eca02a5",
   "metadata": {},
   "source": [
    "### a)Write a python function to generate Q-Q plot for input samples with respect to the IQ function and use it for the percentage of houses made of 'mud or unburnt bricks' data"
   ]
  },
  {
   "cell_type": "code",
   "execution_count": 18,
   "id": "42231a11",
   "metadata": {
    "scrolled": true
   },
   "outputs": [
    {
     "name": "stdout",
     "output_type": "stream",
     "text": [
      "Note: you may need to restart the kernel to use updated packages.\n"
     ]
    },
    {
     "name": "stderr",
     "output_type": "stream",
     "text": [
      "ERROR: Invalid requirement: '#installling'\n"
     ]
    }
   ],
   "source": [
    "pip install pynverse #installling pyinverse package to calculate inverse of cdf"
   ]
  },
  {
   "cell_type": "markdown",
   "id": "4e1147fc",
   "metadata": {},
   "source": [
    "First, we'll have to find cdf of our function and its inverse (so we can enter percentile value (of area) and get the corresponding point on curve.\n",
    "\n",
    "For x ϵ (-∞, -1] ⋃ [1, ∞), \n",
    "$$ cdf = 0 $$\n",
    "\n",
    "For x ϵ [-1, 1],\n",
    "$$ f(x) = \\frac{3}{4}\\cdot (1 - x^2)$$\n",
    "$$ cdf = \\int_{-1}^{x}f(x) dx $$\n",
    "$$ cdf(x) = F(x) = \\frac{3}{4} \\cdot (x - \\frac{x^3}{3}) + \\frac{1}{2} $$\n",
    "$$ $$"
   ]
  },
  {
   "cell_type": "markdown",
   "id": "d8d50b79",
   "metadata": {},
   "source": [
    "**Writing a python function to calculate the inverse of cdf required for the theoretical quantiles of QQ plot**"
   ]
  },
  {
   "cell_type": "code",
   "execution_count": 19,
   "id": "aa42cc3d",
   "metadata": {},
   "outputs": [],
   "source": [
    "from pynverse import inversefunc\n",
    "def inverse_val(v):\n",
    "    f_x = (lambda x: 0.75 * (x - (x**3)/3) + 0.5) #defing our cdf function\n",
    "    inverse = inversefunc(f_x,  domain=[-1, 1]) #restricting domain between -1 to 1 \n",
    "    return inverse(v) #returing inverse value"
   ]
  },
  {
   "cell_type": "code",
   "execution_count": 20,
   "id": "37789664",
   "metadata": {},
   "outputs": [],
   "source": [
    "x = []\n",
    "for i in range(n):\n",
    "    x_i = inverse_val(i/n) #calculating inverse of cdf for the n divsions between 0 and 1\n",
    "    x.append(x_i) #storing them all in a list"
   ]
  },
  {
   "cell_type": "code",
   "execution_count": 21,
   "id": "65cc851e",
   "metadata": {},
   "outputs": [
    {
     "data": {
      "text/plain": [
       "Text(0.5, 1.0, 'QQ Plot')"
      ]
     },
     "execution_count": 21,
     "metadata": {},
     "output_type": "execute_result"
    },
    {
     "data": {
      "image/png": "[encoded data removed]",
      "text/plain": [
       "<Figure size 432x288 with 1 Axes>"
      ]
     },
     "metadata": {
      "needs_background": "light"
     },
     "output_type": "display_data"
    }
   ],
   "source": [
    "y = df_1['Percentage of Houses having mud or unburnt brick as material of wall']\n",
    "plt.scatter(x, y, c =\"blue\") #creating a scatter plot of the datavalues against the theoretical values of given function\n",
    "\n",
    "#assigning x and y labels\n",
    "plt.xlabel('Theoretical Quantiles')\n",
    "plt.ylabel('Ordered Values')\n",
    "\n",
    "#assigning title\n",
    "plt.title('QQ Plot')"
   ]
  },
  {
   "cell_type": "markdown",
   "id": "fc3c2eeb",
   "metadata": {},
   "source": [
    "### c) Write a python function that returns the MLE estimates of the parameters given a column of data.  "
   ]
  },
  {
   "cell_type": "code",
   "execution_count": 22,
   "id": "7839894b",
   "metadata": {},
   "outputs": [],
   "source": [
    "c, k = sym.symbols('c k') #defining shifting and scaling variables"
   ]
  },
  {
   "cell_type": "code",
   "execution_count": null,
   "id": "0643491a",
   "metadata": {},
   "outputs": [],
   "source": [
    "eq1 = 0\n",
    "eq2 = 0\n",
    "for i in range (51,55):\n",
    "    x_i = df_1.iloc[i]['Percentage of Houses having mud or unburnt brick as material of wall']\n",
    "    print(x_i)\n",
    "    eq1 = eq1 + 1/(k + (x_i - c)) - 1/(k - (x_i - c))\n",
    "    eq2 = eq2 - 3/k + 1/(k + (x_i - c)) + 1/(k - (x_i - c))\n",
    "print(eq1)\n",
    "print(eq2)\n",
    "eq_c = sym.Eq(eq1, 0)\n",
    "eq_k = sym.Eq(eq2, 0)\n",
    "sol_dict = sym.solve((eq_c,eq_k), (c, k))\n",
    "c = sol_dict[c]\n",
    "k = sol_dict[k]\n",
    "print(f'c = {sol_dict[c]}')\n",
    "print(f'k = {sol_dict[k]}')"
   ]
  },
  {
   "cell_type": "markdown",
   "id": "dd11a244",
   "metadata": {},
   "source": [
    "Here the above code has been written using the sympy package that is used to solve equations.\n",
    "\n",
    "Due to the large number of data values it is taking a lot of time to solve for the required c and k.\n",
    "\n",
    "Once we get the solutions we can just plug it in the following function that calculates log likelihood to get the log likelihood value of the data."
   ]
  },
  {
   "cell_type": "markdown",
   "id": "2ae2c0ee",
   "metadata": {},
   "source": [
    "### d) Write a python function to compute data log likelihood for the parameterized IQ function, and use it to compute the log likelihood of the data from Q1 for the MLE estimate parameters."
   ]
  },
  {
   "cell_type": "code",
   "execution_count": 23,
   "id": "b66f07d8",
   "metadata": {},
   "outputs": [],
   "source": [
    "def log_likelihood(c, k): #defining a function calculate log likelihood value that takes the mle parameters as input\n",
    "    sum_log = 0 \n",
    "    for i in range (n): #looping over each cell entry\n",
    "        x_i = df_1.iloc[i]['Percentage of Houses having mud or unburnt brick as material of wall'] #extracting cell value\n",
    "        fx_i = 0.75 * (k**2 - (x_i - c)**2) /(k**3)  #calculating pdf\n",
    "        sum_log = sum_log + math.log(fx_i) #summing up log value of pdf\n",
    "    return (sum_log) #returing log likelihood value"
   ]
  },
  {
   "cell_type": "code",
   "execution_count": null,
   "id": "4efc407f",
   "metadata": {},
   "outputs": [],
   "source": [
    "log_likelihood_val = log_likelihood(c,k) #calling the log likelihood function by passing the required parameters\n",
    "print(f'log likelihood of the data is ', log_likelihood_val) #printing the final result"
   ]
  },
  {
   "cell_type": "markdown",
   "id": "49d1e1e2",
   "metadata": {},
   "source": [
    "The above two lines of code call the function that calculates the log likelihood value using the calculated MLE parameters c and k."
   ]
  },
  {
   "cell_type": "markdown",
   "id": "c7b23bce",
   "metadata": {},
   "source": [
    "## Question 3"
   ]
  },
  {
   "cell_type": "markdown",
   "id": "347d21a5",
   "metadata": {},
   "source": [
    "### a) Determine if the percent of houses across districts with “mud or unburnt brick” is really larger for rural versus urban in the housing data"
   ]
  },
  {
   "cell_type": "markdown",
   "id": "b51c665c",
   "metadata": {},
   "source": [
    "Here since we do not know the exact distribution of our data we will perform a non parametric test.\n",
    "\n",
    "Now from the question we can infer that the predictor is **Categorical Binary**, here *Rural vs Urban* and the outcome is numerically unpaired since we know that the housing in the urban vs rural areas is independent of the other.\n",
    "\n",
    "Therefore we chose to perform the Wilcoxon rank-sum test.\n",
    "\n",
    "The Wilcoxon rank-sum test tests the null hypothesis that two sets of measurements are drawn from the same distribution. The alternative hypothesis is that values in one sample are more likely to be larger than the values in the other sample."
   ]
  },
  {
   "cell_type": "code",
   "execution_count": 24,
   "id": "37f3d0fa",
   "metadata": {},
   "outputs": [
    {
     "data": {
      "text/html": [
       "<div>\n",
       "<style scoped>\n",
       "    .dataframe tbody tr th:only-of-type {\n",
       "        vertical-align: middle;\n",
       "    }\n",
       "\n",
       "    .dataframe tbody tr th {\n",
       "        vertical-align: top;\n",
       "    }\n",
       "\n",
       "    .dataframe thead th {\n",
       "        text-align: right;\n",
       "    }\n",
       "</style>\n",
       "<table border=\"1\" class=\"dataframe\">\n",
       "  <thead>\n",
       "    <tr style=\"text-align: right;\">\n",
       "      <th></th>\n",
       "      <th>District</th>\n",
       "      <th>Type of residence namely rural or urban</th>\n",
       "      <th>Percentage of Houses having mud or unburnt brick as material of wall</th>\n",
       "    </tr>\n",
       "  </thead>\n",
       "  <tbody>\n",
       "    <tr>\n",
       "      <th>0</th>\n",
       "      <td>Anantnag</td>\n",
       "      <td>Rural</td>\n",
       "      <td>20.746357</td>\n",
       "    </tr>\n",
       "    <tr>\n",
       "      <th>1</th>\n",
       "      <td>Anantnag</td>\n",
       "      <td>Urban</td>\n",
       "      <td>20.306068</td>\n",
       "    </tr>\n",
       "    <tr>\n",
       "      <th>2</th>\n",
       "      <td>Budgam</td>\n",
       "      <td>Rural</td>\n",
       "      <td>8.384563</td>\n",
       "    </tr>\n",
       "    <tr>\n",
       "      <th>3</th>\n",
       "      <td>Budgam</td>\n",
       "      <td>Urban</td>\n",
       "      <td>7.117844</td>\n",
       "    </tr>\n",
       "    <tr>\n",
       "      <th>4</th>\n",
       "      <td>Baramulla</td>\n",
       "      <td>Rural</td>\n",
       "      <td>15.965157</td>\n",
       "    </tr>\n",
       "    <tr>\n",
       "      <th>...</th>\n",
       "      <td>...</td>\n",
       "      <td>...</td>\n",
       "      <td>...</td>\n",
       "    </tr>\n",
       "    <tr>\n",
       "      <th>1463</th>\n",
       "      <td>Daman</td>\n",
       "      <td>Urban</td>\n",
       "      <td>1.005856</td>\n",
       "    </tr>\n",
       "    <tr>\n",
       "      <th>1464</th>\n",
       "      <td>Diu</td>\n",
       "      <td>Rural</td>\n",
       "      <td>0.924214</td>\n",
       "    </tr>\n",
       "    <tr>\n",
       "      <th>1465</th>\n",
       "      <td>Diu</td>\n",
       "      <td>Urban</td>\n",
       "      <td>0.113658</td>\n",
       "    </tr>\n",
       "    <tr>\n",
       "      <th>1466</th>\n",
       "      <td>Dadra And Nagar Haveli</td>\n",
       "      <td>Rural</td>\n",
       "      <td>13.948825</td>\n",
       "    </tr>\n",
       "    <tr>\n",
       "      <th>1467</th>\n",
       "      <td>Dadra And Nagar Haveli</td>\n",
       "      <td>Urban</td>\n",
       "      <td>4.427035</td>\n",
       "    </tr>\n",
       "  </tbody>\n",
       "</table>\n",
       "<p>1468 rows × 3 columns</p>\n",
       "</div>"
      ],
      "text/plain": [
       "                    District Type of residence namely rural or urban  \\\n",
       "0                   Anantnag                                   Rural   \n",
       "1                   Anantnag                                   Urban   \n",
       "2                     Budgam                                   Rural   \n",
       "3                     Budgam                                   Urban   \n",
       "4                  Baramulla                                   Rural   \n",
       "...                      ...                                     ...   \n",
       "1463                   Daman                                   Urban   \n",
       "1464                     Diu                                   Rural   \n",
       "1465                     Diu                                   Urban   \n",
       "1466  Dadra And Nagar Haveli                                   Rural   \n",
       "1467  Dadra And Nagar Haveli                                   Urban   \n",
       "\n",
       "      Percentage of Houses having mud or unburnt brick as material of wall  \n",
       "0                                             20.746357                     \n",
       "1                                             20.306068                     \n",
       "2                                              8.384563                     \n",
       "3                                              7.117844                     \n",
       "4                                             15.965157                     \n",
       "...                                                 ...                     \n",
       "1463                                           1.005856                     \n",
       "1464                                           0.924214                     \n",
       "1465                                           0.113658                     \n",
       "1466                                          13.948825                     \n",
       "1467                                           4.427035                     \n",
       "\n",
       "[1468 rows x 3 columns]"
      ]
     },
     "metadata": {},
     "output_type": "display_data"
    }
   ],
   "source": [
    "#filtering the columns we require\n",
    "df_2=df.filter(['District', 'Type of residence namely rural or urban', 'Percentage of Houses having mud or unburnt brick as material of wall'])\n",
    "display(df_2)"
   ]
  },
  {
   "cell_type": "code",
   "execution_count": 25,
   "id": "5111adf5",
   "metadata": {},
   "outputs": [],
   "source": [
    "# grouping into two datasets\n",
    "df_rural, df_urban = [x for _, x in df_2.groupby(df_2['Type of residence namely rural or urban'])]"
   ]
  },
  {
   "cell_type": "code",
   "execution_count": 26,
   "id": "846d3ec1",
   "metadata": {},
   "outputs": [
    {
     "data": {
      "text/html": [
       "<div>\n",
       "<style scoped>\n",
       "    .dataframe tbody tr th:only-of-type {\n",
       "        vertical-align: middle;\n",
       "    }\n",
       "\n",
       "    .dataframe tbody tr th {\n",
       "        vertical-align: top;\n",
       "    }\n",
       "\n",
       "    .dataframe thead th {\n",
       "        text-align: right;\n",
       "    }\n",
       "</style>\n",
       "<table border=\"1\" class=\"dataframe\">\n",
       "  <thead>\n",
       "    <tr style=\"text-align: right;\">\n",
       "      <th></th>\n",
       "      <th>District</th>\n",
       "      <th>Type of residence namely rural or urban</th>\n",
       "      <th>Percentage of Houses having mud or unburnt brick as material of wall</th>\n",
       "    </tr>\n",
       "  </thead>\n",
       "  <tbody>\n",
       "    <tr>\n",
       "      <th>0</th>\n",
       "      <td>Anantnag</td>\n",
       "      <td>Rural</td>\n",
       "      <td>20.746357</td>\n",
       "    </tr>\n",
       "    <tr>\n",
       "      <th>2</th>\n",
       "      <td>Budgam</td>\n",
       "      <td>Rural</td>\n",
       "      <td>8.384563</td>\n",
       "    </tr>\n",
       "    <tr>\n",
       "      <th>4</th>\n",
       "      <td>Baramulla</td>\n",
       "      <td>Rural</td>\n",
       "      <td>15.965157</td>\n",
       "    </tr>\n",
       "    <tr>\n",
       "      <th>6</th>\n",
       "      <td>Doda</td>\n",
       "      <td>Rural</td>\n",
       "      <td>4.367594</td>\n",
       "    </tr>\n",
       "    <tr>\n",
       "      <th>8</th>\n",
       "      <td>Jammu</td>\n",
       "      <td>Rural</td>\n",
       "      <td>10.070516</td>\n",
       "    </tr>\n",
       "    <tr>\n",
       "      <th>...</th>\n",
       "      <td>...</td>\n",
       "      <td>...</td>\n",
       "      <td>...</td>\n",
       "    </tr>\n",
       "    <tr>\n",
       "      <th>1458</th>\n",
       "      <td>Kargil</td>\n",
       "      <td>Rural</td>\n",
       "      <td>42.118897</td>\n",
       "    </tr>\n",
       "    <tr>\n",
       "      <th>1460</th>\n",
       "      <td>Leh Ladakh</td>\n",
       "      <td>Rural</td>\n",
       "      <td>59.006169</td>\n",
       "    </tr>\n",
       "    <tr>\n",
       "      <th>1462</th>\n",
       "      <td>Daman</td>\n",
       "      <td>Rural</td>\n",
       "      <td>3.596730</td>\n",
       "    </tr>\n",
       "    <tr>\n",
       "      <th>1464</th>\n",
       "      <td>Diu</td>\n",
       "      <td>Rural</td>\n",
       "      <td>0.924214</td>\n",
       "    </tr>\n",
       "    <tr>\n",
       "      <th>1466</th>\n",
       "      <td>Dadra And Nagar Haveli</td>\n",
       "      <td>Rural</td>\n",
       "      <td>13.948825</td>\n",
       "    </tr>\n",
       "  </tbody>\n",
       "</table>\n",
       "<p>734 rows × 3 columns</p>\n",
       "</div>"
      ],
      "text/plain": [
       "                    District Type of residence namely rural or urban  \\\n",
       "0                   Anantnag                                   Rural   \n",
       "2                     Budgam                                   Rural   \n",
       "4                  Baramulla                                   Rural   \n",
       "6                       Doda                                   Rural   \n",
       "8                      Jammu                                   Rural   \n",
       "...                      ...                                     ...   \n",
       "1458                  Kargil                                   Rural   \n",
       "1460              Leh Ladakh                                   Rural   \n",
       "1462                   Daman                                   Rural   \n",
       "1464                     Diu                                   Rural   \n",
       "1466  Dadra And Nagar Haveli                                   Rural   \n",
       "\n",
       "      Percentage of Houses having mud or unburnt brick as material of wall  \n",
       "0                                             20.746357                     \n",
       "2                                              8.384563                     \n",
       "4                                             15.965157                     \n",
       "6                                              4.367594                     \n",
       "8                                             10.070516                     \n",
       "...                                                 ...                     \n",
       "1458                                          42.118897                     \n",
       "1460                                          59.006169                     \n",
       "1462                                           3.596730                     \n",
       "1464                                           0.924214                     \n",
       "1466                                          13.948825                     \n",
       "\n",
       "[734 rows x 3 columns]"
      ]
     },
     "metadata": {},
     "output_type": "display_data"
    }
   ],
   "source": [
    "display(df_rural)"
   ]
  },
  {
   "cell_type": "markdown",
   "id": "3c7620cf",
   "metadata": {},
   "source": [
    "##### display:"
   ]
  },
  {
   "cell_type": "code",
   "execution_count": 27,
   "id": "3d963dcf",
   "metadata": {
    "scrolled": false
   },
   "outputs": [
    {
     "data": {
      "text/html": [
       "<div>\n",
       "<style scoped>\n",
       "    .dataframe tbody tr th:only-of-type {\n",
       "        vertical-align: middle;\n",
       "    }\n",
       "\n",
       "    .dataframe tbody tr th {\n",
       "        vertical-align: top;\n",
       "    }\n",
       "\n",
       "    .dataframe thead th {\n",
       "        text-align: right;\n",
       "    }\n",
       "</style>\n",
       "<table border=\"1\" class=\"dataframe\">\n",
       "  <thead>\n",
       "    <tr style=\"text-align: right;\">\n",
       "      <th></th>\n",
       "      <th>District</th>\n",
       "      <th>Type of residence namely rural or urban</th>\n",
       "      <th>Percentage of Houses having mud or unburnt brick as material of wall</th>\n",
       "    </tr>\n",
       "  </thead>\n",
       "  <tbody>\n",
       "    <tr>\n",
       "      <th>1</th>\n",
       "      <td>Anantnag</td>\n",
       "      <td>Urban</td>\n",
       "      <td>20.306068</td>\n",
       "    </tr>\n",
       "    <tr>\n",
       "      <th>3</th>\n",
       "      <td>Budgam</td>\n",
       "      <td>Urban</td>\n",
       "      <td>7.117844</td>\n",
       "    </tr>\n",
       "    <tr>\n",
       "      <th>5</th>\n",
       "      <td>Baramulla</td>\n",
       "      <td>Urban</td>\n",
       "      <td>14.729570</td>\n",
       "    </tr>\n",
       "    <tr>\n",
       "      <th>7</th>\n",
       "      <td>Doda</td>\n",
       "      <td>Urban</td>\n",
       "      <td>7.086093</td>\n",
       "    </tr>\n",
       "    <tr>\n",
       "      <th>9</th>\n",
       "      <td>Jammu</td>\n",
       "      <td>Urban</td>\n",
       "      <td>2.956932</td>\n",
       "    </tr>\n",
       "    <tr>\n",
       "      <th>...</th>\n",
       "      <td>...</td>\n",
       "      <td>...</td>\n",
       "      <td>...</td>\n",
       "    </tr>\n",
       "    <tr>\n",
       "      <th>1459</th>\n",
       "      <td>Kargil</td>\n",
       "      <td>Urban</td>\n",
       "      <td>39.638989</td>\n",
       "    </tr>\n",
       "    <tr>\n",
       "      <th>1461</th>\n",
       "      <td>Leh Ladakh</td>\n",
       "      <td>Urban</td>\n",
       "      <td>89.736544</td>\n",
       "    </tr>\n",
       "    <tr>\n",
       "      <th>1463</th>\n",
       "      <td>Daman</td>\n",
       "      <td>Urban</td>\n",
       "      <td>1.005856</td>\n",
       "    </tr>\n",
       "    <tr>\n",
       "      <th>1465</th>\n",
       "      <td>Diu</td>\n",
       "      <td>Urban</td>\n",
       "      <td>0.113658</td>\n",
       "    </tr>\n",
       "    <tr>\n",
       "      <th>1467</th>\n",
       "      <td>Dadra And Nagar Haveli</td>\n",
       "      <td>Urban</td>\n",
       "      <td>4.427035</td>\n",
       "    </tr>\n",
       "  </tbody>\n",
       "</table>\n",
       "<p>734 rows × 3 columns</p>\n",
       "</div>"
      ],
      "text/plain": [
       "                    District Type of residence namely rural or urban  \\\n",
       "1                   Anantnag                                   Urban   \n",
       "3                     Budgam                                   Urban   \n",
       "5                  Baramulla                                   Urban   \n",
       "7                       Doda                                   Urban   \n",
       "9                      Jammu                                   Urban   \n",
       "...                      ...                                     ...   \n",
       "1459                  Kargil                                   Urban   \n",
       "1461              Leh Ladakh                                   Urban   \n",
       "1463                   Daman                                   Urban   \n",
       "1465                     Diu                                   Urban   \n",
       "1467  Dadra And Nagar Haveli                                   Urban   \n",
       "\n",
       "      Percentage of Houses having mud or unburnt brick as material of wall  \n",
       "1                                             20.306068                     \n",
       "3                                              7.117844                     \n",
       "5                                             14.729570                     \n",
       "7                                              7.086093                     \n",
       "9                                              2.956932                     \n",
       "...                                                 ...                     \n",
       "1459                                          39.638989                     \n",
       "1461                                          89.736544                     \n",
       "1463                                           1.005856                     \n",
       "1465                                           0.113658                     \n",
       "1467                                           4.427035                     \n",
       "\n",
       "[734 rows x 3 columns]"
      ]
     },
     "metadata": {},
     "output_type": "display_data"
    }
   ],
   "source": [
    "display(df_urban)"
   ]
  },
  {
   "cell_type": "markdown",
   "id": "c5dad55b",
   "metadata": {},
   "source": [
    "The p-value of less than 0.05 indicates that this test rejects the hypothesis at the 5% significance level.\n",
    "\n",
    "Here we take the\n",
    "\n",
    "Null hypotheis$(H_0)$ as both the rural and urban percentage of houses are of the same distribution\n",
    "\n",
    "and the \n",
    "\n",
    "Alternative hypthesis$(H_a)$ as the percent of houses across districts with 'mud or unburnt brick' is really larger for rural vs urban data in the housing data"
   ]
  },
  {
   "cell_type": "code",
   "execution_count": 28,
   "id": "ae7ca95b",
   "metadata": {},
   "outputs": [
    {
     "name": "stdout",
     "output_type": "stream",
     "text": [
      "p-value = 1.1508416650662189e-31\n"
     ]
    }
   ],
   "source": [
    "#wilcoxon rank sum test\n",
    "urban = df_urban['Percentage of Houses having mud or unburnt brick as material of wall']\n",
    "rural = df_rural['Percentage of Houses having mud or unburnt brick as material of wall']\n",
    "statistic, p = stats.ranksums(rural, urban, alternative='greater') #using python function to directly calculate test statistic and p value\n",
    "print (f'p-value =', p)"
   ]
  },
  {
   "cell_type": "markdown",
   "id": "39331831",
   "metadata": {},
   "source": [
    "Considering we take our $\\alpha$ = 0.05\n",
    "\n",
    "We can observe that the p value is way less than 0.05 and therefore we can easily reject our null hypotheis in favour of our alternative hypothesis.\n",
    "\n",
    "**Result :  The percent of houses across districts with 'mud or unburnt brick is really larger for Rural vs Urban data in the Housing dataset** "
   ]
  },
  {
   "cell_type": "markdown",
   "id": "8308498c",
   "metadata": {},
   "source": [
    "### b) Determine if either rural or urban percent of houses with “mud or unburnt brick” for the same district can be predicted using the other in the housing data."
   ]
  },
  {
   "cell_type": "markdown",
   "id": "8a98a3df",
   "metadata": {},
   "source": [
    "Here we want to know if we can predict the rural or urban percent of houses with 'mud or unburt bricks' for the same district using the data values of the rural or urban percent of houses with any other material of the wall.\n",
    "\n",
    "We are trying to find here if both the columns are related to each other not.\n",
    "Since both the columns are of Numerical type and we want to find if there is a relation between them or not we will chose to perform the Spearman's Correlation Test.\n",
    "\n",
    "\n",
    "The Spearman rank-order correlation coefficient is a nonparametric measure of the monotonicity of the relationship between two datasets. Unlike the Pearson correlation, the Spearman correlation does not assume that both datasets are normally distributed. Here we are unaware about the distribution of our dataset and therefore we chose to perform the spearman's correlation instead of Pearson's correlation test.\n",
    "\n",
    "Like other correlation coefficients, this one varies between -1 and +1 with 0 implying no correlation. Correlations of -1 or +1 imply an exact monotonic relationship. Positive correlations imply that as x increases, so does y. Negative correlations imply that as x increases, y decreases."
   ]
  },
  {
   "cell_type": "code",
   "execution_count": 29,
   "id": "15ef9ab2",
   "metadata": {},
   "outputs": [
    {
     "name": "stdout",
     "output_type": "stream",
     "text": [
      "the spearmann's coefficient is  0.6661330229946774  and the p value is 2.6234017244421608e-95\n"
     ]
    }
   ],
   "source": [
    "#performing the spearman's correlation test to calculate spearman's coefficient and p value\n",
    "coef, p = stats.spearmanr(urban,rural)\n",
    "print(\"the spearmann's coefficient is \", coef,\" and the p value is\", p)"
   ]
  },
  {
   "cell_type": "markdown",
   "id": "17913668",
   "metadata": {},
   "source": [
    "The coefficient value of 0.66 indicates that the rural and urban percentage of houses for the same district have a strong correlation and thep value being less than 0.05 tells us that we can easily reject our null hypothesis in favour of our alternate hypotheis that was that **we can use one housing data to predict the other for the same district**."
   ]
  },
  {
   "cell_type": "markdown",
   "id": "7c853bc0",
   "metadata": {},
   "source": [
    "### c) Determine if there is a relation between body style and drive wheels in the automobile data"
   ]
  },
  {
   "cell_type": "code",
   "execution_count": 30,
   "id": "bd2e4e06",
   "metadata": {},
   "outputs": [
    {
     "data": {
      "text/html": [
       "<div>\n",
       "<style scoped>\n",
       "    .dataframe tbody tr th:only-of-type {\n",
       "        vertical-align: middle;\n",
       "    }\n",
       "\n",
       "    .dataframe tbody tr th {\n",
       "        vertical-align: top;\n",
       "    }\n",
       "\n",
       "    .dataframe thead th {\n",
       "        text-align: right;\n",
       "    }\n",
       "</style>\n",
       "<table border=\"1\" class=\"dataframe\">\n",
       "  <thead>\n",
       "    <tr style=\"text-align: right;\">\n",
       "      <th></th>\n",
       "      <th>symboling</th>\n",
       "      <th>normalized-losses</th>\n",
       "      <th>make</th>\n",
       "      <th>fuel-type</th>\n",
       "      <th>aspiration</th>\n",
       "      <th>num-of-doors</th>\n",
       "      <th>body-style</th>\n",
       "      <th>drive-wheels</th>\n",
       "      <th>engine-location</th>\n",
       "      <th>wheel-base</th>\n",
       "      <th>...</th>\n",
       "      <th>engine-size</th>\n",
       "      <th>fuel-system</th>\n",
       "      <th>bore</th>\n",
       "      <th>stroke</th>\n",
       "      <th>compression-ratio</th>\n",
       "      <th>horsepower</th>\n",
       "      <th>peak-rpm</th>\n",
       "      <th>city-mpg</th>\n",
       "      <th>highway-mpg</th>\n",
       "      <th>price</th>\n",
       "    </tr>\n",
       "  </thead>\n",
       "  <tbody>\n",
       "    <tr>\n",
       "      <th>0</th>\n",
       "      <td>3</td>\n",
       "      <td>?</td>\n",
       "      <td>alfa-romero</td>\n",
       "      <td>gas</td>\n",
       "      <td>std</td>\n",
       "      <td>two</td>\n",
       "      <td>convertible</td>\n",
       "      <td>rwd</td>\n",
       "      <td>front</td>\n",
       "      <td>88.6</td>\n",
       "      <td>...</td>\n",
       "      <td>130</td>\n",
       "      <td>mpfi</td>\n",
       "      <td>3.47</td>\n",
       "      <td>2.68</td>\n",
       "      <td>9.0</td>\n",
       "      <td>111</td>\n",
       "      <td>5000</td>\n",
       "      <td>21</td>\n",
       "      <td>27</td>\n",
       "      <td>13495</td>\n",
       "    </tr>\n",
       "    <tr>\n",
       "      <th>1</th>\n",
       "      <td>3</td>\n",
       "      <td>?</td>\n",
       "      <td>alfa-romero</td>\n",
       "      <td>gas</td>\n",
       "      <td>std</td>\n",
       "      <td>two</td>\n",
       "      <td>convertible</td>\n",
       "      <td>rwd</td>\n",
       "      <td>front</td>\n",
       "      <td>88.6</td>\n",
       "      <td>...</td>\n",
       "      <td>130</td>\n",
       "      <td>mpfi</td>\n",
       "      <td>3.47</td>\n",
       "      <td>2.68</td>\n",
       "      <td>9.0</td>\n",
       "      <td>111</td>\n",
       "      <td>5000</td>\n",
       "      <td>21</td>\n",
       "      <td>27</td>\n",
       "      <td>16500</td>\n",
       "    </tr>\n",
       "    <tr>\n",
       "      <th>2</th>\n",
       "      <td>1</td>\n",
       "      <td>?</td>\n",
       "      <td>alfa-romero</td>\n",
       "      <td>gas</td>\n",
       "      <td>std</td>\n",
       "      <td>two</td>\n",
       "      <td>hatchback</td>\n",
       "      <td>rwd</td>\n",
       "      <td>front</td>\n",
       "      <td>94.5</td>\n",
       "      <td>...</td>\n",
       "      <td>152</td>\n",
       "      <td>mpfi</td>\n",
       "      <td>2.68</td>\n",
       "      <td>3.47</td>\n",
       "      <td>9.0</td>\n",
       "      <td>154</td>\n",
       "      <td>5000</td>\n",
       "      <td>19</td>\n",
       "      <td>26</td>\n",
       "      <td>16500</td>\n",
       "    </tr>\n",
       "    <tr>\n",
       "      <th>3</th>\n",
       "      <td>2</td>\n",
       "      <td>164</td>\n",
       "      <td>audi</td>\n",
       "      <td>gas</td>\n",
       "      <td>std</td>\n",
       "      <td>four</td>\n",
       "      <td>sedan</td>\n",
       "      <td>fwd</td>\n",
       "      <td>front</td>\n",
       "      <td>99.8</td>\n",
       "      <td>...</td>\n",
       "      <td>109</td>\n",
       "      <td>mpfi</td>\n",
       "      <td>3.19</td>\n",
       "      <td>3.4</td>\n",
       "      <td>10.0</td>\n",
       "      <td>102</td>\n",
       "      <td>5500</td>\n",
       "      <td>24</td>\n",
       "      <td>30</td>\n",
       "      <td>13950</td>\n",
       "    </tr>\n",
       "    <tr>\n",
       "      <th>4</th>\n",
       "      <td>2</td>\n",
       "      <td>164</td>\n",
       "      <td>audi</td>\n",
       "      <td>gas</td>\n",
       "      <td>std</td>\n",
       "      <td>four</td>\n",
       "      <td>sedan</td>\n",
       "      <td>4wd</td>\n",
       "      <td>front</td>\n",
       "      <td>99.4</td>\n",
       "      <td>...</td>\n",
       "      <td>136</td>\n",
       "      <td>mpfi</td>\n",
       "      <td>3.19</td>\n",
       "      <td>3.4</td>\n",
       "      <td>8.0</td>\n",
       "      <td>115</td>\n",
       "      <td>5500</td>\n",
       "      <td>18</td>\n",
       "      <td>22</td>\n",
       "      <td>17450</td>\n",
       "    </tr>\n",
       "    <tr>\n",
       "      <th>...</th>\n",
       "      <td>...</td>\n",
       "      <td>...</td>\n",
       "      <td>...</td>\n",
       "      <td>...</td>\n",
       "      <td>...</td>\n",
       "      <td>...</td>\n",
       "      <td>...</td>\n",
       "      <td>...</td>\n",
       "      <td>...</td>\n",
       "      <td>...</td>\n",
       "      <td>...</td>\n",
       "      <td>...</td>\n",
       "      <td>...</td>\n",
       "      <td>...</td>\n",
       "      <td>...</td>\n",
       "      <td>...</td>\n",
       "      <td>...</td>\n",
       "      <td>...</td>\n",
       "      <td>...</td>\n",
       "      <td>...</td>\n",
       "      <td>...</td>\n",
       "    </tr>\n",
       "    <tr>\n",
       "      <th>200</th>\n",
       "      <td>-1</td>\n",
       "      <td>95</td>\n",
       "      <td>volvo</td>\n",
       "      <td>gas</td>\n",
       "      <td>std</td>\n",
       "      <td>four</td>\n",
       "      <td>sedan</td>\n",
       "      <td>rwd</td>\n",
       "      <td>front</td>\n",
       "      <td>109.1</td>\n",
       "      <td>...</td>\n",
       "      <td>141</td>\n",
       "      <td>mpfi</td>\n",
       "      <td>3.78</td>\n",
       "      <td>3.15</td>\n",
       "      <td>9.5</td>\n",
       "      <td>114</td>\n",
       "      <td>5400</td>\n",
       "      <td>23</td>\n",
       "      <td>28</td>\n",
       "      <td>16845</td>\n",
       "    </tr>\n",
       "    <tr>\n",
       "      <th>201</th>\n",
       "      <td>-1</td>\n",
       "      <td>95</td>\n",
       "      <td>volvo</td>\n",
       "      <td>gas</td>\n",
       "      <td>turbo</td>\n",
       "      <td>four</td>\n",
       "      <td>sedan</td>\n",
       "      <td>rwd</td>\n",
       "      <td>front</td>\n",
       "      <td>109.1</td>\n",
       "      <td>...</td>\n",
       "      <td>141</td>\n",
       "      <td>mpfi</td>\n",
       "      <td>3.78</td>\n",
       "      <td>3.15</td>\n",
       "      <td>8.7</td>\n",
       "      <td>160</td>\n",
       "      <td>5300</td>\n",
       "      <td>19</td>\n",
       "      <td>25</td>\n",
       "      <td>19045</td>\n",
       "    </tr>\n",
       "    <tr>\n",
       "      <th>202</th>\n",
       "      <td>-1</td>\n",
       "      <td>95</td>\n",
       "      <td>volvo</td>\n",
       "      <td>gas</td>\n",
       "      <td>std</td>\n",
       "      <td>four</td>\n",
       "      <td>sedan</td>\n",
       "      <td>rwd</td>\n",
       "      <td>front</td>\n",
       "      <td>109.1</td>\n",
       "      <td>...</td>\n",
       "      <td>173</td>\n",
       "      <td>mpfi</td>\n",
       "      <td>3.58</td>\n",
       "      <td>2.87</td>\n",
       "      <td>8.8</td>\n",
       "      <td>134</td>\n",
       "      <td>5500</td>\n",
       "      <td>18</td>\n",
       "      <td>23</td>\n",
       "      <td>21485</td>\n",
       "    </tr>\n",
       "    <tr>\n",
       "      <th>203</th>\n",
       "      <td>-1</td>\n",
       "      <td>95</td>\n",
       "      <td>volvo</td>\n",
       "      <td>diesel</td>\n",
       "      <td>turbo</td>\n",
       "      <td>four</td>\n",
       "      <td>sedan</td>\n",
       "      <td>rwd</td>\n",
       "      <td>front</td>\n",
       "      <td>109.1</td>\n",
       "      <td>...</td>\n",
       "      <td>145</td>\n",
       "      <td>idi</td>\n",
       "      <td>3.01</td>\n",
       "      <td>3.4</td>\n",
       "      <td>23.0</td>\n",
       "      <td>106</td>\n",
       "      <td>4800</td>\n",
       "      <td>26</td>\n",
       "      <td>27</td>\n",
       "      <td>22470</td>\n",
       "    </tr>\n",
       "    <tr>\n",
       "      <th>204</th>\n",
       "      <td>-1</td>\n",
       "      <td>95</td>\n",
       "      <td>volvo</td>\n",
       "      <td>gas</td>\n",
       "      <td>turbo</td>\n",
       "      <td>four</td>\n",
       "      <td>sedan</td>\n",
       "      <td>rwd</td>\n",
       "      <td>front</td>\n",
       "      <td>109.1</td>\n",
       "      <td>...</td>\n",
       "      <td>141</td>\n",
       "      <td>mpfi</td>\n",
       "      <td>3.78</td>\n",
       "      <td>3.15</td>\n",
       "      <td>9.5</td>\n",
       "      <td>114</td>\n",
       "      <td>5400</td>\n",
       "      <td>19</td>\n",
       "      <td>25</td>\n",
       "      <td>22625</td>\n",
       "    </tr>\n",
       "  </tbody>\n",
       "</table>\n",
       "<p>205 rows × 26 columns</p>\n",
       "</div>"
      ],
      "text/plain": [
       "     symboling normalized-losses         make fuel-type aspiration  \\\n",
       "0            3                 ?  alfa-romero       gas        std   \n",
       "1            3                 ?  alfa-romero       gas        std   \n",
       "2            1                 ?  alfa-romero       gas        std   \n",
       "3            2               164         audi       gas        std   \n",
       "4            2               164         audi       gas        std   \n",
       "..         ...               ...          ...       ...        ...   \n",
       "200         -1                95        volvo       gas        std   \n",
       "201         -1                95        volvo       gas      turbo   \n",
       "202         -1                95        volvo       gas        std   \n",
       "203         -1                95        volvo    diesel      turbo   \n",
       "204         -1                95        volvo       gas      turbo   \n",
       "\n",
       "    num-of-doors   body-style drive-wheels engine-location  wheel-base  ...  \\\n",
       "0            two  convertible          rwd           front        88.6  ...   \n",
       "1            two  convertible          rwd           front        88.6  ...   \n",
       "2            two    hatchback          rwd           front        94.5  ...   \n",
       "3           four        sedan          fwd           front        99.8  ...   \n",
       "4           four        sedan          4wd           front        99.4  ...   \n",
       "..           ...          ...          ...             ...         ...  ...   \n",
       "200         four        sedan          rwd           front       109.1  ...   \n",
       "201         four        sedan          rwd           front       109.1  ...   \n",
       "202         four        sedan          rwd           front       109.1  ...   \n",
       "203         four        sedan          rwd           front       109.1  ...   \n",
       "204         four        sedan          rwd           front       109.1  ...   \n",
       "\n",
       "     engine-size  fuel-system  bore  stroke compression-ratio horsepower  \\\n",
       "0            130         mpfi  3.47    2.68               9.0        111   \n",
       "1            130         mpfi  3.47    2.68               9.0        111   \n",
       "2            152         mpfi  2.68    3.47               9.0        154   \n",
       "3            109         mpfi  3.19     3.4              10.0        102   \n",
       "4            136         mpfi  3.19     3.4               8.0        115   \n",
       "..           ...          ...   ...     ...               ...        ...   \n",
       "200          141         mpfi  3.78    3.15               9.5        114   \n",
       "201          141         mpfi  3.78    3.15               8.7        160   \n",
       "202          173         mpfi  3.58    2.87               8.8        134   \n",
       "203          145          idi  3.01     3.4              23.0        106   \n",
       "204          141         mpfi  3.78    3.15               9.5        114   \n",
       "\n",
       "     peak-rpm city-mpg highway-mpg  price  \n",
       "0        5000       21          27  13495  \n",
       "1        5000       21          27  16500  \n",
       "2        5000       19          26  16500  \n",
       "3        5500       24          30  13950  \n",
       "4        5500       18          22  17450  \n",
       "..        ...      ...         ...    ...  \n",
       "200      5400       23          28  16845  \n",
       "201      5300       19          25  19045  \n",
       "202      5500       18          23  21485  \n",
       "203      4800       26          27  22470  \n",
       "204      5400       19          25  22625  \n",
       "\n",
       "[205 rows x 26 columns]"
      ]
     },
     "metadata": {},
     "output_type": "display_data"
    }
   ],
   "source": [
    "df_auto = pd.read_csv('Automobile_data.csv') #reading data file as pandas dataframe\n",
    "display(df_auto) #displaying it"
   ]
  },
  {
   "cell_type": "markdown",
   "id": "e5873de8",
   "metadata": {},
   "source": [
    "We can observe that both **drive-wheels** and **body-style** happen to be categorical variables and we need to find if there is a relation between them or not, that is are they dependent or independent of each other.\n",
    "\n",
    "Thus we can perform the **Chi-Square Test of Independence** . It is to test if two variables are correlated to each other or not.\n",
    "\n",
    "Here we will check if both **drive-wheels** and **body-style** data columns are related ro each other or not."
   ]
  },
  {
   "cell_type": "code",
   "execution_count": 31,
   "id": "94fc8071",
   "metadata": {},
   "outputs": [
    {
     "name": "stdout",
     "output_type": "stream",
     "text": [
      "{'4wd': 0, 'fwd': 1, 'rwd': 2}\n",
      "{'convertible': 0, 'hardtop': 1, 'hatchback': 2, 'sedan': 3, 'wagon': 4}\n"
     ]
    }
   ],
   "source": [
    "#converting categorical values into numeric type\n",
    "from sklearn import preprocessing #importing the preprocessing library from scikit package\n",
    "le = preprocessing.LabelEncoder() \n",
    "le.fit(df_auto['drive-wheels'])\n",
    "df_auto['drive-wheels'] = le.transform(df_auto['drive-wheels'])\n",
    "drive_wheels_labels = dict(zip(le.classes_, le.transform(le.classes_))) #converting categorical variables of 'drive-wheels' into numeric type and storing them as a dictionary\n",
    "print(drive_wheels_labels)\n",
    "le.fit(df_auto['body-style'])\n",
    "df_auto['body-style'] = le.transform(df_auto['body-style'])\n",
    "body_style_labels = dict(zip(le.classes_, \n",
    "                      le.transform(le.classes_)))#converting categorical variables of 'drive-wheels' into numeric type and storing them as a dictionary\n",
    "print(body_style_labels)"
   ]
  },
  {
   "cell_type": "code",
   "execution_count": 32,
   "id": "1b3f5e12",
   "metadata": {},
   "outputs": [
    {
     "data": {
      "text/plain": [
       "[Text(0, 0, 'convertible'),\n",
       " Text(1, 0, 'hardtop'),\n",
       " Text(2, 0, 'hatchback'),\n",
       " Text(3, 0, 'sedan'),\n",
       " Text(4, 0, 'wagon')]"
      ]
     },
     "execution_count": 32,
     "metadata": {},
     "output_type": "execute_result"
    },
    {
     "data": {
      "image/png": "[encoded data removed]",
      "text/plain": [
       "<Figure size 432x288 with 1 Axes>"
      ]
     },
     "metadata": {
      "needs_background": "light"
     },
     "output_type": "display_data"
    }
   ],
   "source": [
    "ax = sns.barplot(x='body-style', y='drive-wheels', data=df_auto, ci=None) #plotting a bar plot depicting the categorical variables of the two columns to visually asses the data\n",
    "ax.set_xticklabels(body_style_labels.keys())"
   ]
  },
  {
   "cell_type": "code",
   "execution_count": 33,
   "id": "f2aaf8f3",
   "metadata": {},
   "outputs": [],
   "source": [
    "def contigency_table(df, col1, col2):  #defining a function to create a contigency table to successfully perform the chi2 test\n",
    "    df_cont = pd.crosstab(index = df[col1], columns = df[col2])\n",
    "    return df_cont"
   ]
  },
  {
   "cell_type": "code",
   "execution_count": 34,
   "id": "0d820d7b",
   "metadata": {},
   "outputs": [
    {
     "data": {
      "text/html": [
       "<div>\n",
       "<style scoped>\n",
       "    .dataframe tbody tr th:only-of-type {\n",
       "        vertical-align: middle;\n",
       "    }\n",
       "\n",
       "    .dataframe tbody tr th {\n",
       "        vertical-align: top;\n",
       "    }\n",
       "\n",
       "    .dataframe thead th {\n",
       "        text-align: right;\n",
       "    }\n",
       "</style>\n",
       "<table border=\"1\" class=\"dataframe\">\n",
       "  <thead>\n",
       "    <tr style=\"text-align: right;\">\n",
       "      <th>body-style</th>\n",
       "      <th>0</th>\n",
       "      <th>1</th>\n",
       "      <th>2</th>\n",
       "      <th>3</th>\n",
       "      <th>4</th>\n",
       "    </tr>\n",
       "    <tr>\n",
       "      <th>drive-wheels</th>\n",
       "      <th></th>\n",
       "      <th></th>\n",
       "      <th></th>\n",
       "      <th></th>\n",
       "      <th></th>\n",
       "    </tr>\n",
       "  </thead>\n",
       "  <tbody>\n",
       "    <tr>\n",
       "      <th>0</th>\n",
       "      <td>0</td>\n",
       "      <td>0</td>\n",
       "      <td>2</td>\n",
       "      <td>3</td>\n",
       "      <td>4</td>\n",
       "    </tr>\n",
       "    <tr>\n",
       "      <th>1</th>\n",
       "      <td>1</td>\n",
       "      <td>1</td>\n",
       "      <td>49</td>\n",
       "      <td>57</td>\n",
       "      <td>12</td>\n",
       "    </tr>\n",
       "    <tr>\n",
       "      <th>2</th>\n",
       "      <td>5</td>\n",
       "      <td>7</td>\n",
       "      <td>19</td>\n",
       "      <td>36</td>\n",
       "      <td>9</td>\n",
       "    </tr>\n",
       "  </tbody>\n",
       "</table>\n",
       "</div>"
      ],
      "text/plain": [
       "body-style    0  1   2   3   4\n",
       "drive-wheels                  \n",
       "0             0  0   2   3   4\n",
       "1             1  1  49  57  12\n",
       "2             5  7  19  36   9"
      ]
     },
     "metadata": {},
     "output_type": "display_data"
    }
   ],
   "source": [
    "cont_table = contigency_table(df_auto,'drive-wheels', 'body-style') #creating the required table\n",
    "display(cont_table) #displaying contigency table"
   ]
  },
  {
   "cell_type": "markdown",
   "id": "be1eb4c0",
   "metadata": {},
   "source": [
    "Here the\n",
    "\n",
    "Null hypotheis$(H_0)$  states that there is no relation between the variables\n",
    "\n",
    "and the \n",
    "\n",
    "Alternative hypthesis$(H_a)$ state that there is a significant relation between the two"
   ]
  },
  {
   "cell_type": "code",
   "execution_count": 35,
   "id": "2a898802",
   "metadata": {},
   "outputs": [
    {
     "name": "stdout",
     "output_type": "stream",
     "text": [
      "p value is 0.0008317943771481913\n"
     ]
    }
   ],
   "source": [
    "stat, p, dof, expected = stats.chi2_contingency(cont_table) #using python's chi2 function to directly calculate the test statistic and p value\n",
    "print(\"p value is \" + str(p)) #printing p value"
   ]
  },
  {
   "cell_type": "markdown",
   "id": "2e614933",
   "metadata": {},
   "source": [
    "Considering we take our $\\alpha$ = 0.05\n",
    "\n",
    "We can observe that the p value is way less than 0.05 and therefore we can easily reject our null hypotheis in favour of our alternative hypothesis. \n",
    "\n",
    "**Result :  There is a relation between the body style and drive wheels in the automobile dataset** \n"
   ]
  },
  {
   "cell_type": "markdown",
   "id": "331d966c",
   "metadata": {},
   "source": [
    "## Sources of help and references:\n",
    "\n",
    "### Friends:\n",
    "- Deepasha, 210070025\n",
    "- Anupsa Swain, 210010012\n",
    "- Pal Aggarwal, 210260038\n",
    "\n",
    "#### Lecture Slides based on Statistical Testing to determine the appropriate test to be performed in Question 3\n",
    "\n",
    "### Websites:\n",
    "- https://docs.scipy.org/doc/scipy/reference/generated/scipy.stats.uniform.html\n",
    "- https://docs.scipy.org/doc/scipy/reference/generated/scipy.stats.uniform.html\n",
    "- https://www.geeksforgeeks.org/quantile-quantile-plots/\n",
    "- https://towardsdatascience.com/6-ways-to-test-for-a-normal-distribution-which-one-to-use-9dcf47d8fa93\n",
    "- https://pypi.org/project/pynverse/\n",
    "- https://towardsdatascience.com/maximum-likelihood-estimation-explained-normal-distribution-6207b322e47f#:~:text=MLE%20tells%20us%20which%20curve,are%20our%20parameters%20of%20interest\n",
    "- https://www.geeksforgeeks.org/split-pandas-dataframe-by-column-value/\n",
    "- https://docs.scipy.org/doc/scipy/reference/generated/scipy.stats.ranksums.html\n",
    "- https://towardsdatascience.com/statistics-in-python-using-chi-square-for-feature-selection-d44f467ca745\n",
    "- https://www.geeksforgeeks.org/python-pearsons-chi-square-test/\n",
    "- https://machinelearningmastery.com/how-to-calculate-nonparametric-rank-correlation-in-python/#:~:text=Spearman's%20rank%20correlation%20can%20be,the%20significance%20of%20the%20coefficient."
   ]
  },
  {
   "cell_type": "markdown",
   "id": "5ec7a9b1",
   "metadata": {},
   "source": [
    "$$--------End \\space  of \\space  Assignment--------$$\n"
   ]
  }
 ],
 "metadata": {
  "kernelspec": {
   "display_name": "Python 3 (ipykernel)",
   "language": "python",
   "name": "python3"
  },
  "language_info": {
   "codemirror_mode": {
    "name": "ipython",
    "version": 3
   },
   "file_extension": ".py",
   "mimetype": "text/x-python",
   "name": "python",
   "nbconvert_exporter": "python",
   "pygments_lexer": "ipython3",
   "version": "3.9.7"
  }
 },
 "nbformat": 4,
 "nbformat_minor": 5
}
