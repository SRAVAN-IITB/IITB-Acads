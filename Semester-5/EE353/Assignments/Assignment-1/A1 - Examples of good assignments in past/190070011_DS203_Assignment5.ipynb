{
  "nbformat": 4,
  "nbformat_minor": 0,
  "metadata": {
    "colab": {
      "provenance": [],
      "collapsed_sections": []
    },
    "kernelspec": {
      "name": "python3",
      "display_name": "Python 3"
    },
    "language_info": {
      "name": "python"
    }
  },
  "cells": [
    {
      "cell_type": "markdown",
      "source": [
        "# Uploading the datafile : NDAP_REPORT_7004.csv into the environment"
      ],
      "metadata": {
        "id": "JNxiXL6fNlFs"
      }
    },
    {
      "cell_type": "code",
      "execution_count": 1,
      "metadata": {
        "colab": {
          "base_uri": "https://localhost:8080/",
          "height": 90
        },
        "id": "ZzX--8OHwSQn",
        "outputId": "90a55b0c-336e-412c-ba52-ee138f1e8ee1"
      },
      "outputs": [
        {
          "output_type": "display_data",
          "data": {
            "text/plain": [
              "<IPython.core.display.HTML object>"
            ],
            "text/html": [
              "\n",
              "     <input type=\"file\" id=\"files-f968ada0-1a8c-41e5-ad75-5305864ee339\" name=\"files[]\" multiple disabled\n",
              "        style=\"border:none\" />\n",
              "     <output id=\"result-f968ada0-1a8c-41e5-ad75-5305864ee339\">\n",
              "      Upload widget is only available when the cell has been executed in the\n",
              "      current browser session. Please rerun this cell to enable.\n",
              "      </output>\n",
              "      <script>// Copyright 2017 Google LLC\n",
              "//\n",
              "// Licensed under the Apache License, Version 2.0 (the \"License\");\n",
              "// you may not use this file except in compliance with the License.\n",
              "// You may obtain a copy of the License at\n",
              "//\n",
              "//      http://www.apache.org/licenses/LICENSE-2.0\n",
              "//\n",
              "// Unless required by applicable law or agreed to in writing, software\n",
              "// distributed under the License is distributed on an \"AS IS\" BASIS,\n",
              "// WITHOUT WARRANTIES OR CONDITIONS OF ANY KIND, either express or implied.\n",
              "// See the License for the specific language governing permissions and\n",
              "// limitations under the License.\n",
              "\n",
              "/**\n",
              " * @fileoverview Helpers for google.colab Python module.\n",
              " */\n",
              "(function(scope) {\n",
              "function span(text, styleAttributes = {}) {\n",
              "  const element = document.createElement('span');\n",
              "  element.textContent = text;\n",
              "  for (const key of Object.keys(styleAttributes)) {\n",
              "    element.style[key] = styleAttributes[key];\n",
              "  }\n",
              "  return element;\n",
              "}\n",
              "\n",
              "// Max number of bytes which will be uploaded at a time.\n",
              "const MAX_PAYLOAD_SIZE = 100 * 1024;\n",
              "\n",
              "function _uploadFiles(inputId, outputId) {\n",
              "  const steps = uploadFilesStep(inputId, outputId);\n",
              "  const outputElement = document.getElementById(outputId);\n",
              "  // Cache steps on the outputElement to make it available for the next call\n",
              "  // to uploadFilesContinue from Python.\n",
              "  outputElement.steps = steps;\n",
              "\n",
              "  return _uploadFilesContinue(outputId);\n",
              "}\n",
              "\n",
              "// This is roughly an async generator (not supported in the browser yet),\n",
              "// where there are multiple asynchronous steps and the Python side is going\n",
              "// to poll for completion of each step.\n",
              "// This uses a Promise to block the python side on completion of each step,\n",
              "// then passes the result of the previous step as the input to the next step.\n",
              "function _uploadFilesContinue(outputId) {\n",
              "  const outputElement = document.getElementById(outputId);\n",
              "  const steps = outputElement.steps;\n",
              "\n",
              "  const next = steps.next(outputElement.lastPromiseValue);\n",
              "  return Promise.resolve(next.value.promise).then((value) => {\n",
              "    // Cache the last promise value to make it available to the next\n",
              "    // step of the generator.\n",
              "    outputElement.lastPromiseValue = value;\n",
              "    return next.value.response;\n",
              "  });\n",
              "}\n",
              "\n",
              "/**\n",
              " * Generator function which is called between each async step of the upload\n",
              " * process.\n",
              " * @param {string} inputId Element ID of the input file picker element.\n",
              " * @param {string} outputId Element ID of the output display.\n",
              " * @return {!Iterable<!Object>} Iterable of next steps.\n",
              " */\n",
              "function* uploadFilesStep(inputId, outputId) {\n",
              "  const inputElement = document.getElementById(inputId);\n",
              "  inputElement.disabled = false;\n",
              "\n",
              "  const outputElement = document.getElementById(outputId);\n",
              "  outputElement.innerHTML = '';\n",
              "\n",
              "  const pickedPromise = new Promise((resolve) => {\n",
              "    inputElement.addEventListener('change', (e) => {\n",
              "      resolve(e.target.files);\n",
              "    });\n",
              "  });\n",
              "\n",
              "  const cancel = document.createElement('button');\n",
              "  inputElement.parentElement.appendChild(cancel);\n",
              "  cancel.textContent = 'Cancel upload';\n",
              "  const cancelPromise = new Promise((resolve) => {\n",
              "    cancel.onclick = () => {\n",
              "      resolve(null);\n",
              "    };\n",
              "  });\n",
              "\n",
              "  // Wait for the user to pick the files.\n",
              "  const files = yield {\n",
              "    promise: Promise.race([pickedPromise, cancelPromise]),\n",
              "    response: {\n",
              "      action: 'starting',\n",
              "    }\n",
              "  };\n",
              "\n",
              "  cancel.remove();\n",
              "\n",
              "  // Disable the input element since further picks are not allowed.\n",
              "  inputElement.disabled = true;\n",
              "\n",
              "  if (!files) {\n",
              "    return {\n",
              "      response: {\n",
              "        action: 'complete',\n",
              "      }\n",
              "    };\n",
              "  }\n",
              "\n",
              "  for (const file of files) {\n",
              "    const li = document.createElement('li');\n",
              "    li.append(span(file.name, {fontWeight: 'bold'}));\n",
              "    li.append(span(\n",
              "        `(${file.type || 'n/a'}) - ${file.size} bytes, ` +\n",
              "        `last modified: ${\n",
              "            file.lastModifiedDate ? file.lastModifiedDate.toLocaleDateString() :\n",
              "                                    'n/a'} - `));\n",
              "    const percent = span('0% done');\n",
              "    li.appendChild(percent);\n",
              "\n",
              "    outputElement.appendChild(li);\n",
              "\n",
              "    const fileDataPromise = new Promise((resolve) => {\n",
              "      const reader = new FileReader();\n",
              "      reader.onload = (e) => {\n",
              "        resolve(e.target.result);\n",
              "      };\n",
              "      reader.readAsArrayBuffer(file);\n",
              "    });\n",
              "    // Wait for the data to be ready.\n",
              "    let fileData = yield {\n",
              "      promise: fileDataPromise,\n",
              "      response: {\n",
              "        action: 'continue',\n",
              "      }\n",
              "    };\n",
              "\n",
              "    // Use a chunked sending to avoid message size limits. See b/62115660.\n",
              "    let position = 0;\n",
              "    do {\n",
              "      const length = Math.min(fileData.byteLength - position, MAX_PAYLOAD_SIZE);\n",
              "      const chunk = new Uint8Array(fileData, position, length);\n",
              "      position += length;\n",
              "\n",
              "      const base64 = btoa(String.fromCharCode.apply(null, chunk));\n",
              "      yield {\n",
              "        response: {\n",
              "          action: 'append',\n",
              "          file: file.name,\n",
              "          data: base64,\n",
              "        },\n",
              "      };\n",
              "\n",
              "      let percentDone = fileData.byteLength === 0 ?\n",
              "          100 :\n",
              "          Math.round((position / fileData.byteLength) * 100);\n",
              "      percent.textContent = `${percentDone}% done`;\n",
              "\n",
              "    } while (position < fileData.byteLength);\n",
              "  }\n",
              "\n",
              "  // All done.\n",
              "  yield {\n",
              "    response: {\n",
              "      action: 'complete',\n",
              "    }\n",
              "  };\n",
              "}\n",
              "\n",
              "scope.google = scope.google || {};\n",
              "scope.google.colab = scope.google.colab || {};\n",
              "scope.google.colab._files = {\n",
              "  _uploadFiles,\n",
              "  _uploadFilesContinue,\n",
              "};\n",
              "})(self);\n",
              "</script> "
            ]
          },
          "metadata": {}
        },
        {
          "output_type": "stream",
          "name": "stdout",
          "text": [
            "Saving NDAP_REPORT_7004.csv to NDAP_REPORT_7004.csv\n",
            "User uploaded file \"NDAP_REPORT_7004.csv\" with length 184811 bytes\n"
          ]
        }
      ],
      "source": [
        "# UPLOADING DATA FILE\n",
        "\n",
        "from google.colab import files\n",
        "\n",
        "uploaded = files.upload()\n",
        "\n",
        "for fn in uploaded.keys():\n",
        "  print('User uploaded file \"{name}\" with length {length} bytes'.format(\n",
        "      name=fn, length=len(uploaded[fn])))"
      ]
    },
    {
      "cell_type": "markdown",
      "source": [
        "#Imports"
      ],
      "metadata": {
        "id": "jcZ_rrZ1Nyru"
      }
    },
    {
      "cell_type": "code",
      "source": [
        "# importing required python packages\n",
        "import pandas as pd\n",
        "import seaborn as sns\n",
        "import matplotlib.pyplot as plt\n",
        "import numpy as np\n",
        "from pandas.plotting import scatter_matrix\n",
        "import math"
      ],
      "metadata": {
        "id": "8vcVp7dzwVLv"
      },
      "execution_count": 2,
      "outputs": []
    },
    {
      "cell_type": "markdown",
      "source": [
        "# Reading the datafile into a pandas dataframe and displaying a few values"
      ],
      "metadata": {
        "id": "JerKIhPTN1AK"
      }
    },
    {
      "cell_type": "code",
      "source": [
        "#reading the csv file\n",
        "df = pd.read_csv('NDAP_REPORT_7004.csv')\n",
        "# Displaying the first few and last few rows of the dataset\n",
        "display(df)"
      ],
      "metadata": {
        "colab": {
          "base_uri": "https://localhost:8080/",
          "height": 1000
        },
        "id": "iDoqRIn7zCrW",
        "outputId": "8bf9e337-9e4e-4cae-8c92-a6a86c607f59"
      },
      "execution_count": 3,
      "outputs": [
        {
          "output_type": "display_data",
          "data": {
            "text/plain": [
              "      Rowid Country  State lgd code  \\\n",
              "0         1   India               1   \n",
              "1         2   India               1   \n",
              "2         3   India               1   \n",
              "3         4   India               1   \n",
              "4         5   India               1   \n",
              "...     ...     ...             ...   \n",
              "1468   1469   India              38   \n",
              "1469   1470   India              38   \n",
              "1470   1471   India              38   \n",
              "1471   1472   India              38   \n",
              "1472   1473   India              38   \n",
              "\n",
              "                                             State  District lgd code  \\\n",
              "0                                Jammu And Kashmir                  1   \n",
              "1                                Jammu And Kashmir                  1   \n",
              "2                                Jammu And Kashmir                  2   \n",
              "3                                Jammu And Kashmir                  2   \n",
              "4                                Jammu And Kashmir                  3   \n",
              "...                                            ...                ...   \n",
              "1468  The Dadra And Nagar Haveli And Daman And Diu                463   \n",
              "1469  The Dadra And Nagar Haveli And Daman And Diu                464   \n",
              "1470  The Dadra And Nagar Haveli And Daman And Diu                464   \n",
              "1471  The Dadra And Nagar Haveli And Daman And Diu                465   \n",
              "1472  The Dadra And Nagar Haveli And Daman And Diu                465   \n",
              "\n",
              "                    District  Year Type of residence namely rural or urban  \\\n",
              "0                   Anantnag  2011                                   Rural   \n",
              "1                   Anantnag  2011                                   Urban   \n",
              "2                     Budgam  2011                                   Rural   \n",
              "3                     Budgam  2011                                   Urban   \n",
              "4                  Baramulla  2011                                   Rural   \n",
              "...                      ...   ...                                     ...   \n",
              "1468                   Daman  2011                                   Urban   \n",
              "1469                     Diu  2011                                   Rural   \n",
              "1470                     Diu  2011                                   Urban   \n",
              "1471  Dadra And Nagar Haveli  2011                                   Rural   \n",
              "1472  Dadra And Nagar Haveli  2011                                   Urban   \n",
              "\n",
              "     Number of census houses  \\\n",
              "0                     109465   \n",
              "1                      33522   \n",
              "2                85561.57321   \n",
              "3                      13136   \n",
              "4                120312.4268   \n",
              "...                      ...   \n",
              "1468                   42352   \n",
              "1469                    5410   \n",
              "1470                    5279   \n",
              "1471                   35408   \n",
              "1472                   37655   \n",
              "\n",
              "     Houses having grass or thatch or bamboo etc. as material of wall  \\\n",
              "0                                                   270                 \n",
              "1                                                    69                 \n",
              "2                                           134.1822704                 \n",
              "3                                                    49                 \n",
              "4                                           410.8177296                 \n",
              "...                                                 ...                 \n",
              "1468                                                202                 \n",
              "1469                                                  6                 \n",
              "1470                                                 11                 \n",
              "1471                                              16428                 \n",
              "1472                                               2156                 \n",
              "\n",
              "     Houses having plastic or polythene as material of wall  \\\n",
              "0                                                  1331       \n",
              "1                                                   121       \n",
              "2                                           168.9702664       \n",
              "3                                                    27       \n",
              "4                                           173.0297336       \n",
              "...                                                 ...       \n",
              "1468                                                150       \n",
              "1469                                                  0       \n",
              "1470                                                  1       \n",
              "1471                                                 62       \n",
              "1472                                                140       \n",
              "\n",
              "      Houses having mud or unburnt brick as material of wall  \\\n",
              "0                                          22710.000000        \n",
              "1                                           6807.000000        \n",
              "2                                           7174.278724        \n",
              "3                                            935.000000        \n",
              "4                                          19207.721280        \n",
              "...                                                 ...        \n",
              "1468                                         426.000000        \n",
              "1469                                          50.000000        \n",
              "1470                                           6.000000        \n",
              "1471                                        4939.000000        \n",
              "1472                                        1667.000000        \n",
              "\n",
              "      Houses having wood as material of wall  \\\n",
              "0                                 3014.00000   \n",
              "1                                  123.00000   \n",
              "2                                  960.14869   \n",
              "3                                   24.00000   \n",
              "4                                 3227.85131   \n",
              "...                                      ...   \n",
              "1468                                95.00000   \n",
              "1469                                 2.00000   \n",
              "1470                                 0.00000   \n",
              "1471                               145.00000   \n",
              "1472                               142.00000   \n",
              "\n",
              "      Houses having stone not packed with mortar as material of wall  \\\n",
              "0                                           3034.000000                \n",
              "1                                            268.000000                \n",
              "2                                            748.438886                \n",
              "3                                            187.000000                \n",
              "4                                          12552.561110                \n",
              "...                                                 ...                \n",
              "1468                                          72.000000                \n",
              "1469                                         238.000000                \n",
              "1470                                         165.000000                \n",
              "1471                                         113.000000                \n",
              "1472                                         136.000000                \n",
              "\n",
              "      Houses having stone packed with mortar as material of wall  \\\n",
              "0                                            480.000000            \n",
              "1                                             93.000000            \n",
              "2                                            306.134365            \n",
              "3                                             30.000000            \n",
              "4                                           5479.865635            \n",
              "...                                                 ...            \n",
              "1468                                         185.000000            \n",
              "1469                                        5094.000000            \n",
              "1470                                        4820.000000            \n",
              "1471                                          74.000000            \n",
              "1472                                         157.000000            \n",
              "\n",
              "      Houses having galvanized iron (gi) sheets or metal or asbestos sheets as material of wall  \\\n",
              "0                                            229.000000                                           \n",
              "1                                             98.000000                                           \n",
              "2                                            214.691633                                           \n",
              "3                                             39.000000                                           \n",
              "4                                           1740.308367                                           \n",
              "...                                                 ...                                           \n",
              "1468                                         130.000000                                           \n",
              "1469                                           0.000000                                           \n",
              "1470                                          11.000000                                           \n",
              "1471                                          96.000000                                           \n",
              "1472                                         281.000000                                           \n",
              "\n",
              "      Houses having burnt brick as material of wall  \\\n",
              "0                                       76229.00000   \n",
              "1                                       23789.00000   \n",
              "2                                       73342.04111   \n",
              "3                                       11297.00000   \n",
              "4                                       72686.95889   \n",
              "...                                             ...   \n",
              "1468                                    39160.00000   \n",
              "1469                                        2.00000   \n",
              "1470                                      147.00000   \n",
              "1471                                    12642.00000   \n",
              "1472                                    31404.00000   \n",
              "\n",
              "      Houses having concrete as material of wall  \\\n",
              "0                                    1400.000000   \n",
              "1                                    1894.000000   \n",
              "2                                    1013.821599   \n",
              "3                                     454.000000   \n",
              "4                                    2118.178401   \n",
              "...                                          ...   \n",
              "1468                                 1927.000000   \n",
              "1469                                    5.000000   \n",
              "1470                                  116.000000   \n",
              "1471                                  897.000000   \n",
              "1472                                 1549.000000   \n",
              "\n",
              "      Houses having any other material of wall  \n",
              "0                                   768.000000  \n",
              "1                                   260.000000  \n",
              "2                                  1498.865657  \n",
              "3                                    94.000000  \n",
              "4                                  2715.134343  \n",
              "...                                        ...  \n",
              "1468                                  5.000000  \n",
              "1469                                 13.000000  \n",
              "1470                                  2.000000  \n",
              "1471                                 12.000000  \n",
              "1472                                 23.000000  \n",
              "\n",
              "[1473 rows x 19 columns]"
            ],
            "text/html": [
              "\n",
              "  <div id=\"df-ec440f58-3dd5-4195-b7ac-c30eb4e4b0a2\">\n",
              "    <div class=\"colab-df-container\">\n",
              "      <div>\n",
              "<style scoped>\n",
              "    .dataframe tbody tr th:only-of-type {\n",
              "        vertical-align: middle;\n",
              "    }\n",
              "\n",
              "    .dataframe tbody tr th {\n",
              "        vertical-align: top;\n",
              "    }\n",
              "\n",
              "    .dataframe thead th {\n",
              "        text-align: right;\n",
              "    }\n",
              "</style>\n",
              "<table border=\"1\" class=\"dataframe\">\n",
              "  <thead>\n",
              "    <tr style=\"text-align: right;\">\n",
              "      <th></th>\n",
              "      <th>Rowid</th>\n",
              "      <th>Country</th>\n",
              "      <th>State lgd code</th>\n",
              "      <th>State</th>\n",
              "      <th>District lgd code</th>\n",
              "      <th>District</th>\n",
              "      <th>Year</th>\n",
              "      <th>Type of residence namely rural or urban</th>\n",
              "      <th>Number of census houses</th>\n",
              "      <th>Houses having grass or thatch or bamboo etc. as material of wall</th>\n",
              "      <th>Houses having plastic or polythene as material of wall</th>\n",
              "      <th>Houses having mud or unburnt brick as material of wall</th>\n",
              "      <th>Houses having wood as material of wall</th>\n",
              "      <th>Houses having stone not packed with mortar as material of wall</th>\n",
              "      <th>Houses having stone packed with mortar as material of wall</th>\n",
              "      <th>Houses having galvanized iron (gi) sheets or metal or asbestos sheets as material of wall</th>\n",
              "      <th>Houses having burnt brick as material of wall</th>\n",
              "      <th>Houses having concrete as material of wall</th>\n",
              "      <th>Houses having any other material of wall</th>\n",
              "    </tr>\n",
              "  </thead>\n",
              "  <tbody>\n",
              "    <tr>\n",
              "      <th>0</th>\n",
              "      <td>1</td>\n",
              "      <td>India</td>\n",
              "      <td>1</td>\n",
              "      <td>Jammu And Kashmir</td>\n",
              "      <td>1</td>\n",
              "      <td>Anantnag</td>\n",
              "      <td>2011</td>\n",
              "      <td>Rural</td>\n",
              "      <td>109465</td>\n",
              "      <td>270</td>\n",
              "      <td>1331</td>\n",
              "      <td>22710.000000</td>\n",
              "      <td>3014.00000</td>\n",
              "      <td>3034.000000</td>\n",
              "      <td>480.000000</td>\n",
              "      <td>229.000000</td>\n",
              "      <td>76229.00000</td>\n",
              "      <td>1400.000000</td>\n",
              "      <td>768.000000</td>\n",
              "    </tr>\n",
              "    <tr>\n",
              "      <th>1</th>\n",
              "      <td>2</td>\n",
              "      <td>India</td>\n",
              "      <td>1</td>\n",
              "      <td>Jammu And Kashmir</td>\n",
              "      <td>1</td>\n",
              "      <td>Anantnag</td>\n",
              "      <td>2011</td>\n",
              "      <td>Urban</td>\n",
              "      <td>33522</td>\n",
              "      <td>69</td>\n",
              "      <td>121</td>\n",
              "      <td>6807.000000</td>\n",
              "      <td>123.00000</td>\n",
              "      <td>268.000000</td>\n",
              "      <td>93.000000</td>\n",
              "      <td>98.000000</td>\n",
              "      <td>23789.00000</td>\n",
              "      <td>1894.000000</td>\n",
              "      <td>260.000000</td>\n",
              "    </tr>\n",
              "    <tr>\n",
              "      <th>2</th>\n",
              "      <td>3</td>\n",
              "      <td>India</td>\n",
              "      <td>1</td>\n",
              "      <td>Jammu And Kashmir</td>\n",
              "      <td>2</td>\n",
              "      <td>Budgam</td>\n",
              "      <td>2011</td>\n",
              "      <td>Rural</td>\n",
              "      <td>85561.57321</td>\n",
              "      <td>134.1822704</td>\n",
              "      <td>168.9702664</td>\n",
              "      <td>7174.278724</td>\n",
              "      <td>960.14869</td>\n",
              "      <td>748.438886</td>\n",
              "      <td>306.134365</td>\n",
              "      <td>214.691633</td>\n",
              "      <td>73342.04111</td>\n",
              "      <td>1013.821599</td>\n",
              "      <td>1498.865657</td>\n",
              "    </tr>\n",
              "    <tr>\n",
              "      <th>3</th>\n",
              "      <td>4</td>\n",
              "      <td>India</td>\n",
              "      <td>1</td>\n",
              "      <td>Jammu And Kashmir</td>\n",
              "      <td>2</td>\n",
              "      <td>Budgam</td>\n",
              "      <td>2011</td>\n",
              "      <td>Urban</td>\n",
              "      <td>13136</td>\n",
              "      <td>49</td>\n",
              "      <td>27</td>\n",
              "      <td>935.000000</td>\n",
              "      <td>24.00000</td>\n",
              "      <td>187.000000</td>\n",
              "      <td>30.000000</td>\n",
              "      <td>39.000000</td>\n",
              "      <td>11297.00000</td>\n",
              "      <td>454.000000</td>\n",
              "      <td>94.000000</td>\n",
              "    </tr>\n",
              "    <tr>\n",
              "      <th>4</th>\n",
              "      <td>5</td>\n",
              "      <td>India</td>\n",
              "      <td>1</td>\n",
              "      <td>Jammu And Kashmir</td>\n",
              "      <td>3</td>\n",
              "      <td>Baramulla</td>\n",
              "      <td>2011</td>\n",
              "      <td>Rural</td>\n",
              "      <td>120312.4268</td>\n",
              "      <td>410.8177296</td>\n",
              "      <td>173.0297336</td>\n",
              "      <td>19207.721280</td>\n",
              "      <td>3227.85131</td>\n",
              "      <td>12552.561110</td>\n",
              "      <td>5479.865635</td>\n",
              "      <td>1740.308367</td>\n",
              "      <td>72686.95889</td>\n",
              "      <td>2118.178401</td>\n",
              "      <td>2715.134343</td>\n",
              "    </tr>\n",
              "    <tr>\n",
              "      <th>...</th>\n",
              "      <td>...</td>\n",
              "      <td>...</td>\n",
              "      <td>...</td>\n",
              "      <td>...</td>\n",
              "      <td>...</td>\n",
              "      <td>...</td>\n",
              "      <td>...</td>\n",
              "      <td>...</td>\n",
              "      <td>...</td>\n",
              "      <td>...</td>\n",
              "      <td>...</td>\n",
              "      <td>...</td>\n",
              "      <td>...</td>\n",
              "      <td>...</td>\n",
              "      <td>...</td>\n",
              "      <td>...</td>\n",
              "      <td>...</td>\n",
              "      <td>...</td>\n",
              "      <td>...</td>\n",
              "    </tr>\n",
              "    <tr>\n",
              "      <th>1468</th>\n",
              "      <td>1469</td>\n",
              "      <td>India</td>\n",
              "      <td>38</td>\n",
              "      <td>The Dadra And Nagar Haveli And Daman And Diu</td>\n",
              "      <td>463</td>\n",
              "      <td>Daman</td>\n",
              "      <td>2011</td>\n",
              "      <td>Urban</td>\n",
              "      <td>42352</td>\n",
              "      <td>202</td>\n",
              "      <td>150</td>\n",
              "      <td>426.000000</td>\n",
              "      <td>95.00000</td>\n",
              "      <td>72.000000</td>\n",
              "      <td>185.000000</td>\n",
              "      <td>130.000000</td>\n",
              "      <td>39160.00000</td>\n",
              "      <td>1927.000000</td>\n",
              "      <td>5.000000</td>\n",
              "    </tr>\n",
              "    <tr>\n",
              "      <th>1469</th>\n",
              "      <td>1470</td>\n",
              "      <td>India</td>\n",
              "      <td>38</td>\n",
              "      <td>The Dadra And Nagar Haveli And Daman And Diu</td>\n",
              "      <td>464</td>\n",
              "      <td>Diu</td>\n",
              "      <td>2011</td>\n",
              "      <td>Rural</td>\n",
              "      <td>5410</td>\n",
              "      <td>6</td>\n",
              "      <td>0</td>\n",
              "      <td>50.000000</td>\n",
              "      <td>2.00000</td>\n",
              "      <td>238.000000</td>\n",
              "      <td>5094.000000</td>\n",
              "      <td>0.000000</td>\n",
              "      <td>2.00000</td>\n",
              "      <td>5.000000</td>\n",
              "      <td>13.000000</td>\n",
              "    </tr>\n",
              "    <tr>\n",
              "      <th>1470</th>\n",
              "      <td>1471</td>\n",
              "      <td>India</td>\n",
              "      <td>38</td>\n",
              "      <td>The Dadra And Nagar Haveli And Daman And Diu</td>\n",
              "      <td>464</td>\n",
              "      <td>Diu</td>\n",
              "      <td>2011</td>\n",
              "      <td>Urban</td>\n",
              "      <td>5279</td>\n",
              "      <td>11</td>\n",
              "      <td>1</td>\n",
              "      <td>6.000000</td>\n",
              "      <td>0.00000</td>\n",
              "      <td>165.000000</td>\n",
              "      <td>4820.000000</td>\n",
              "      <td>11.000000</td>\n",
              "      <td>147.00000</td>\n",
              "      <td>116.000000</td>\n",
              "      <td>2.000000</td>\n",
              "    </tr>\n",
              "    <tr>\n",
              "      <th>1471</th>\n",
              "      <td>1472</td>\n",
              "      <td>India</td>\n",
              "      <td>38</td>\n",
              "      <td>The Dadra And Nagar Haveli And Daman And Diu</td>\n",
              "      <td>465</td>\n",
              "      <td>Dadra And Nagar Haveli</td>\n",
              "      <td>2011</td>\n",
              "      <td>Rural</td>\n",
              "      <td>35408</td>\n",
              "      <td>16428</td>\n",
              "      <td>62</td>\n",
              "      <td>4939.000000</td>\n",
              "      <td>145.00000</td>\n",
              "      <td>113.000000</td>\n",
              "      <td>74.000000</td>\n",
              "      <td>96.000000</td>\n",
              "      <td>12642.00000</td>\n",
              "      <td>897.000000</td>\n",
              "      <td>12.000000</td>\n",
              "    </tr>\n",
              "    <tr>\n",
              "      <th>1472</th>\n",
              "      <td>1473</td>\n",
              "      <td>India</td>\n",
              "      <td>38</td>\n",
              "      <td>The Dadra And Nagar Haveli And Daman And Diu</td>\n",
              "      <td>465</td>\n",
              "      <td>Dadra And Nagar Haveli</td>\n",
              "      <td>2011</td>\n",
              "      <td>Urban</td>\n",
              "      <td>37655</td>\n",
              "      <td>2156</td>\n",
              "      <td>140</td>\n",
              "      <td>1667.000000</td>\n",
              "      <td>142.00000</td>\n",
              "      <td>136.000000</td>\n",
              "      <td>157.000000</td>\n",
              "      <td>281.000000</td>\n",
              "      <td>31404.00000</td>\n",
              "      <td>1549.000000</td>\n",
              "      <td>23.000000</td>\n",
              "    </tr>\n",
              "  </tbody>\n",
              "</table>\n",
              "<p>1473 rows × 19 columns</p>\n",
              "</div>\n",
              "      <button class=\"colab-df-convert\" onclick=\"convertToInteractive('df-ec440f58-3dd5-4195-b7ac-c30eb4e4b0a2')\"\n",
              "              title=\"Convert this dataframe to an interactive table.\"\n",
              "              style=\"display:none;\">\n",
              "        \n",
              "  <svg xmlns=\"http://www.w3.org/2000/svg\" height=\"24px\"viewBox=\"0 0 24 24\"\n",
              "       width=\"24px\">\n",
              "    <path d=\"M0 0h24v24H0V0z\" fill=\"none\"/>\n",
              "    <path d=\"M18.56 5.44l.94 2.06.94-2.06 2.06-.94-2.06-.94-.94-2.06-.94 2.06-2.06.94zm-11 1L8.5 8.5l.94-2.06 2.06-.94-2.06-.94L8.5 2.5l-.94 2.06-2.06.94zm10 10l.94 2.06.94-2.06 2.06-.94-2.06-.94-.94-2.06-.94 2.06-2.06.94z\"/><path d=\"M17.41 7.96l-1.37-1.37c-.4-.4-.92-.59-1.43-.59-.52 0-1.04.2-1.43.59L10.3 9.45l-7.72 7.72c-.78.78-.78 2.05 0 2.83L4 21.41c.39.39.9.59 1.41.59.51 0 1.02-.2 1.41-.59l7.78-7.78 2.81-2.81c.8-.78.8-2.07 0-2.86zM5.41 20L4 18.59l7.72-7.72 1.47 1.35L5.41 20z\"/>\n",
              "  </svg>\n",
              "      </button>\n",
              "      \n",
              "  <style>\n",
              "    .colab-df-container {\n",
              "      display:flex;\n",
              "      flex-wrap:wrap;\n",
              "      gap: 12px;\n",
              "    }\n",
              "\n",
              "    .colab-df-convert {\n",
              "      background-color: #E8F0FE;\n",
              "      border: none;\n",
              "      border-radius: 50%;\n",
              "      cursor: pointer;\n",
              "      display: none;\n",
              "      fill: #1967D2;\n",
              "      height: 32px;\n",
              "      padding: 0 0 0 0;\n",
              "      width: 32px;\n",
              "    }\n",
              "\n",
              "    .colab-df-convert:hover {\n",
              "      background-color: #E2EBFA;\n",
              "      box-shadow: 0px 1px 2px rgba(60, 64, 67, 0.3), 0px 1px 3px 1px rgba(60, 64, 67, 0.15);\n",
              "      fill: #174EA6;\n",
              "    }\n",
              "\n",
              "    [theme=dark] .colab-df-convert {\n",
              "      background-color: #3B4455;\n",
              "      fill: #D2E3FC;\n",
              "    }\n",
              "\n",
              "    [theme=dark] .colab-df-convert:hover {\n",
              "      background-color: #434B5C;\n",
              "      box-shadow: 0px 1px 3px 1px rgba(0, 0, 0, 0.15);\n",
              "      filter: drop-shadow(0px 1px 2px rgba(0, 0, 0, 0.3));\n",
              "      fill: #FFFFFF;\n",
              "    }\n",
              "  </style>\n",
              "\n",
              "      <script>\n",
              "        const buttonEl =\n",
              "          document.querySelector('#df-ec440f58-3dd5-4195-b7ac-c30eb4e4b0a2 button.colab-df-convert');\n",
              "        buttonEl.style.display =\n",
              "          google.colab.kernel.accessAllowed ? 'block' : 'none';\n",
              "\n",
              "        async function convertToInteractive(key) {\n",
              "          const element = document.querySelector('#df-ec440f58-3dd5-4195-b7ac-c30eb4e4b0a2');\n",
              "          const dataTable =\n",
              "            await google.colab.kernel.invokeFunction('convertToInteractive',\n",
              "                                                     [key], {});\n",
              "          if (!dataTable) return;\n",
              "\n",
              "          const docLinkHtml = 'Like what you see? Visit the ' +\n",
              "            '<a target=\"_blank\" href=https://colab.research.google.com/notebooks/data_table.ipynb>data table notebook</a>'\n",
              "            + ' to learn more about interactive tables.';\n",
              "          element.innerHTML = '';\n",
              "          dataTable['output_type'] = 'display_data';\n",
              "          await google.colab.output.renderOutput(dataTable, element);\n",
              "          const docLink = document.createElement('div');\n",
              "          docLink.innerHTML = docLinkHtml;\n",
              "          element.appendChild(docLink);\n",
              "        }\n",
              "      </script>\n",
              "    </div>\n",
              "  </div>\n",
              "  "
            ]
          },
          "metadata": {}
        }
      ]
    },
    {
      "cell_type": "markdown",
      "source": [
        "# Printing the data type, the number of unique and null values present in each column"
      ],
      "metadata": {
        "id": "iNDE9fLvOHOS"
      }
    },
    {
      "cell_type": "code",
      "source": [
        "const_column = []\n",
        "# Looping through all columns\n",
        "for col in df.columns.values:\n",
        "  # Array list_vals for storing all the unique values of the current column \n",
        "  list_vals = pd.unique(df[col])\n",
        "  if(len(list_vals) == 1):\n",
        "    # Appending the column name into a array for storing all the constant data columns\n",
        "    const_column.append(col)"
      ],
      "metadata": {
        "id": "0mHOn2C5zWFb"
      },
      "execution_count": 4,
      "outputs": []
    },
    {
      "cell_type": "markdown",
      "source": [
        "# Preprocessing the dataset"
      ],
      "metadata": {
        "id": "cWkFkOKoTX31"
      }
    },
    {
      "cell_type": "code",
      "source": [
        "# Removing all the constant columns\n",
        "for col in const_column:\n",
        "  # Using del to remove the column \n",
        "  del df[col]"
      ],
      "metadata": {
        "id": "sFUAVfSMFh3f"
      },
      "execution_count": 5,
      "outputs": []
    },
    {
      "cell_type": "markdown",
      "source": [
        "Deleting useless columns"
      ],
      "metadata": {
        "id": "9vqC9Sn-Wj56"
      }
    },
    {
      "cell_type": "code",
      "source": [
        "# Deleting the Rowid column because Pandas already keeps tracks of the current row number\n",
        "del df[\"Rowid\"]"
      ],
      "metadata": {
        "id": "HwwLu9KuhXLJ"
      },
      "execution_count": 6,
      "outputs": []
    },
    {
      "cell_type": "markdown",
      "source": [
        "Cleaning all numeric columns to their correct datatype"
      ],
      "metadata": {
        "id": "o_YnQKoYWmrY"
      }
    },
    {
      "cell_type": "code",
      "source": [
        "# Some columns are having float values but have data type object because some entries have 'zero' instead of 0\n",
        "# Changing 'Number of census houses' column to float64 datatype \n",
        "df['Number of census houses'] = pd.to_numeric(df.replace({'Number of census houses' : {'zero':0}})['Number of census houses'])\n",
        "# Changing 'Houses having grass or thatch or bamboo etc. as material of wall' column to float64 datatype \n",
        "df['Houses having grass or thatch or bamboo etc. as material of wall'] = pd.to_numeric(df.replace({'Houses having grass or thatch or bamboo etc. as material of wall' : {'zero':0}})['Houses having grass or thatch or bamboo etc. as material of wall'])\n",
        "# Changing 'Houses having plastic or polythene as material of wall' column to float64 datatype \n",
        "df['Houses having plastic or polythene as material of wall'] = pd.to_numeric(df.replace({'Houses having plastic or polythene as material of wall' : {'zero':0}})['Houses having plastic or polythene as material of wall'])"
      ],
      "metadata": {
        "id": "PwI8O1_pl8It"
      },
      "execution_count": 7,
      "outputs": []
    },
    {
      "cell_type": "code",
      "source": [
        "# Printing the datatype all the 'cleaned' columns\n",
        "df.dtypes"
      ],
      "metadata": {
        "id": "q-v8bvNOnOi_",
        "colab": {
          "base_uri": "https://localhost:8080/"
        },
        "outputId": "7da91c3d-52a5-49e3-d0d5-13823834bdf7"
      },
      "execution_count": 8,
      "outputs": [
        {
          "output_type": "execute_result",
          "data": {
            "text/plain": [
              "State lgd code                                                                                 int64\n",
              "State                                                                                         object\n",
              "District lgd code                                                                              int64\n",
              "District                                                                                      object\n",
              "Type of residence namely rural or urban                                                       object\n",
              "Number of census houses                                                                      float64\n",
              "Houses having grass or thatch or bamboo etc. as material of wall                             float64\n",
              "Houses having plastic or polythene as material of wall                                       float64\n",
              "Houses having mud or unburnt brick as material of wall                                       float64\n",
              "Houses having wood as material of wall                                                       float64\n",
              "Houses having stone not packed with mortar as material of wall                               float64\n",
              "Houses having stone packed with mortar as material of wall                                   float64\n",
              "Houses having galvanized iron (gi) sheets or metal or asbestos sheets as material of wall    float64\n",
              "Houses having burnt brick as material of wall                                                float64\n",
              "Houses having concrete as material of wall                                                   float64\n",
              "Houses having any other material of wall                                                     float64\n",
              "dtype: object"
            ]
          },
          "metadata": {},
          "execution_count": 8
        }
      ]
    },
    {
      "cell_type": "markdown",
      "source": [
        "# Dividing columns J through S by column I and storing in new columns as percent (multiply by 100) "
      ],
      "metadata": {
        "id": "lwBNuxHFwHBM"
      }
    },
    {
      "cell_type": "code",
      "source": [
        "# Creating a new dataframe containing the columns J to S (all columns after I, 'Number of census houses')\n",
        "new_df = df.iloc[:, 6:].copy()\n",
        "# Looping through all the columns of the copied dataframe\n",
        "for i in range(6, df.shape[1]):\n",
        "  # New Column = (Old Column * 100)/ Column I (df.iloc[:, 5])\n",
        "  new_df.iloc[:, (i - 6)] = (df.iloc[:, i]*100)/df.iloc[:, 5]\n",
        "# Displaying the new dataframe\n",
        "display(new_df)"
      ],
      "metadata": {
        "colab": {
          "base_uri": "https://localhost:8080/",
          "height": 554
        },
        "id": "bE0JtnWvYVjc",
        "outputId": "40a07e4d-46a4-4856-fc6e-57c8c198b5c3"
      },
      "execution_count": 9,
      "outputs": [
        {
          "output_type": "display_data",
          "data": {
            "text/plain": [
              "      Houses having grass or thatch or bamboo etc. as material of wall  \\\n",
              "0                                              0.246654                  \n",
              "1                                              0.205835                  \n",
              "2                                              0.156825                  \n",
              "3                                              0.373021                  \n",
              "4                                              0.341459                  \n",
              "...                                                 ...                  \n",
              "1468                                           0.476955                  \n",
              "1469                                           0.110906                  \n",
              "1470                                           0.208373                  \n",
              "1471                                          46.396295                  \n",
              "1472                                           5.725667                  \n",
              "\n",
              "      Houses having plastic or polythene as material of wall  \\\n",
              "0                                              1.215914        \n",
              "1                                              0.360957        \n",
              "2                                              0.197484        \n",
              "3                                              0.205542        \n",
              "4                                              0.143817        \n",
              "...                                                 ...        \n",
              "1468                                           0.354175        \n",
              "1469                                           0.000000        \n",
              "1470                                           0.018943        \n",
              "1471                                           0.175102        \n",
              "1472                                           0.371797        \n",
              "\n",
              "      Houses having mud or unburnt brick as material of wall  \\\n",
              "0                                             20.746357        \n",
              "1                                             20.306068        \n",
              "2                                              8.384931        \n",
              "3                                              7.117844        \n",
              "4                                             15.964869        \n",
              "...                                                 ...        \n",
              "1468                                           1.005856        \n",
              "1469                                           0.924214        \n",
              "1470                                           0.113658        \n",
              "1471                                          13.948825        \n",
              "1472                                           4.427035        \n",
              "\n",
              "      Houses having wood as material of wall  \\\n",
              "0                                   2.753391   \n",
              "1                                   0.366923   \n",
              "2                                   1.122173   \n",
              "3                                   0.182704   \n",
              "4                                   2.682891   \n",
              "...                                      ...   \n",
              "1468                                0.224311   \n",
              "1469                                0.036969   \n",
              "1470                                0.000000   \n",
              "1471                                0.409512   \n",
              "1472                                0.377108   \n",
              "\n",
              "      Houses having stone not packed with mortar as material of wall  \\\n",
              "0                                              2.771662                \n",
              "1                                              0.799475                \n",
              "2                                              0.874737                \n",
              "3                                              1.423569                \n",
              "4                                             10.433304                \n",
              "...                                                 ...                \n",
              "1468                                           0.170004                \n",
              "1469                                           4.399261                \n",
              "1470                                           3.125592                \n",
              "1471                                           0.319137                \n",
              "1472                                           0.361174                \n",
              "\n",
              "      Houses having stone packed with mortar as material of wall  \\\n",
              "0                                              0.438496            \n",
              "1                                              0.277430            \n",
              "2                                              0.357794            \n",
              "3                                              0.228380            \n",
              "4                                              4.554696            \n",
              "...                                                 ...            \n",
              "1468                                           0.436815            \n",
              "1469                                          94.158965            \n",
              "1470                                          91.305171            \n",
              "1471                                           0.208992            \n",
              "1472                                           0.416943            \n",
              "\n",
              "      Houses having galvanized iron (gi) sheets or metal or asbestos sheets as material of wall  \\\n",
              "0                                              0.209199                                           \n",
              "1                                              0.292345                                           \n",
              "2                                              0.250921                                           \n",
              "3                                              0.296894                                           \n",
              "4                                              1.446491                                           \n",
              "...                                                 ...                                           \n",
              "1468                                           0.306951                                           \n",
              "1469                                           0.000000                                           \n",
              "1470                                           0.208373                                           \n",
              "1471                                           0.271125                                           \n",
              "1472                                           0.746249                                           \n",
              "\n",
              "      Houses having burnt brick as material of wall  \\\n",
              "0                                         69.637784   \n",
              "1                                         70.965336   \n",
              "2                                         85.718435   \n",
              "3                                         86.000305   \n",
              "4                                         60.415171   \n",
              "...                                             ...   \n",
              "1468                                      92.463166   \n",
              "1469                                       0.036969   \n",
              "1470                                       2.784618   \n",
              "1471                                      35.703796   \n",
              "1472                                      83.399283   \n",
              "\n",
              "      Houses having concrete as material of wall  \\\n",
              "0                                       1.278948   \n",
              "1                                       5.650021   \n",
              "2                                       1.184903   \n",
              "3                                       3.456151   \n",
              "4                                       1.760565   \n",
              "...                                          ...   \n",
              "1468                                    4.549962   \n",
              "1469                                    0.092421   \n",
              "1470                                    2.197386   \n",
              "1471                                    2.533326   \n",
              "1472                                    4.113664   \n",
              "\n",
              "      Houses having any other material of wall  \n",
              "0                                     0.701594  \n",
              "1                                     0.775610  \n",
              "2                                     1.751798  \n",
              "3                                     0.715591  \n",
              "4                                     2.256736  \n",
              "...                                        ...  \n",
              "1468                                  0.011806  \n",
              "1469                                  0.240296  \n",
              "1470                                  0.037886  \n",
              "1471                                  0.033891  \n",
              "1472                                  0.061081  \n",
              "\n",
              "[1473 rows x 10 columns]"
            ],
            "text/html": [
              "\n",
              "  <div id=\"df-6857f1ac-e0f0-4d56-930a-7d267f0575b0\">\n",
              "    <div class=\"colab-df-container\">\n",
              "      <div>\n",
              "<style scoped>\n",
              "    .dataframe tbody tr th:only-of-type {\n",
              "        vertical-align: middle;\n",
              "    }\n",
              "\n",
              "    .dataframe tbody tr th {\n",
              "        vertical-align: top;\n",
              "    }\n",
              "\n",
              "    .dataframe thead th {\n",
              "        text-align: right;\n",
              "    }\n",
              "</style>\n",
              "<table border=\"1\" class=\"dataframe\">\n",
              "  <thead>\n",
              "    <tr style=\"text-align: right;\">\n",
              "      <th></th>\n",
              "      <th>Houses having grass or thatch or bamboo etc. as material of wall</th>\n",
              "      <th>Houses having plastic or polythene as material of wall</th>\n",
              "      <th>Houses having mud or unburnt brick as material of wall</th>\n",
              "      <th>Houses having wood as material of wall</th>\n",
              "      <th>Houses having stone not packed with mortar as material of wall</th>\n",
              "      <th>Houses having stone packed with mortar as material of wall</th>\n",
              "      <th>Houses having galvanized iron (gi) sheets or metal or asbestos sheets as material of wall</th>\n",
              "      <th>Houses having burnt brick as material of wall</th>\n",
              "      <th>Houses having concrete as material of wall</th>\n",
              "      <th>Houses having any other material of wall</th>\n",
              "    </tr>\n",
              "  </thead>\n",
              "  <tbody>\n",
              "    <tr>\n",
              "      <th>0</th>\n",
              "      <td>0.246654</td>\n",
              "      <td>1.215914</td>\n",
              "      <td>20.746357</td>\n",
              "      <td>2.753391</td>\n",
              "      <td>2.771662</td>\n",
              "      <td>0.438496</td>\n",
              "      <td>0.209199</td>\n",
              "      <td>69.637784</td>\n",
              "      <td>1.278948</td>\n",
              "      <td>0.701594</td>\n",
              "    </tr>\n",
              "    <tr>\n",
              "      <th>1</th>\n",
              "      <td>0.205835</td>\n",
              "      <td>0.360957</td>\n",
              "      <td>20.306068</td>\n",
              "      <td>0.366923</td>\n",
              "      <td>0.799475</td>\n",
              "      <td>0.277430</td>\n",
              "      <td>0.292345</td>\n",
              "      <td>70.965336</td>\n",
              "      <td>5.650021</td>\n",
              "      <td>0.775610</td>\n",
              "    </tr>\n",
              "    <tr>\n",
              "      <th>2</th>\n",
              "      <td>0.156825</td>\n",
              "      <td>0.197484</td>\n",
              "      <td>8.384931</td>\n",
              "      <td>1.122173</td>\n",
              "      <td>0.874737</td>\n",
              "      <td>0.357794</td>\n",
              "      <td>0.250921</td>\n",
              "      <td>85.718435</td>\n",
              "      <td>1.184903</td>\n",
              "      <td>1.751798</td>\n",
              "    </tr>\n",
              "    <tr>\n",
              "      <th>3</th>\n",
              "      <td>0.373021</td>\n",
              "      <td>0.205542</td>\n",
              "      <td>7.117844</td>\n",
              "      <td>0.182704</td>\n",
              "      <td>1.423569</td>\n",
              "      <td>0.228380</td>\n",
              "      <td>0.296894</td>\n",
              "      <td>86.000305</td>\n",
              "      <td>3.456151</td>\n",
              "      <td>0.715591</td>\n",
              "    </tr>\n",
              "    <tr>\n",
              "      <th>4</th>\n",
              "      <td>0.341459</td>\n",
              "      <td>0.143817</td>\n",
              "      <td>15.964869</td>\n",
              "      <td>2.682891</td>\n",
              "      <td>10.433304</td>\n",
              "      <td>4.554696</td>\n",
              "      <td>1.446491</td>\n",
              "      <td>60.415171</td>\n",
              "      <td>1.760565</td>\n",
              "      <td>2.256736</td>\n",
              "    </tr>\n",
              "    <tr>\n",
              "      <th>...</th>\n",
              "      <td>...</td>\n",
              "      <td>...</td>\n",
              "      <td>...</td>\n",
              "      <td>...</td>\n",
              "      <td>...</td>\n",
              "      <td>...</td>\n",
              "      <td>...</td>\n",
              "      <td>...</td>\n",
              "      <td>...</td>\n",
              "      <td>...</td>\n",
              "    </tr>\n",
              "    <tr>\n",
              "      <th>1468</th>\n",
              "      <td>0.476955</td>\n",
              "      <td>0.354175</td>\n",
              "      <td>1.005856</td>\n",
              "      <td>0.224311</td>\n",
              "      <td>0.170004</td>\n",
              "      <td>0.436815</td>\n",
              "      <td>0.306951</td>\n",
              "      <td>92.463166</td>\n",
              "      <td>4.549962</td>\n",
              "      <td>0.011806</td>\n",
              "    </tr>\n",
              "    <tr>\n",
              "      <th>1469</th>\n",
              "      <td>0.110906</td>\n",
              "      <td>0.000000</td>\n",
              "      <td>0.924214</td>\n",
              "      <td>0.036969</td>\n",
              "      <td>4.399261</td>\n",
              "      <td>94.158965</td>\n",
              "      <td>0.000000</td>\n",
              "      <td>0.036969</td>\n",
              "      <td>0.092421</td>\n",
              "      <td>0.240296</td>\n",
              "    </tr>\n",
              "    <tr>\n",
              "      <th>1470</th>\n",
              "      <td>0.208373</td>\n",
              "      <td>0.018943</td>\n",
              "      <td>0.113658</td>\n",
              "      <td>0.000000</td>\n",
              "      <td>3.125592</td>\n",
              "      <td>91.305171</td>\n",
              "      <td>0.208373</td>\n",
              "      <td>2.784618</td>\n",
              "      <td>2.197386</td>\n",
              "      <td>0.037886</td>\n",
              "    </tr>\n",
              "    <tr>\n",
              "      <th>1471</th>\n",
              "      <td>46.396295</td>\n",
              "      <td>0.175102</td>\n",
              "      <td>13.948825</td>\n",
              "      <td>0.409512</td>\n",
              "      <td>0.319137</td>\n",
              "      <td>0.208992</td>\n",
              "      <td>0.271125</td>\n",
              "      <td>35.703796</td>\n",
              "      <td>2.533326</td>\n",
              "      <td>0.033891</td>\n",
              "    </tr>\n",
              "    <tr>\n",
              "      <th>1472</th>\n",
              "      <td>5.725667</td>\n",
              "      <td>0.371797</td>\n",
              "      <td>4.427035</td>\n",
              "      <td>0.377108</td>\n",
              "      <td>0.361174</td>\n",
              "      <td>0.416943</td>\n",
              "      <td>0.746249</td>\n",
              "      <td>83.399283</td>\n",
              "      <td>4.113664</td>\n",
              "      <td>0.061081</td>\n",
              "    </tr>\n",
              "  </tbody>\n",
              "</table>\n",
              "<p>1473 rows × 10 columns</p>\n",
              "</div>\n",
              "      <button class=\"colab-df-convert\" onclick=\"convertToInteractive('df-6857f1ac-e0f0-4d56-930a-7d267f0575b0')\"\n",
              "              title=\"Convert this dataframe to an interactive table.\"\n",
              "              style=\"display:none;\">\n",
              "        \n",
              "  <svg xmlns=\"http://www.w3.org/2000/svg\" height=\"24px\"viewBox=\"0 0 24 24\"\n",
              "       width=\"24px\">\n",
              "    <path d=\"M0 0h24v24H0V0z\" fill=\"none\"/>\n",
              "    <path d=\"M18.56 5.44l.94 2.06.94-2.06 2.06-.94-2.06-.94-.94-2.06-.94 2.06-2.06.94zm-11 1L8.5 8.5l.94-2.06 2.06-.94-2.06-.94L8.5 2.5l-.94 2.06-2.06.94zm10 10l.94 2.06.94-2.06 2.06-.94-2.06-.94-.94-2.06-.94 2.06-2.06.94z\"/><path d=\"M17.41 7.96l-1.37-1.37c-.4-.4-.92-.59-1.43-.59-.52 0-1.04.2-1.43.59L10.3 9.45l-7.72 7.72c-.78.78-.78 2.05 0 2.83L4 21.41c.39.39.9.59 1.41.59.51 0 1.02-.2 1.41-.59l7.78-7.78 2.81-2.81c.8-.78.8-2.07 0-2.86zM5.41 20L4 18.59l7.72-7.72 1.47 1.35L5.41 20z\"/>\n",
              "  </svg>\n",
              "      </button>\n",
              "      \n",
              "  <style>\n",
              "    .colab-df-container {\n",
              "      display:flex;\n",
              "      flex-wrap:wrap;\n",
              "      gap: 12px;\n",
              "    }\n",
              "\n",
              "    .colab-df-convert {\n",
              "      background-color: #E8F0FE;\n",
              "      border: none;\n",
              "      border-radius: 50%;\n",
              "      cursor: pointer;\n",
              "      display: none;\n",
              "      fill: #1967D2;\n",
              "      height: 32px;\n",
              "      padding: 0 0 0 0;\n",
              "      width: 32px;\n",
              "    }\n",
              "\n",
              "    .colab-df-convert:hover {\n",
              "      background-color: #E2EBFA;\n",
              "      box-shadow: 0px 1px 2px rgba(60, 64, 67, 0.3), 0px 1px 3px 1px rgba(60, 64, 67, 0.15);\n",
              "      fill: #174EA6;\n",
              "    }\n",
              "\n",
              "    [theme=dark] .colab-df-convert {\n",
              "      background-color: #3B4455;\n",
              "      fill: #D2E3FC;\n",
              "    }\n",
              "\n",
              "    [theme=dark] .colab-df-convert:hover {\n",
              "      background-color: #434B5C;\n",
              "      box-shadow: 0px 1px 3px 1px rgba(0, 0, 0, 0.15);\n",
              "      filter: drop-shadow(0px 1px 2px rgba(0, 0, 0, 0.3));\n",
              "      fill: #FFFFFF;\n",
              "    }\n",
              "  </style>\n",
              "\n",
              "      <script>\n",
              "        const buttonEl =\n",
              "          document.querySelector('#df-6857f1ac-e0f0-4d56-930a-7d267f0575b0 button.colab-df-convert');\n",
              "        buttonEl.style.display =\n",
              "          google.colab.kernel.accessAllowed ? 'block' : 'none';\n",
              "\n",
              "        async function convertToInteractive(key) {\n",
              "          const element = document.querySelector('#df-6857f1ac-e0f0-4d56-930a-7d267f0575b0');\n",
              "          const dataTable =\n",
              "            await google.colab.kernel.invokeFunction('convertToInteractive',\n",
              "                                                     [key], {});\n",
              "          if (!dataTable) return;\n",
              "\n",
              "          const docLinkHtml = 'Like what you see? Visit the ' +\n",
              "            '<a target=\"_blank\" href=https://colab.research.google.com/notebooks/data_table.ipynb>data table notebook</a>'\n",
              "            + ' to learn more about interactive tables.';\n",
              "          element.innerHTML = '';\n",
              "          dataTable['output_type'] = 'display_data';\n",
              "          await google.colab.output.renderOutput(dataTable, element);\n",
              "          const docLink = document.createElement('div');\n",
              "          docLink.innerHTML = docLinkHtml;\n",
              "          element.appendChild(docLink);\n",
              "        }\n",
              "      </script>\n",
              "    </div>\n",
              "  </div>\n",
              "  "
            ]
          },
          "metadata": {}
        }
      ]
    },
    {
      "cell_type": "code",
      "source": [
        "# Storing the Houses having mud or unburnt brick as material of wall into data variable\n",
        "data = new_df[\"Houses having mud or unburnt brick as material of wall\"]"
      ],
      "metadata": {
        "id": "8VGdzE47UxPA"
      },
      "execution_count": 10,
      "outputs": []
    },
    {
      "cell_type": "markdown",
      "source": [
        "# Q-Q plot for Gaussian and Uniform distributions "
      ],
      "metadata": {
        "id": "6yLxixJKyMiB"
      }
    },
    {
      "cell_type": "code",
      "source": [
        "# Using the statsmodel api for displaying the QQ plot\n",
        "import statsmodels.api as sm\n",
        "from statsmodels.graphics.gofplots import qqplot\n",
        "from scipy.stats import norm, uniform\n",
        "print(\"QQ plot for the Gaussian distribution\")\n",
        "# QQ plot for gaussian distribution\n",
        "sm.qqplot(data.dropna(),norm, line=\"s\")\n",
        "plt.show()\n",
        "# Seperating each plot by a line\n",
        "print(\"----\")\n",
        "# \n",
        "print(\"QQ plot for the Uniform distribution\")\n",
        "# QQ plot for uniform distribution\n",
        "sm.qqplot(data.dropna(),uniform, line=\"s\")\n",
        "\n",
        "plt.show()\n",
        "\n",
        "print(\"----\")\n",
        "\n",
        "\n",
        "\n",
        "# Reference : https://www.yourdatateacher.com/2021/06/21/how-to-use-q-q-plot-for-checking-the-distribution-of-our-data/"
      ],
      "metadata": {
        "colab": {
          "base_uri": "https://localhost:8080/",
          "height": 612
        },
        "id": "B0IWVlIk1T0R",
        "outputId": "e34964f4-8807-4e0b-e37b-4c050bf16a9c"
      },
      "execution_count": 11,
      "outputs": [
        {
          "output_type": "stream",
          "name": "stdout",
          "text": [
            "QQ plot for the Gaussian distribution\n"
          ]
        },
        {
          "output_type": "display_data",
          "data": {
            "text/plain": [
              "<Figure size 432x288 with 1 Axes>"
            ],
            "image/png": "[encoded data removed]"
          },
          "metadata": {
            "needs_background": "light"
          }
        },
        {
          "output_type": "stream",
          "name": "stdout",
          "text": [
            "----\n",
            "QQ plot for the Uniform distribution\n"
          ]
        },
        {
          "output_type": "display_data",
          "data": {
            "text/plain": [
              "<Figure size 432x288 with 1 Axes>"
            ],
            "image/png": "[encoded data removed]"
          },
          "metadata": {
            "needs_background": "light"
          }
        },
        {
          "output_type": "stream",
          "name": "stdout",
          "text": [
            "----\n"
          ]
        }
      ]
    },
    {
      "cell_type": "markdown",
      "source": [
        "From observing the QQ plots for Gaussian and Uniform Distributions, we can say that Gaussian is a better fit as the uniform plot is far from fitting"
      ],
      "metadata": {
        "id": "Gf6LDAFxjBkq"
      }
    },
    {
      "cell_type": "markdown",
      "source": [
        "# MLE parameter estimates for Gaussian distribution\n",
        "$p_{\\mu, \\sigma} = \\frac{1}{\\sigma \\sqrt{2\\pi}} e^{\\frac{-1}{2} \\big(\\frac{x - \\mu}{\\sigma} \\big)^2}$ \n",
        "\n",
        "$\\mu = \\frac{1}{N} \\times \\sum_{i} x_i$ (mean)\n",
        "\n",
        "$\\sigma = \\sqrt{\\frac{\\sum_i (x_i - x)^2}{N}}$ (standard deviation)"
      ],
      "metadata": {
        "id": "IcamoPsMan4w"
      }
    },
    {
      "cell_type": "code",
      "source": [
        "# Mean of data \n",
        "mu = data.mean()\n",
        "# Standard deviation of data\n",
        "sigma = data.std()*data.std()\n",
        "print(\"MLE estimate of mean : \" + str(mu))\n",
        "print(\"MLE estimate of Standard deviation : \" + str(data.std()))"
      ],
      "metadata": {
        "colab": {
          "base_uri": "https://localhost:8080/"
        },
        "id": "S53dPkRGanoW",
        "outputId": "6c1445f0-cec8-4327-d4b8-ac906c24cd83"
      },
      "execution_count": 12,
      "outputs": [
        {
          "output_type": "stream",
          "name": "stdout",
          "text": [
            "MLE estimate of mean : 20.95141239680236\n",
            "MLE estimate of Standard deviation : 20.995359141637177\n"
          ]
        }
      ]
    },
    {
      "cell_type": "markdown",
      "source": [
        "# MLE parameter estimates for Uniform distribution\n",
        "\n",
        "$p_{a,b}(x) = \\begin{cases}\n",
        "  \\frac{1}{b-a} & a \\leq x \\leq b \\\\\n",
        "  0 & \\text{otherwise}\n",
        " \\end{cases}$\n",
        "\n",
        " a = min($x_i$)  \n",
        " b = max($x_i$)"
      ],
      "metadata": {
        "id": "6HZAAMGVe_Zc"
      }
    },
    {
      "cell_type": "code",
      "source": [
        "# Minimum value of data\n",
        "a = data.min()\n",
        "# Maximum value of data\n",
        "b = data.max()\n",
        "print(\"MLE estimate of a : \" + str(a))\n",
        "print(\"MLE estimate of b : \" + str(b))\n"
      ],
      "metadata": {
        "colab": {
          "base_uri": "https://localhost:8080/"
        },
        "id": "s8R1NrhFhgeb",
        "outputId": "9057b534-8bad-42c1-a19e-22ed8171572e"
      },
      "execution_count": 13,
      "outputs": [
        {
          "output_type": "stream",
          "name": "stdout",
          "text": [
            "MLE estimate of a : 0.0\n",
            "MLE estimate of b : 96.46082059155783\n"
          ]
        }
      ]
    },
    {
      "cell_type": "code",
      "source": [
        "number_of_samples = len(data)\n",
        "print(\"Number of samples in dataset : \" + str(number_of_samples))"
      ],
      "metadata": {
        "colab": {
          "base_uri": "https://localhost:8080/"
        },
        "id": "A57C_1BOvNqp",
        "outputId": "e8b24db3-9ae3-4846-b93e-a39923cf0e7a"
      },
      "execution_count": 14,
      "outputs": [
        {
          "output_type": "stream",
          "name": "stdout",
          "text": [
            "Number of samples in dataset : 1473\n"
          ]
        }
      ]
    },
    {
      "cell_type": "markdown",
      "source": [
        "# Comparing Log Likelihoods\n",
        "Log likelihood l(x) of Uniform Distribution = -nlog(b-a)  \n",
        "Log likelihood l(x) of Normal Distribution = $-\\frac{n}{2}ln(2\\pi) - \\frac{n}{2}ln(\\sigma^2) - \\frac{1}{2\\sigma^2}\\sum_i(x_i - \\mu)^2$"
      ],
      "metadata": {
        "id": "XF4v_Q7xu441"
      }
    },
    {
      "cell_type": "code",
      "source": [
        "# log likelihood for uniform distribution using the formula specified above\n",
        "log_likelihood_uniform = -number_of_samples*(b - a)\n",
        "print(\"Log Likelihood of Uniform Distribution : \" + str(log_likelihood_uniform))"
      ],
      "metadata": {
        "colab": {
          "base_uri": "https://localhost:8080/"
        },
        "id": "gFmMtzTiiJn0",
        "outputId": "4b3019b6-2606-46c8-cf04-d3b363e431d6"
      },
      "execution_count": 15,
      "outputs": [
        {
          "output_type": "stream",
          "name": "stdout",
          "text": [
            "Log Likelihood of Uniform Distribution : -142086.78873136468\n"
          ]
        }
      ]
    },
    {
      "cell_type": "code",
      "source": [
        "# log likelihood for gaussian distribution using the formula specified above\n",
        "import math\n",
        "log_likelihood_normal = -(number_of_samples*(math.log(2*math.pi) + math.log(sigma))/2) - ((((data - mu)**2).sum())/(2*sigma))\n",
        "\n",
        "print(\"Log Likelihood of Normal Distribution : \" + str(log_likelihood_normal))"
      ],
      "metadata": {
        "colab": {
          "base_uri": "https://localhost:8080/"
        },
        "id": "HiN6XQBdwEeR",
        "outputId": "4a1070f4-a932-4cbb-c580-2140d8ecd43c"
      },
      "execution_count": 16,
      "outputs": [
        {
          "output_type": "stream",
          "name": "stdout",
          "text": [
            "Log Likelihood of Normal Distribution : -6556.35245113742\n"
          ]
        }
      ]
    },
    {
      "cell_type": "markdown",
      "source": [
        "Since log likelihood of normal distribution is greater than that of uniform distribution  \n",
        "$\\Pi_i p_{normal}(x_i) > \\Pi_i p_{uniform}(x_i)$  \n",
        "Hence Gaussian distribution is more likely to\n",
        "explain the observed data "
      ],
      "metadata": {
        "id": "e631jKJh1tJK"
      }
    },
    {
      "cell_type": "markdown",
      "source": [
        "# Question 2"
      ],
      "metadata": {
        "id": "-6svEQB2yJWg"
      }
    },
    {
      "cell_type": "markdown",
      "source": [
        "p(x) = $\\begin{cases} \n",
        "  1 - |x| & |x| \\leq 1 \\\\\n",
        "  0 & otherwise\n",
        "\\end{cases}$"
      ],
      "metadata": {
        "id": "zYLqphdto8yM"
      }
    },
    {
      "cell_type": "markdown",
      "source": [
        "QQ plot using a discrete approximation of the continuous function"
      ],
      "metadata": {
        "id": "vlTbDBU7q6Yl"
      }
    },
    {
      "cell_type": "code",
      "source": [
        "# using rv_discrete class from scipy stats for getting an approximate distribution of the given \n",
        "from scipy.stats import rv_discrete\n",
        "# Creating sample input using linspace which returns evenly spaced numbers over a specified interval.\n",
        "x = np.linspace(-5, 5, 10000)\n",
        "# Function for the IQ funciton\n",
        "def IQ(x, scale=1, shift=1):\n",
        "  # probability value array using np.where which result the second argument if the first argument is true \n",
        "  p = np.where((abs(x) <= 1), (1 - abs(x)), 0)\n",
        "  # Normalizing p values such that sum of probabilites is 1\n",
        "  p_new = p/np.sum(p)\n",
        "  # Creating the approximate distribution using sample input and output values\n",
        "  return rv_discrete(name=\"custom\", values=(x, p_new))\n",
        "\n",
        "# Freezing the distribution\n",
        "custom_dist = IQ(x)\n",
        "# Reference = https://github.com/scipy/scipy/issues/11132"
      ],
      "metadata": {
        "id": "BlBns2-pxq0l"
      },
      "execution_count": 17,
      "outputs": []
    },
    {
      "cell_type": "code",
      "source": [
        "# QQ plot for the given dataset (Houses having mud or unburnt brick)\n",
        "sm.qqplot(data.dropna(),custom_dist, line=\"s\")\n",
        "\n",
        "plt.show()\n",
        "\n",
        "print(\"----\")"
      ],
      "metadata": {
        "colab": {
          "base_uri": "https://localhost:8080/",
          "height": 298
        },
        "id": "qUDDMYdTxqpn",
        "outputId": "55fb0198-97db-4593-9770-bbbd2e06c8a3"
      },
      "execution_count": 18,
      "outputs": [
        {
          "output_type": "display_data",
          "data": {
            "text/plain": [
              "<Figure size 432x288 with 1 Axes>"
            ],
            "image/png": "[encoded data removed]"
          },
          "metadata": {
            "needs_background": "light"
          }
        },
        {
          "output_type": "stream",
          "name": "stdout",
          "text": [
            "----\n"
          ]
        }
      ]
    },
    {
      "cell_type": "markdown",
      "source": [
        "Continuous distribution\n",
        "We are required to create a function for finding the ppf - Percent point function (inverse of cdf) such that we can plot an accurate QQ plot  \n",
        "PPf is the inverse of cdf  \n",
        "Find a such that  (since x is between -1 and 1 ,so is a)\n",
        "$\\begin{align} \n",
        "  y &= \\int_{-\\infty}^{a}p(x)dx \\\\\n",
        "  & \\text{If 1 < a < 0} \\\\\n",
        "  y &= \\int_{-1}^{a}(1  + x)dx \\\\\n",
        "  y &= a + 0.5a^2 + 1 \\\\\n",
        "  a &= \\sqrt{2y} - 1  \\tag{1} \\\\\n",
        "  & \\text{The above equation is true if $0 \\leq y \\leq 0.5$ } \\\\\n",
        "  & \\text{Now if 1 > a > 0} \\\\\n",
        "  y &= \\int_{-1}^{0}(1  + x)dx + \\int_{0}^{a}(1  - x)dx \\\\\n",
        "  y &= 0.5 + a - 0.5a^2 \\\\\n",
        "  a &= 1 - \\sqrt{2 -2y} \\tag{2} \\\\\n",
        "  & \\text{The above equation is true if $0.5 \\leq y \\leq 1$} \\\\\n",
        "\\end{align}$\n",
        "\n",
        "The two a values define the ppf function for each y"
      ],
      "metadata": {
        "id": "JogFnU7jrA5e"
      }
    },
    {
      "cell_type": "code",
      "source": [
        "# Creating a continuous distibution by inheriting the rv_continuous class\n",
        "from scipy.stats import rv_continuous\n",
        "# Class for creating the distribution\n",
        "class iq_generator(rv_continuous):\n",
        "    \"Custom distribution\"\n",
        "    # Function for the pdf\n",
        "    def _pdf(self, x):\n",
        "      return (1 - abs(x)) if abs(x) <= 1 else 0\n",
        "    # Percent point function (inverse of cdf)\n",
        "    def _ppf(self, x):\n",
        "      # Checking if the input is an array of a single values such as float or int\n",
        "      if(isinstance(x, (float, int))):\n",
        "        # Returning the ppf value for the corresponding y value using equations (1) and (2) in the above paragraph\n",
        "        return (math.sqrt(2*x) - 1) if (x >= 0 and x <= 0.5) else (-1*math.sqrt(2 - 2*x) + 1)\n",
        "      else:\n",
        "        # If the input is an array\n",
        "        # return np.where(np.logical_and( x >= 0, x <= 0.5), math.sqrt(2*x) - 1, -1*math.sqrt(2 - 2*x) + 1)\n",
        "        output = []\n",
        "        # Loop through the array of input percentiles\n",
        "        for x in x:\n",
        "          if(x >= 0 and x <= 0.5):\n",
        "            # Append the ppf values into the output array\n",
        "            output.append((math.sqrt(2*x) - 1))\n",
        "          else:\n",
        "            # Append the ppf values into the output array\n",
        "            output.append((-1*math.sqrt(2 - 2*x) + 1))\n",
        "        return output\n",
        "        \n",
        " # Defining the Continuous distribution        \n",
        "custom = iq_generator(name='custom')"
      ],
      "metadata": {
        "id": "aty-EfNaFQsK"
      },
      "execution_count": 19,
      "outputs": []
    },
    {
      "cell_type": "code",
      "source": [
        "# QQ plot using the Continuous distribution \n",
        "sm.qqplot(data.dropna(),custom, line=\"s\")\n",
        "\n",
        "plt.show()\n",
        "\n",
        "print(\"----\")"
      ],
      "metadata": {
        "colab": {
          "base_uri": "https://localhost:8080/",
          "height": 298
        },
        "id": "Hw59LZzjV2Y3",
        "outputId": "2d02a529-dfd0-482b-9c7d-dfd638a00be9"
      },
      "execution_count": 20,
      "outputs": [
        {
          "output_type": "display_data",
          "data": {
            "text/plain": [
              "<Figure size 432x288 with 1 Axes>"
            ],
            "image/png": "[encoded data removed]"
          },
          "metadata": {
            "needs_background": "light"
          }
        },
        {
          "output_type": "stream",
          "name": "stdout",
          "text": [
            "----\n"
          ]
        }
      ]
    },
    {
      "cell_type": "markdown",
      "source": [
        "Comparing the QQ plots of discrete and continuous definitions we can say that the discrete approxmation for the distribution is a very good approximation"
      ],
      "metadata": {
        "id": "ommYFOVcvsnb"
      }
    },
    {
      "cell_type": "markdown",
      "source": [
        "# Parameterizing the IQ funciton\n",
        "let shift = b and scale = a  \n",
        "For shifting p(x) becomes p(x - b)  \n",
        "For scaling p(x) becomes p(ax)  \n",
        "Hence the after shifting and scaling p(x) shoukd be p(a*(x - b))   \n",
        "Hence new p(x) = $\\lambda(1 - |a*(x - b)|)$   \n",
        "Here lambda is present for keeping Area = 1  \n",
        "Since $0 \\leq p(x) \\leq 1$  (probability is between 0 and 1)   \n",
        "$\\lambda(1 - |a*(x - b)|) > 0$  \n",
        "$b - \\dfrac{1}{a} \\leq x \\leq b + \\dfrac{1}{a} $   \n",
        "Area = 1,  \n",
        "$\\int_{b - \\frac{1}{a}}^{b + \\frac{1}{a}}p(x) = 1$  \n",
        "$\\lambda \\big(\\int_{b - \\frac{1}{a}}^{b + \\frac{1}{a}} (1 - |a*(x - b)|)dx \\big) = 1$  \n",
        "$\\lambda = a$  \n",
        "For $0 \\leq p(x) \\leq 1 , 0 < a \\leq 1 $ \n",
        "Hence,  \n",
        "p(x) = $\\begin{cases}\n",
        "a*(1 - |a*(x - b)|) & b - \\dfrac{1}{a} \\leq x \\leq b + \\dfrac{1}{a} \\\\\n",
        "0 & otherwise\n",
        "\\end{cases}\n",
        "$"
      ],
      "metadata": {
        "id": "5dcUG20L15JB"
      }
    },
    {
      "cell_type": "code",
      "source": [
        "# Defining a function for discrete approximation of the parameterized distribution\n",
        "def IQ_param(x, **kwargs):\n",
        "  # Scale variable\n",
        "  a = kwargs[\"scale\"]\n",
        "  # Shift Variable\n",
        "  b = kwargs[\"shift\"]\n",
        "  # Parameterized IQ function as defined in the above paragraph \n",
        "  p = np.where((abs(x) <= 1), (1 - abs(a*x - b))*a, 0)\n",
        "  # Normalizing the p values since their sum is required to be zero\n",
        "  p_new = p/np.sum(p)\n",
        "  return rv_discrete(name=\"custom\", values=(x, p_new))\n",
        "\n",
        "# Creating a evenly spaced custom input ranging from -5 to 5\n",
        "x = np.linspace(-5, 5, 10000)\n",
        "# Parameterized IQ function with shift 10 and scale 1\n",
        "custom_dist2 = IQ_param(x, shift = 10, scale = 1)\n",
        "# QQ plot for the Parameterized IQ function \n",
        "sm.qqplot(data.dropna(),custom_dist2, line=\"s\")\n",
        "\n",
        "plt.show()\n",
        "\n",
        "print(\"----\")"
      ],
      "metadata": {
        "colab": {
          "base_uri": "https://localhost:8080/",
          "height": 298
        },
        "id": "reMTRbDtxqg0",
        "outputId": "a0f0ce74-8ceb-433f-a6b3-c697cd3d0eb4"
      },
      "execution_count": 21,
      "outputs": [
        {
          "output_type": "display_data",
          "data": {
            "text/plain": [
              "<Figure size 432x288 with 1 Axes>"
            ],
            "image/png": "[encoded data removed]"
          },
          "metadata": {
            "needs_background": "light"
          }
        },
        {
          "output_type": "stream",
          "name": "stdout",
          "text": [
            "----\n"
          ]
        }
      ]
    },
    {
      "cell_type": "markdown",
      "source": [
        "As observed from the above QQ plot, if we shift the distribution to 10 and scale by 1(no scaling), then the new parameterized IQ function is more likely to\n",
        "explain the observed data."
      ],
      "metadata": {
        "id": "qc5tbZpw3ULy"
      }
    },
    {
      "cell_type": "markdown",
      "source": [
        "# MLE estimates for the IQ function\n",
        "\n",
        "let shift = b and scale = a \n",
        "\n",
        "Likelihood function L(x) = $\\Pi_{i=1}^n p(x_i)$  \n",
        "$L(a, b, x_1, x_2 \\dots x_n) = a^n*(1 - |a(x - b)|)$  \n",
        "Log likelihhod $l(a, b, x_1, x_2 \\dots x_n) = nlog(a) + \\sum_{i}^n(log(1 - |a(x - b)|))$  \n",
        "Take partial derivatives w.r.t a and b and equate them to zero  \n",
        "$\\displaystyle \\frac{\\partial l}{\\partial a} = \\frac{n}{a} + \\sum_{i=1}^n \\frac{|x_i - b|}{1 - |a(x - b)|} = 0$\n",
        "\n",
        "$\\displaystyle \\frac{\\partial l}{\\partial b} = \\sum_{i=1}^n \\frac{(x_i - b)}{(1 - |a(x - b)|)*(|x_i - b|)} = 0$\n",
        "\n",
        "Finding closed form solution for a and b will give us the MLE estimates for the IQ function.\n",
        "\n",
        "However finding the closed form solution is not easy in this case"
      ],
      "metadata": {
        "id": "cuA9X4p74AtF"
      }
    },
    {
      "cell_type": "markdown",
      "source": [
        "We can find the log likelihood for the parameterized IQ function and minimize its value with respect to a and b as the MLe parameters"
      ],
      "metadata": {
        "id": "MxM0GC-Wwsg8"
      }
    },
    {
      "cell_type": "code",
      "source": [
        "# optimized using scipy \n",
        "import scipy.optimize as opt\n",
        "from statsmodels.base.model import GenericLikelihoodModel\n",
        "from scipy.optimize import minimize\n",
        "# Function for finding the log likelihood\n",
        "def IQ_logL(parameters, data):\n",
        "  # Size of dataset\n",
        "  N = len(data)\n",
        "  # The reason we use log-transformed parameters is to avoid the potential errors due to \n",
        "  # invalid values placed in the logarithms of IQ_logL function during the optimization process.\n",
        "  a,b = np.exp(parameters)\n",
        "  # First term of the log likelihood \n",
        "  logL = N*np.log(a)\n",
        "  # Looping through all dara values\n",
        "  for x in data:\n",
        "    # Function exists only between b +- a\n",
        "    if( (x > (b - 1/a)) and (x < (b + 1/a)) ):\n",
        "      # Summing the log likehood values for each data point\n",
        "      logL = logL + (np.log(1 - np.abs(a*(x - b))))\n",
        "  # Returning the negative log likelihood\n",
        "  return -logL\n",
        "\n",
        "# Defining a function for finding the Maximum Likelihood Estimates for the given input data into the parameterized IQ function\n",
        "def IQ_mle(data):\n",
        "  # Using minimize from the scipy library for finding MLE estimates of a and b with itheir initial values being a =  e^{-0.6} ~ 0.54\n",
        "  # and b = e^{0.1} = 1.1 and using Broyden–Fletcher–Goldfarb–Shanno (BFGS) algorithm for minimizing the log likelihood\n",
        "    res = opt.minimize(\n",
        "  # Lambda (anonymous) function used for creating the log likelihood function\n",
        "    fun=lambda parameters, data: IQ_logL(parameters, data),\n",
        "    # initial values of a and b set\n",
        "    x0=np.array([-0.6, 0.10]), args=(data,), method='BFGS')\n",
        "    # the parameters returned are log transformed here\n",
        "    a,b = np.exp(res.x)\n",
        "    return a,b\n",
        "# Reference =  https://python.plainenglish.io/scipy-has-failed-you-do-maximum-likelihood-estimation-by-yourself-34145d71b63f"
      ],
      "metadata": {
        "id": "-oFsodpX3Ssd"
      },
      "execution_count": 34,
      "outputs": []
    },
    {
      "cell_type": "markdown",
      "source": [
        "# PPF of parameterized IQ function\n",
        "\n",
        "let shift = b and scale = a \n",
        "\n",
        "$\\begin{align} \n",
        "  y &= \\int_{-\\infty}^{a}p(x)dx \\\\\n",
        "  & \\text{If b- 1/a < a < b } \\\\\n",
        "  y &= \\int_{b- 1/a}^{a}(1  + a(x-b)dx \\\\\n",
        "  a &= \\frac{(\\sqrt{2y} - 1 + ab)}{a}  \\tag{3} \\\\\n",
        "  & \\text{The above equation is true if $0 \\leq y \\leq 0.5$ } \\\\\n",
        "  & \\text{Now if b+1/a > a > b} \\\\\n",
        "  y &= \\int_{b- 1/a}^{b}(1  + a(x-b))dx + \\int_{b}^{b + 1/a}(1  - a(x-b))dx \\\\\n",
        "  a &= \\frac{(1 + ab - \\sqrt{2 -2y})}{a} \\tag{4} \\\\\n",
        "  & \\text{The above equation is true if $0.5 \\leq y \\leq 1$} \\\\\n",
        "\\end{align}$"
      ],
      "metadata": {
        "id": "mEEwIVfWy8ra"
      }
    },
    {
      "cell_type": "code",
      "source": [
        "# Finding the ppf function for the parameterized IQ function\n",
        "def IQ_ppf(p, a, b):\n",
        "  # Output array for input array of quantiles\n",
        "  output = []\n",
        "  # Looping through the array of quantiles\n",
        "  for x in p:\n",
        "    # If the element is between 0 and 0.5\n",
        "    if( x >= 0 and x <= 0.5):\n",
        "      # Using equation 3 defined in the above paragraph\n",
        "      output.append((math.sqrt(2*x) - 1 + a*b)/a)\n",
        "      # If the element is between 0.5 and 1\n",
        "    elif ( x > 0.5 and x<= 1 ):\n",
        "      # Using equation 4 defined in the above paragraph\n",
        "      output.append((1 + a*b - math.sqrt(2 - 2*x))/a)\n",
        "  return output"
      ],
      "metadata": {
        "id": "mseaDwnUUtCu"
      },
      "execution_count": 35,
      "outputs": []
    },
    {
      "cell_type": "code",
      "source": [
        "import scipy.stats as st\n",
        "# Creating a custom input using the uniform distribution between 0 and 1 (for the quantiles input to the ppf function)\n",
        "x = st.uniform.rvs(0, 1, 20000)\n",
        "# PPF output\n",
        "y = np.array(IQ_ppf(x, 0.7, 2.2))"
      ],
      "metadata": {
        "id": "yxMFTKktkVpN"
      },
      "execution_count": 36,
      "outputs": []
    },
    {
      "cell_type": "code",
      "source": [
        "# Finding the MLE estimates of a and b for the custom input using a = 0.7 and b = 2.2\n",
        "IQ_mle(y)"
      ],
      "metadata": {
        "id": "uGrDZak4xqXR",
        "colab": {
          "base_uri": "https://localhost:8080/"
        },
        "outputId": "5fcabf01-2b93-4fb2-9ce8-09013dd9d4e5"
      },
      "execution_count": 37,
      "outputs": [
        {
          "output_type": "execute_result",
          "data": {
            "text/plain": [
              "(0.701488564842813, 2.202419671280961)"
            ]
          },
          "metadata": {},
          "execution_count": 37
        }
      ]
    },
    {
      "cell_type": "code",
      "source": [
        "# Finding the MLE estimates of a and b for the custom input using a = 0.4 and b = 1\n",
        "y = np.array(IQ_ppf(x, 0.4, 1))\n",
        "IQ_mle(y)"
      ],
      "metadata": {
        "colab": {
          "base_uri": "https://localhost:8080/"
        },
        "id": "n8DdDD3wA2re",
        "outputId": "1a0df10e-30d9-4b09-835b-3eb0661535e0"
      },
      "execution_count": 26,
      "outputs": [
        {
          "output_type": "execute_result",
          "data": {
            "text/plain": [
              "(0.5486380655030216, 1.1277060069536173)"
            ]
          },
          "metadata": {},
          "execution_count": 26
        }
      ]
    },
    {
      "cell_type": "markdown",
      "source": [
        "As we observed when (a, b) was (0.7, 2.2) , the output MLE estimates (0.704, 2.2024) are very close to the real parameters  \n",
        "As we observed when (a, b) was (0.4, 1) , the output MLE estimates (0.548, 1.12) are approximately close to the real parameters   \n",
        "Hence the defined MLE function is accurate enough"
      ],
      "metadata": {
        "id": "qJH9tTPV1Gna"
      }
    },
    {
      "cell_type": "code",
      "source": [
        "# Defining the log likelihhod function given a data but we not know the input a and b values\n",
        "def IQ_log_likelihood(data):\n",
        "  # Finding the approximate and b values using the defined MLE function\n",
        "  a, b = IQ_mle(data)\n",
        "  # Length of dataset\n",
        "  N = len(data)\n",
        "  # First term of the log likelihood\n",
        "  logL = N*np.log(a)\n",
        "  # Looping through the data and using the MLE estimates of and b values\n",
        "  for x in data:\n",
        "    if( (x > (b - 1/a)) and (x < (b + 1/a)) ):\n",
        "      logL = logL + (np.log(1 - np.abs(a*(x - b))))\n",
        "  return logL\n"
      ],
      "metadata": {
        "id": "tb_0Pt3JFWcL"
      },
      "execution_count": 27,
      "outputs": []
    },
    {
      "cell_type": "code",
      "source": [
        "IQ_log_likelihood(data.dropna())"
      ],
      "metadata": {
        "colab": {
          "base_uri": "https://localhost:8080/"
        },
        "id": "Fe3K4Iv3FVig",
        "outputId": "9ee953c1-aec3-4edc-b578-12e55c0e91ea"
      },
      "execution_count": 28,
      "outputs": [
        {
          "output_type": "execute_result",
          "data": {
            "text/plain": [
              "-40.68840027286716"
            ]
          },
          "metadata": {},
          "execution_count": 28
        }
      ]
    },
    {
      "cell_type": "markdown",
      "source": [
        "# Question 3"
      ],
      "metadata": {
        "id": "vsgIpiqMwtT6"
      }
    },
    {
      "cell_type": "code",
      "source": [
        "# Creating a new dataframe using columns Houses having mud or unburnt , Type of residence namely rural or urban and District code\n",
        "data_Q3 = pd.concat([new_df[\"Houses having mud or unburnt brick as material of wall\"], df[\"Type of residence namely rural or urban\"], df[\"District lgd code\"]], axis = 1)\n",
        "data_Q3.head()"
      ],
      "metadata": {
        "colab": {
          "base_uri": "https://localhost:8080/",
          "height": 206
        },
        "id": "gp-hvYzkwsxX",
        "outputId": "74837bb3-9378-4ff9-ada1-753700006887"
      },
      "execution_count": 44,
      "outputs": [
        {
          "output_type": "execute_result",
          "data": {
            "text/plain": [
              "   Houses having mud or unburnt brick as material of wall  \\\n",
              "0                                          20.746357        \n",
              "1                                          20.306068        \n",
              "2                                           8.384931        \n",
              "3                                           7.117844        \n",
              "4                                          15.964869        \n",
              "\n",
              "  Type of residence namely rural or urban  District lgd code  \n",
              "0                                   Rural                  1  \n",
              "1                                   Urban                  1  \n",
              "2                                   Rural                  2  \n",
              "3                                   Urban                  2  \n",
              "4                                   Rural                  3  "
            ],
            "text/html": [
              "\n",
              "  <div id=\"df-9857d788-a16d-4b50-a0d1-6c89de0117a0\">\n",
              "    <div class=\"colab-df-container\">\n",
              "      <div>\n",
              "<style scoped>\n",
              "    .dataframe tbody tr th:only-of-type {\n",
              "        vertical-align: middle;\n",
              "    }\n",
              "\n",
              "    .dataframe tbody tr th {\n",
              "        vertical-align: top;\n",
              "    }\n",
              "\n",
              "    .dataframe thead th {\n",
              "        text-align: right;\n",
              "    }\n",
              "</style>\n",
              "<table border=\"1\" class=\"dataframe\">\n",
              "  <thead>\n",
              "    <tr style=\"text-align: right;\">\n",
              "      <th></th>\n",
              "      <th>Houses having mud or unburnt brick as material of wall</th>\n",
              "      <th>Type of residence namely rural or urban</th>\n",
              "      <th>District lgd code</th>\n",
              "    </tr>\n",
              "  </thead>\n",
              "  <tbody>\n",
              "    <tr>\n",
              "      <th>0</th>\n",
              "      <td>20.746357</td>\n",
              "      <td>Rural</td>\n",
              "      <td>1</td>\n",
              "    </tr>\n",
              "    <tr>\n",
              "      <th>1</th>\n",
              "      <td>20.306068</td>\n",
              "      <td>Urban</td>\n",
              "      <td>1</td>\n",
              "    </tr>\n",
              "    <tr>\n",
              "      <th>2</th>\n",
              "      <td>8.384931</td>\n",
              "      <td>Rural</td>\n",
              "      <td>2</td>\n",
              "    </tr>\n",
              "    <tr>\n",
              "      <th>3</th>\n",
              "      <td>7.117844</td>\n",
              "      <td>Urban</td>\n",
              "      <td>2</td>\n",
              "    </tr>\n",
              "    <tr>\n",
              "      <th>4</th>\n",
              "      <td>15.964869</td>\n",
              "      <td>Rural</td>\n",
              "      <td>3</td>\n",
              "    </tr>\n",
              "  </tbody>\n",
              "</table>\n",
              "</div>\n",
              "      <button class=\"colab-df-convert\" onclick=\"convertToInteractive('df-9857d788-a16d-4b50-a0d1-6c89de0117a0')\"\n",
              "              title=\"Convert this dataframe to an interactive table.\"\n",
              "              style=\"display:none;\">\n",
              "        \n",
              "  <svg xmlns=\"http://www.w3.org/2000/svg\" height=\"24px\"viewBox=\"0 0 24 24\"\n",
              "       width=\"24px\">\n",
              "    <path d=\"M0 0h24v24H0V0z\" fill=\"none\"/>\n",
              "    <path d=\"M18.56 5.44l.94 2.06.94-2.06 2.06-.94-2.06-.94-.94-2.06-.94 2.06-2.06.94zm-11 1L8.5 8.5l.94-2.06 2.06-.94-2.06-.94L8.5 2.5l-.94 2.06-2.06.94zm10 10l.94 2.06.94-2.06 2.06-.94-2.06-.94-.94-2.06-.94 2.06-2.06.94z\"/><path d=\"M17.41 7.96l-1.37-1.37c-.4-.4-.92-.59-1.43-.59-.52 0-1.04.2-1.43.59L10.3 9.45l-7.72 7.72c-.78.78-.78 2.05 0 2.83L4 21.41c.39.39.9.59 1.41.59.51 0 1.02-.2 1.41-.59l7.78-7.78 2.81-2.81c.8-.78.8-2.07 0-2.86zM5.41 20L4 18.59l7.72-7.72 1.47 1.35L5.41 20z\"/>\n",
              "  </svg>\n",
              "      </button>\n",
              "      \n",
              "  <style>\n",
              "    .colab-df-container {\n",
              "      display:flex;\n",
              "      flex-wrap:wrap;\n",
              "      gap: 12px;\n",
              "    }\n",
              "\n",
              "    .colab-df-convert {\n",
              "      background-color: #E8F0FE;\n",
              "      border: none;\n",
              "      border-radius: 50%;\n",
              "      cursor: pointer;\n",
              "      display: none;\n",
              "      fill: #1967D2;\n",
              "      height: 32px;\n",
              "      padding: 0 0 0 0;\n",
              "      width: 32px;\n",
              "    }\n",
              "\n",
              "    .colab-df-convert:hover {\n",
              "      background-color: #E2EBFA;\n",
              "      box-shadow: 0px 1px 2px rgba(60, 64, 67, 0.3), 0px 1px 3px 1px rgba(60, 64, 67, 0.15);\n",
              "      fill: #174EA6;\n",
              "    }\n",
              "\n",
              "    [theme=dark] .colab-df-convert {\n",
              "      background-color: #3B4455;\n",
              "      fill: #D2E3FC;\n",
              "    }\n",
              "\n",
              "    [theme=dark] .colab-df-convert:hover {\n",
              "      background-color: #434B5C;\n",
              "      box-shadow: 0px 1px 3px 1px rgba(0, 0, 0, 0.15);\n",
              "      filter: drop-shadow(0px 1px 2px rgba(0, 0, 0, 0.3));\n",
              "      fill: #FFFFFF;\n",
              "    }\n",
              "  </style>\n",
              "\n",
              "      <script>\n",
              "        const buttonEl =\n",
              "          document.querySelector('#df-9857d788-a16d-4b50-a0d1-6c89de0117a0 button.colab-df-convert');\n",
              "        buttonEl.style.display =\n",
              "          google.colab.kernel.accessAllowed ? 'block' : 'none';\n",
              "\n",
              "        async function convertToInteractive(key) {\n",
              "          const element = document.querySelector('#df-9857d788-a16d-4b50-a0d1-6c89de0117a0');\n",
              "          const dataTable =\n",
              "            await google.colab.kernel.invokeFunction('convertToInteractive',\n",
              "                                                     [key], {});\n",
              "          if (!dataTable) return;\n",
              "\n",
              "          const docLinkHtml = 'Like what you see? Visit the ' +\n",
              "            '<a target=\"_blank\" href=https://colab.research.google.com/notebooks/data_table.ipynb>data table notebook</a>'\n",
              "            + ' to learn more about interactive tables.';\n",
              "          element.innerHTML = '';\n",
              "          dataTable['output_type'] = 'display_data';\n",
              "          await google.colab.output.renderOutput(dataTable, element);\n",
              "          const docLink = document.createElement('div');\n",
              "          docLink.innerHTML = docLinkHtml;\n",
              "          element.appendChild(docLink);\n",
              "        }\n",
              "      </script>\n",
              "    </div>\n",
              "  </div>\n",
              "  "
            ]
          },
          "metadata": {},
          "execution_count": 44
        }
      ]
    },
    {
      "cell_type": "markdown",
      "source": [
        "For the first part of this quesiton the comparing he sum of the percentages of rural vs urban would be suffient enough to prove that urban residenies have houses made up of mud and unburnt bricks"
      ],
      "metadata": {
        "id": "cT428BOo2Lcz"
      }
    },
    {
      "cell_type": "code",
      "source": [
        "# Fincing all the houses with rural residencies using .loc function\n",
        "rural_mud = data_Q3.loc[data_Q3['Type of residence namely rural or urban'] == \"Rural\", \"Houses having mud or unburnt brick as material of wall\"]\n",
        "# Fincing all the houses with urban residencies using .loc function\n",
        "urban_mud = data_Q3.loc[data_Q3['Type of residence namely rural or urban'] == \"Urban\", \"Houses having mud or unburnt brick as material of wall\"]\n",
        "print(\"Total number of RURAL houses having mud or unburnt brick : \" + str(rural_mud.sum()))\n",
        "print(\"Total number of URBAN houses having mud or unburnt brick : \" + str(urban_mud.sum()))\n"
      ],
      "metadata": {
        "colab": {
          "base_uri": "https://localhost:8080/"
        },
        "id": "EHSkMc7n4b0c",
        "outputId": "0b2b0cd5-71e7-4707-a4c5-b55becde2726"
      },
      "execution_count": 75,
      "outputs": [
        {
          "output_type": "stream",
          "name": "stdout",
          "text": [
            "Total number of RURAL houses having mud or unburnt brick : 20664.545057578038\n",
            "Total number of URBAN houses having mud or unburnt brick : 9463.585969023758\n"
          ]
        }
      ]
    },
    {
      "cell_type": "markdown",
      "source": [
        "Since the sum of rural houses is more, we can say that percent of houses across districts with “mud or unburnt brick” is really larger for\n",
        "rural versus urban in the housing data."
      ],
      "metadata": {
        "id": "Dw-ae7NQ6T7Z"
      }
    },
    {
      "cell_type": "code",
      "source": [
        "# Statistics for the rural houses with mud or unburnt bricks\n",
        "rural_mud.describe()"
      ],
      "metadata": {
        "colab": {
          "base_uri": "https://localhost:8080/"
        },
        "id": "fE5i0GRawcTt",
        "outputId": "8ff65a39-fad5-41ef-b672-84d068240bad"
      },
      "execution_count": 76,
      "outputs": [
        {
          "output_type": "execute_result",
          "data": {
            "text/plain": [
              "count    728.000000\n",
              "mean      28.385364\n",
              "std       24.602573\n",
              "min        0.030124\n",
              "25%        6.897108\n",
              "50%       22.429310\n",
              "75%       42.664508\n",
              "max       96.460821\n",
              "Name: Houses having mud or unburnt brick as material of wall, dtype: float64"
            ]
          },
          "metadata": {},
          "execution_count": 76
        }
      ]
    },
    {
      "cell_type": "code",
      "source": [
        "# Statistics for the rural houses with mud or unburnt bricks\n",
        "urban_mud.describe()"
      ],
      "metadata": {
        "colab": {
          "base_uri": "https://localhost:8080/"
        },
        "id": "ViwH1fqB8jHV",
        "outputId": "12f29675-1b09-47f0-8ee2-ea64c403cc62"
      },
      "execution_count": 77,
      "outputs": [
        {
          "output_type": "execute_result",
          "data": {
            "text/plain": [
              "count    710.000000\n",
              "mean      13.328994\n",
              "std       12.563507\n",
              "min        0.000000\n",
              "25%        3.670793\n",
              "50%        9.581809\n",
              "75%       19.527729\n",
              "max       89.736544\n",
              "Name: Houses having mud or unburnt brick as material of wall, dtype: float64"
            ]
          },
          "metadata": {},
          "execution_count": 77
        }
      ]
    },
    {
      "cell_type": "markdown",
      "source": [
        "Since all the statistics (count, mean, standard deviation, max, quaetiles) are greater for rural houses, we can definitely say that percent of houses across districts with “mud or unburnt brick” is really larger for\n",
        "rural versus urban in the housing data."
      ],
      "metadata": {
        "id": "UKS2jjgq8xbj"
      }
    },
    {
      "cell_type": "code",
      "source": [
        "# Finding all the unique districts\n",
        "districts = pd.unique(data_Q3[\"District lgd code\"])\n",
        "# Array for storing the sum of the percentage values Houses having mud or unburnt brick corresponding to each district in rural\n",
        "rural_district_sums = []\n",
        "# Array for storing the sum of the percentage values Houses having mud or unburnt brick corresponding to each district in urban\n",
        "urban_district_sums = []\n",
        "for district in districts:\n",
        "  # Finding all the values with the current district\n",
        "  district_data = data_Q3.loc[data_Q3[\"District lgd code\"] == district]\n",
        "  # Storing the sum of the houses having mud or unburnt brick in rural\n",
        "  rural_sum = district_data.loc[district_data['Type of residence namely rural or urban'] == \"Rural\", \"Houses having mud or unburnt brick as material of wall\"].sum()\n",
        "  rural_district_sums.append(rural_sum)\n",
        "  # Storing the sum of the houses having mud or unburnt brick in urban\n",
        "  urban_district_sums.append(district_data[\"Houses having mud or unburnt brick as material of wall\"].sum() - rural_sum)"
      ],
      "metadata": {
        "id": "xt4tWLs88oHA"
      },
      "execution_count": 86,
      "outputs": []
    },
    {
      "cell_type": "markdown",
      "source": [
        "Finding the percentage of urban and rural houses in each district"
      ],
      "metadata": {
        "id": "bA0oZ0l13UNo"
      }
    },
    {
      "cell_type": "code",
      "source": [
        "df2 = pd.DataFrame(np.transpose([districts, rural_district_sums, urban_district_sums]), columns=[\"District Name\", 'Rural Sums', 'Urban Sums'])\n",
        "df2[\"Percentage Rural\"] = df2[\"Rural Sums\"] / (df2[\"Rural Sums\"] + df2[\"Urban Sums\"])\n",
        "df2[\"Percentage Urban\"] = df2[\"Urban Sums\"] / (df2[\"Rural Sums\"] + df2[\"Urban Sums\"])\n",
        "df2"
      ],
      "metadata": {
        "colab": {
          "base_uri": "https://localhost:8080/",
          "height": 424
        },
        "id": "nrIXS_exCpQo",
        "outputId": "814cdc77-edd1-4d70-ecb2-bd5edf1eee1c"
      },
      "execution_count": 103,
      "outputs": [
        {
          "output_type": "execute_result",
          "data": {
            "text/plain": [
              "     District Name  Rural Sums  Urban Sums  Percentage Rural  Percentage Urban\n",
              "0              1.0   20.746357   20.306068          0.505363          0.494637\n",
              "1              2.0    8.384931    7.117844          0.540866          0.459134\n",
              "2              3.0   15.964869   14.729570          0.520123          0.479877\n",
              "3              4.0    4.367594    7.086093          0.381326          0.618674\n",
              "4              5.0   10.070516    2.956932          0.773023          0.226977\n",
              "..             ...         ...         ...               ...               ...\n",
              "732            6.0   42.118897   39.638989          0.515166          0.484834\n",
              "733            9.0   59.006169   89.736544          0.396700          0.603300\n",
              "734          463.0    3.596730    1.005856          0.781459          0.218541\n",
              "735          464.0    0.924214    0.113658          0.890490          0.109510\n",
              "736          465.0   13.948825    4.427035          0.759084          0.240916\n",
              "\n",
              "[737 rows x 5 columns]"
            ],
            "text/html": [
              "\n",
              "  <div id=\"df-7fd84254-58e2-4b6d-8b54-7d2fb68b22eb\">\n",
              "    <div class=\"colab-df-container\">\n",
              "      <div>\n",
              "<style scoped>\n",
              "    .dataframe tbody tr th:only-of-type {\n",
              "        vertical-align: middle;\n",
              "    }\n",
              "\n",
              "    .dataframe tbody tr th {\n",
              "        vertical-align: top;\n",
              "    }\n",
              "\n",
              "    .dataframe thead th {\n",
              "        text-align: right;\n",
              "    }\n",
              "</style>\n",
              "<table border=\"1\" class=\"dataframe\">\n",
              "  <thead>\n",
              "    <tr style=\"text-align: right;\">\n",
              "      <th></th>\n",
              "      <th>District Name</th>\n",
              "      <th>Rural Sums</th>\n",
              "      <th>Urban Sums</th>\n",
              "      <th>Percentage Rural</th>\n",
              "      <th>Percentage Urban</th>\n",
              "    </tr>\n",
              "  </thead>\n",
              "  <tbody>\n",
              "    <tr>\n",
              "      <th>0</th>\n",
              "      <td>1.0</td>\n",
              "      <td>20.746357</td>\n",
              "      <td>20.306068</td>\n",
              "      <td>0.505363</td>\n",
              "      <td>0.494637</td>\n",
              "    </tr>\n",
              "    <tr>\n",
              "      <th>1</th>\n",
              "      <td>2.0</td>\n",
              "      <td>8.384931</td>\n",
              "      <td>7.117844</td>\n",
              "      <td>0.540866</td>\n",
              "      <td>0.459134</td>\n",
              "    </tr>\n",
              "    <tr>\n",
              "      <th>2</th>\n",
              "      <td>3.0</td>\n",
              "      <td>15.964869</td>\n",
              "      <td>14.729570</td>\n",
              "      <td>0.520123</td>\n",
              "      <td>0.479877</td>\n",
              "    </tr>\n",
              "    <tr>\n",
              "      <th>3</th>\n",
              "      <td>4.0</td>\n",
              "      <td>4.367594</td>\n",
              "      <td>7.086093</td>\n",
              "      <td>0.381326</td>\n",
              "      <td>0.618674</td>\n",
              "    </tr>\n",
              "    <tr>\n",
              "      <th>4</th>\n",
              "      <td>5.0</td>\n",
              "      <td>10.070516</td>\n",
              "      <td>2.956932</td>\n",
              "      <td>0.773023</td>\n",
              "      <td>0.226977</td>\n",
              "    </tr>\n",
              "    <tr>\n",
              "      <th>...</th>\n",
              "      <td>...</td>\n",
              "      <td>...</td>\n",
              "      <td>...</td>\n",
              "      <td>...</td>\n",
              "      <td>...</td>\n",
              "    </tr>\n",
              "    <tr>\n",
              "      <th>732</th>\n",
              "      <td>6.0</td>\n",
              "      <td>42.118897</td>\n",
              "      <td>39.638989</td>\n",
              "      <td>0.515166</td>\n",
              "      <td>0.484834</td>\n",
              "    </tr>\n",
              "    <tr>\n",
              "      <th>733</th>\n",
              "      <td>9.0</td>\n",
              "      <td>59.006169</td>\n",
              "      <td>89.736544</td>\n",
              "      <td>0.396700</td>\n",
              "      <td>0.603300</td>\n",
              "    </tr>\n",
              "    <tr>\n",
              "      <th>734</th>\n",
              "      <td>463.0</td>\n",
              "      <td>3.596730</td>\n",
              "      <td>1.005856</td>\n",
              "      <td>0.781459</td>\n",
              "      <td>0.218541</td>\n",
              "    </tr>\n",
              "    <tr>\n",
              "      <th>735</th>\n",
              "      <td>464.0</td>\n",
              "      <td>0.924214</td>\n",
              "      <td>0.113658</td>\n",
              "      <td>0.890490</td>\n",
              "      <td>0.109510</td>\n",
              "    </tr>\n",
              "    <tr>\n",
              "      <th>736</th>\n",
              "      <td>465.0</td>\n",
              "      <td>13.948825</td>\n",
              "      <td>4.427035</td>\n",
              "      <td>0.759084</td>\n",
              "      <td>0.240916</td>\n",
              "    </tr>\n",
              "  </tbody>\n",
              "</table>\n",
              "<p>737 rows × 5 columns</p>\n",
              "</div>\n",
              "      <button class=\"colab-df-convert\" onclick=\"convertToInteractive('df-7fd84254-58e2-4b6d-8b54-7d2fb68b22eb')\"\n",
              "              title=\"Convert this dataframe to an interactive table.\"\n",
              "              style=\"display:none;\">\n",
              "        \n",
              "  <svg xmlns=\"http://www.w3.org/2000/svg\" height=\"24px\"viewBox=\"0 0 24 24\"\n",
              "       width=\"24px\">\n",
              "    <path d=\"M0 0h24v24H0V0z\" fill=\"none\"/>\n",
              "    <path d=\"M18.56 5.44l.94 2.06.94-2.06 2.06-.94-2.06-.94-.94-2.06-.94 2.06-2.06.94zm-11 1L8.5 8.5l.94-2.06 2.06-.94-2.06-.94L8.5 2.5l-.94 2.06-2.06.94zm10 10l.94 2.06.94-2.06 2.06-.94-2.06-.94-.94-2.06-.94 2.06-2.06.94z\"/><path d=\"M17.41 7.96l-1.37-1.37c-.4-.4-.92-.59-1.43-.59-.52 0-1.04.2-1.43.59L10.3 9.45l-7.72 7.72c-.78.78-.78 2.05 0 2.83L4 21.41c.39.39.9.59 1.41.59.51 0 1.02-.2 1.41-.59l7.78-7.78 2.81-2.81c.8-.78.8-2.07 0-2.86zM5.41 20L4 18.59l7.72-7.72 1.47 1.35L5.41 20z\"/>\n",
              "  </svg>\n",
              "      </button>\n",
              "      \n",
              "  <style>\n",
              "    .colab-df-container {\n",
              "      display:flex;\n",
              "      flex-wrap:wrap;\n",
              "      gap: 12px;\n",
              "    }\n",
              "\n",
              "    .colab-df-convert {\n",
              "      background-color: #E8F0FE;\n",
              "      border: none;\n",
              "      border-radius: 50%;\n",
              "      cursor: pointer;\n",
              "      display: none;\n",
              "      fill: #1967D2;\n",
              "      height: 32px;\n",
              "      padding: 0 0 0 0;\n",
              "      width: 32px;\n",
              "    }\n",
              "\n",
              "    .colab-df-convert:hover {\n",
              "      background-color: #E2EBFA;\n",
              "      box-shadow: 0px 1px 2px rgba(60, 64, 67, 0.3), 0px 1px 3px 1px rgba(60, 64, 67, 0.15);\n",
              "      fill: #174EA6;\n",
              "    }\n",
              "\n",
              "    [theme=dark] .colab-df-convert {\n",
              "      background-color: #3B4455;\n",
              "      fill: #D2E3FC;\n",
              "    }\n",
              "\n",
              "    [theme=dark] .colab-df-convert:hover {\n",
              "      background-color: #434B5C;\n",
              "      box-shadow: 0px 1px 3px 1px rgba(0, 0, 0, 0.15);\n",
              "      filter: drop-shadow(0px 1px 2px rgba(0, 0, 0, 0.3));\n",
              "      fill: #FFFFFF;\n",
              "    }\n",
              "  </style>\n",
              "\n",
              "      <script>\n",
              "        const buttonEl =\n",
              "          document.querySelector('#df-7fd84254-58e2-4b6d-8b54-7d2fb68b22eb button.colab-df-convert');\n",
              "        buttonEl.style.display =\n",
              "          google.colab.kernel.accessAllowed ? 'block' : 'none';\n",
              "\n",
              "        async function convertToInteractive(key) {\n",
              "          const element = document.querySelector('#df-7fd84254-58e2-4b6d-8b54-7d2fb68b22eb');\n",
              "          const dataTable =\n",
              "            await google.colab.kernel.invokeFunction('convertToInteractive',\n",
              "                                                     [key], {});\n",
              "          if (!dataTable) return;\n",
              "\n",
              "          const docLinkHtml = 'Like what you see? Visit the ' +\n",
              "            '<a target=\"_blank\" href=https://colab.research.google.com/notebooks/data_table.ipynb>data table notebook</a>'\n",
              "            + ' to learn more about interactive tables.';\n",
              "          element.innerHTML = '';\n",
              "          dataTable['output_type'] = 'display_data';\n",
              "          await google.colab.output.renderOutput(dataTable, element);\n",
              "          const docLink = document.createElement('div');\n",
              "          docLink.innerHTML = docLinkHtml;\n",
              "          element.appendChild(docLink);\n",
              "        }\n",
              "      </script>\n",
              "    </div>\n",
              "  </div>\n",
              "  "
            ]
          },
          "metadata": {},
          "execution_count": 103
        }
      ]
    },
    {
      "cell_type": "code",
      "source": [
        "# Statis for rural and urban sums and percentage for each district\n",
        "df2[[\"Rural Sums\", \"Urban Sums\", \"Percentage Rural\", \"Percentage Urban\"]].describe()"
      ],
      "metadata": {
        "colab": {
          "base_uri": "https://localhost:8080/",
          "height": 300
        },
        "id": "RzhDxesZFiqy",
        "outputId": "554ae74b-6dcb-4242-b674-9a776f582f0e"
      },
      "execution_count": 154,
      "outputs": [
        {
          "output_type": "execute_result",
          "data": {
            "text/plain": [
              "       Rural Sums  Urban Sums  Percentage Rural  Percentage Urban\n",
              "count  737.000000  737.000000        735.000000        735.000000\n",
              "mean    28.038731   12.840687          0.657605          0.342395\n",
              "std     24.649895   12.582926          0.168382          0.168382\n",
              "min      0.000000    0.000000          0.000000          0.000000\n",
              "25%      6.561230    3.314167          0.590493          0.249222\n",
              "50%     22.001260    9.119509          0.682118          0.317882\n",
              "75%     42.421742   18.956448          0.750778          0.409507\n",
              "max     96.460821   89.736544          1.000000          1.000000"
            ],
            "text/html": [
              "\n",
              "  <div id=\"df-37d662bf-78ca-466d-b1ec-5da410c142bc\">\n",
              "    <div class=\"colab-df-container\">\n",
              "      <div>\n",
              "<style scoped>\n",
              "    .dataframe tbody tr th:only-of-type {\n",
              "        vertical-align: middle;\n",
              "    }\n",
              "\n",
              "    .dataframe tbody tr th {\n",
              "        vertical-align: top;\n",
              "    }\n",
              "\n",
              "    .dataframe thead th {\n",
              "        text-align: right;\n",
              "    }\n",
              "</style>\n",
              "<table border=\"1\" class=\"dataframe\">\n",
              "  <thead>\n",
              "    <tr style=\"text-align: right;\">\n",
              "      <th></th>\n",
              "      <th>Rural Sums</th>\n",
              "      <th>Urban Sums</th>\n",
              "      <th>Percentage Rural</th>\n",
              "      <th>Percentage Urban</th>\n",
              "    </tr>\n",
              "  </thead>\n",
              "  <tbody>\n",
              "    <tr>\n",
              "      <th>count</th>\n",
              "      <td>737.000000</td>\n",
              "      <td>737.000000</td>\n",
              "      <td>735.000000</td>\n",
              "      <td>735.000000</td>\n",
              "    </tr>\n",
              "    <tr>\n",
              "      <th>mean</th>\n",
              "      <td>28.038731</td>\n",
              "      <td>12.840687</td>\n",
              "      <td>0.657605</td>\n",
              "      <td>0.342395</td>\n",
              "    </tr>\n",
              "    <tr>\n",
              "      <th>std</th>\n",
              "      <td>24.649895</td>\n",
              "      <td>12.582926</td>\n",
              "      <td>0.168382</td>\n",
              "      <td>0.168382</td>\n",
              "    </tr>\n",
              "    <tr>\n",
              "      <th>min</th>\n",
              "      <td>0.000000</td>\n",
              "      <td>0.000000</td>\n",
              "      <td>0.000000</td>\n",
              "      <td>0.000000</td>\n",
              "    </tr>\n",
              "    <tr>\n",
              "      <th>25%</th>\n",
              "      <td>6.561230</td>\n",
              "      <td>3.314167</td>\n",
              "      <td>0.590493</td>\n",
              "      <td>0.249222</td>\n",
              "    </tr>\n",
              "    <tr>\n",
              "      <th>50%</th>\n",
              "      <td>22.001260</td>\n",
              "      <td>9.119509</td>\n",
              "      <td>0.682118</td>\n",
              "      <td>0.317882</td>\n",
              "    </tr>\n",
              "    <tr>\n",
              "      <th>75%</th>\n",
              "      <td>42.421742</td>\n",
              "      <td>18.956448</td>\n",
              "      <td>0.750778</td>\n",
              "      <td>0.409507</td>\n",
              "    </tr>\n",
              "    <tr>\n",
              "      <th>max</th>\n",
              "      <td>96.460821</td>\n",
              "      <td>89.736544</td>\n",
              "      <td>1.000000</td>\n",
              "      <td>1.000000</td>\n",
              "    </tr>\n",
              "  </tbody>\n",
              "</table>\n",
              "</div>\n",
              "      <button class=\"colab-df-convert\" onclick=\"convertToInteractive('df-37d662bf-78ca-466d-b1ec-5da410c142bc')\"\n",
              "              title=\"Convert this dataframe to an interactive table.\"\n",
              "              style=\"display:none;\">\n",
              "        \n",
              "  <svg xmlns=\"http://www.w3.org/2000/svg\" height=\"24px\"viewBox=\"0 0 24 24\"\n",
              "       width=\"24px\">\n",
              "    <path d=\"M0 0h24v24H0V0z\" fill=\"none\"/>\n",
              "    <path d=\"M18.56 5.44l.94 2.06.94-2.06 2.06-.94-2.06-.94-.94-2.06-.94 2.06-2.06.94zm-11 1L8.5 8.5l.94-2.06 2.06-.94-2.06-.94L8.5 2.5l-.94 2.06-2.06.94zm10 10l.94 2.06.94-2.06 2.06-.94-2.06-.94-.94-2.06-.94 2.06-2.06.94z\"/><path d=\"M17.41 7.96l-1.37-1.37c-.4-.4-.92-.59-1.43-.59-.52 0-1.04.2-1.43.59L10.3 9.45l-7.72 7.72c-.78.78-.78 2.05 0 2.83L4 21.41c.39.39.9.59 1.41.59.51 0 1.02-.2 1.41-.59l7.78-7.78 2.81-2.81c.8-.78.8-2.07 0-2.86zM5.41 20L4 18.59l7.72-7.72 1.47 1.35L5.41 20z\"/>\n",
              "  </svg>\n",
              "      </button>\n",
              "      \n",
              "  <style>\n",
              "    .colab-df-container {\n",
              "      display:flex;\n",
              "      flex-wrap:wrap;\n",
              "      gap: 12px;\n",
              "    }\n",
              "\n",
              "    .colab-df-convert {\n",
              "      background-color: #E8F0FE;\n",
              "      border: none;\n",
              "      border-radius: 50%;\n",
              "      cursor: pointer;\n",
              "      display: none;\n",
              "      fill: #1967D2;\n",
              "      height: 32px;\n",
              "      padding: 0 0 0 0;\n",
              "      width: 32px;\n",
              "    }\n",
              "\n",
              "    .colab-df-convert:hover {\n",
              "      background-color: #E2EBFA;\n",
              "      box-shadow: 0px 1px 2px rgba(60, 64, 67, 0.3), 0px 1px 3px 1px rgba(60, 64, 67, 0.15);\n",
              "      fill: #174EA6;\n",
              "    }\n",
              "\n",
              "    [theme=dark] .colab-df-convert {\n",
              "      background-color: #3B4455;\n",
              "      fill: #D2E3FC;\n",
              "    }\n",
              "\n",
              "    [theme=dark] .colab-df-convert:hover {\n",
              "      background-color: #434B5C;\n",
              "      box-shadow: 0px 1px 3px 1px rgba(0, 0, 0, 0.15);\n",
              "      filter: drop-shadow(0px 1px 2px rgba(0, 0, 0, 0.3));\n",
              "      fill: #FFFFFF;\n",
              "    }\n",
              "  </style>\n",
              "\n",
              "      <script>\n",
              "        const buttonEl =\n",
              "          document.querySelector('#df-37d662bf-78ca-466d-b1ec-5da410c142bc button.colab-df-convert');\n",
              "        buttonEl.style.display =\n",
              "          google.colab.kernel.accessAllowed ? 'block' : 'none';\n",
              "\n",
              "        async function convertToInteractive(key) {\n",
              "          const element = document.querySelector('#df-37d662bf-78ca-466d-b1ec-5da410c142bc');\n",
              "          const dataTable =\n",
              "            await google.colab.kernel.invokeFunction('convertToInteractive',\n",
              "                                                     [key], {});\n",
              "          if (!dataTable) return;\n",
              "\n",
              "          const docLinkHtml = 'Like what you see? Visit the ' +\n",
              "            '<a target=\"_blank\" href=https://colab.research.google.com/notebooks/data_table.ipynb>data table notebook</a>'\n",
              "            + ' to learn more about interactive tables.';\n",
              "          element.innerHTML = '';\n",
              "          dataTable['output_type'] = 'display_data';\n",
              "          await google.colab.output.renderOutput(dataTable, element);\n",
              "          const docLink = document.createElement('div');\n",
              "          docLink.innerHTML = docLinkHtml;\n",
              "          element.appendChild(docLink);\n",
              "        }\n",
              "      </script>\n",
              "    </div>\n",
              "  </div>\n",
              "  "
            ]
          },
          "metadata": {},
          "execution_count": 154
        }
      ]
    },
    {
      "cell_type": "code",
      "source": [
        "ax = sns.heatmap(df2.corr(), annot=True)"
      ],
      "metadata": {
        "colab": {
          "base_uri": "https://localhost:8080/",
          "height": 349
        },
        "id": "O6-tW-jdGH94",
        "outputId": "72faa2fc-1a67-4690-a907-b8067efeea7e"
      },
      "execution_count": 109,
      "outputs": [
        {
          "output_type": "display_data",
          "data": {
            "text/plain": [
              "<Figure size 432x288 with 2 Axes>"
            ],
            "image/png": "[encoded data removed]"
          },
          "metadata": {
            "needs_background": "light"
          }
        }
      ]
    },
    {
      "cell_type": "markdown",
      "source": [
        "From the correlation matrix we can say that rural and urban sums are correlated (0.83 correlation) "
      ],
      "metadata": {
        "id": "-1dGMjmK3u_R"
      }
    },
    {
      "cell_type": "code",
      "source": [
        "\n",
        "# QQ plot\n",
        "for cols in df2.columns.values:\n",
        "  if cols == \"District Name\":\n",
        "    continue\n",
        "  print(\"QQ plot for the Gaussian distribution of \" + cols)\n",
        "  sm.qqplot(df2[cols].dropna(),norm, line=\"s\")\n",
        "  plt.show()\n",
        "  # Seperating each plot by a line\n",
        "  print(\"----\")\n",
        "\n",
        "  print(\"QQ plot for the Uniform distribution of \" + cols)\n",
        "  # QQ plot\n",
        "  sm.qqplot(df2[cols].dropna(),uniform, line=\"s\")\n",
        "\n",
        "  plt.show()\n",
        "\n",
        "  print(\"----\")"
      ],
      "metadata": {
        "colab": {
          "base_uri": "https://localhost:8080/",
          "height": 1000
        },
        "id": "TnMIbN-eNTNu",
        "outputId": "fa68931a-6e1c-41fc-c130-cebdbea31e2d"
      },
      "execution_count": 113,
      "outputs": [
        {
          "output_type": "stream",
          "name": "stdout",
          "text": [
            "QQ plot for the Gaussian distribution of Rural Sums\n"
          ]
        },
        {
          "output_type": "display_data",
          "data": {
            "text/plain": [
              "<Figure size 432x288 with 1 Axes>"
            ],
            "image/png": "[encoded data removed]"
          },
          "metadata": {
            "needs_background": "light"
          }
        },
        {
          "output_type": "stream",
          "name": "stdout",
          "text": [
            "----\n",
            "QQ plot for the Uniform distribution of Rural Sums\n"
          ]
        },
        {
          "output_type": "display_data",
          "data": {
            "text/plain": [
              "<Figure size 432x288 with 1 Axes>"
            ],
            "image/png": "[encoded data removed]"
          },
          "metadata": {
            "needs_background": "light"
          }
        },
        {
          "output_type": "stream",
          "name": "stdout",
          "text": [
            "----\n",
            "QQ plot for the Gaussian distribution of Urban Sums\n"
          ]
        },
        {
          "output_type": "display_data",
          "data": {
            "text/plain": [
              "<Figure size 432x288 with 1 Axes>"
            ],
            "image/png": "[encoded data removed]"
          },
          "metadata": {
            "needs_background": "light"
          }
        },
        {
          "output_type": "stream",
          "name": "stdout",
          "text": [
            "----\n",
            "QQ plot for the Uniform distribution of Urban Sums\n"
          ]
        },
        {
          "output_type": "display_data",
          "data": {
            "text/plain": [
              "<Figure size 432x288 with 1 Axes>"
            ],
            "image/png": "[encoded data removed]"
          },
          "metadata": {
            "needs_background": "light"
          }
        },
        {
          "output_type": "stream",
          "name": "stdout",
          "text": [
            "----\n",
            "QQ plot for the Gaussian distribution of Percentage Rural\n"
          ]
        },
        {
          "output_type": "display_data",
          "data": {
            "text/plain": [
              "<Figure size 432x288 with 1 Axes>"
            ],
            "image/png": "[encoded data removed]"
          },
          "metadata": {
            "needs_background": "light"
          }
        },
        {
          "output_type": "stream",
          "name": "stdout",
          "text": [
            "----\n",
            "QQ plot for the Uniform distribution of Percentage Rural\n"
          ]
        },
        {
          "output_type": "display_data",
          "data": {
            "text/plain": [
              "<Figure size 432x288 with 1 Axes>"
            ],
            "image/png": "[encoded data removed]"
          },
          "metadata": {
            "needs_background": "light"
          }
        },
        {
          "output_type": "stream",
          "name": "stdout",
          "text": [
            "----\n",
            "QQ plot for the Gaussian distribution of Percentage Urban\n"
          ]
        },
        {
          "output_type": "display_data",
          "data": {
            "text/plain": [
              "<Figure size 432x288 with 1 Axes>"
            ],
            "image/png": "[encoded data removed]"
          },
          "metadata": {
            "needs_background": "light"
          }
        },
        {
          "output_type": "stream",
          "name": "stdout",
          "text": [
            "----\n",
            "QQ plot for the Uniform distribution of Percentage Urban\n"
          ]
        },
        {
          "output_type": "display_data",
          "data": {
            "text/plain": [
              "<Figure size 432x288 with 1 Axes>"
            ],
            "image/png": "[encoded data removed]"
          },
          "metadata": {
            "needs_background": "light"
          }
        },
        {
          "output_type": "stream",
          "name": "stdout",
          "text": [
            "----\n"
          ]
        }
      ]
    },
    {
      "cell_type": "markdown",
      "source": [
        "From the QQ plots we can say that, all the columns can be better desbribed using the Gaussian distribution excluding thier initial and end values"
      ],
      "metadata": {
        "id": "KtL4tej936li"
      }
    },
    {
      "cell_type": "code",
      "source": [
        "# UPLOADING DATA FILE Automobile Data\n",
        "\n",
        "from google.colab import files\n",
        "\n",
        "uploaded = files.upload()\n",
        "\n",
        "for fn in uploaded.keys():\n",
        "  print('User uploaded file \"{name}\" with length {length} bytes'.format(\n",
        "      name=fn, length=len(uploaded[fn])))"
      ],
      "metadata": {
        "colab": {
          "base_uri": "https://localhost:8080/",
          "height": 90
        },
        "id": "EfEnl6NbEqwr",
        "outputId": "57e00e65-2ab1-45a9-f4bf-f1d6386bc4bb"
      },
      "execution_count": 114,
      "outputs": [
        {
          "output_type": "display_data",
          "data": {
            "text/plain": [
              "<IPython.core.display.HTML object>"
            ],
            "text/html": [
              "\n",
              "     <input type=\"file\" id=\"files-2104b219-5249-486f-9f0c-d79bcbdf52f5\" name=\"files[]\" multiple disabled\n",
              "        style=\"border:none\" />\n",
              "     <output id=\"result-2104b219-5249-486f-9f0c-d79bcbdf52f5\">\n",
              "      Upload widget is only available when the cell has been executed in the\n",
              "      current browser session. Please rerun this cell to enable.\n",
              "      </output>\n",
              "      <script>// Copyright 2017 Google LLC\n",
              "//\n",
              "// Licensed under the Apache License, Version 2.0 (the \"License\");\n",
              "// you may not use this file except in compliance with the License.\n",
              "// You may obtain a copy of the License at\n",
              "//\n",
              "//      http://www.apache.org/licenses/LICENSE-2.0\n",
              "//\n",
              "// Unless required by applicable law or agreed to in writing, software\n",
              "// distributed under the License is distributed on an \"AS IS\" BASIS,\n",
              "// WITHOUT WARRANTIES OR CONDITIONS OF ANY KIND, either express or implied.\n",
              "// See the License for the specific language governing permissions and\n",
              "// limitations under the License.\n",
              "\n",
              "/**\n",
              " * @fileoverview Helpers for google.colab Python module.\n",
              " */\n",
              "(function(scope) {\n",
              "function span(text, styleAttributes = {}) {\n",
              "  const element = document.createElement('span');\n",
              "  element.textContent = text;\n",
              "  for (const key of Object.keys(styleAttributes)) {\n",
              "    element.style[key] = styleAttributes[key];\n",
              "  }\n",
              "  return element;\n",
              "}\n",
              "\n",
              "// Max number of bytes which will be uploaded at a time.\n",
              "const MAX_PAYLOAD_SIZE = 100 * 1024;\n",
              "\n",
              "function _uploadFiles(inputId, outputId) {\n",
              "  const steps = uploadFilesStep(inputId, outputId);\n",
              "  const outputElement = document.getElementById(outputId);\n",
              "  // Cache steps on the outputElement to make it available for the next call\n",
              "  // to uploadFilesContinue from Python.\n",
              "  outputElement.steps = steps;\n",
              "\n",
              "  return _uploadFilesContinue(outputId);\n",
              "}\n",
              "\n",
              "// This is roughly an async generator (not supported in the browser yet),\n",
              "// where there are multiple asynchronous steps and the Python side is going\n",
              "// to poll for completion of each step.\n",
              "// This uses a Promise to block the python side on completion of each step,\n",
              "// then passes the result of the previous step as the input to the next step.\n",
              "function _uploadFilesContinue(outputId) {\n",
              "  const outputElement = document.getElementById(outputId);\n",
              "  const steps = outputElement.steps;\n",
              "\n",
              "  const next = steps.next(outputElement.lastPromiseValue);\n",
              "  return Promise.resolve(next.value.promise).then((value) => {\n",
              "    // Cache the last promise value to make it available to the next\n",
              "    // step of the generator.\n",
              "    outputElement.lastPromiseValue = value;\n",
              "    return next.value.response;\n",
              "  });\n",
              "}\n",
              "\n",
              "/**\n",
              " * Generator function which is called between each async step of the upload\n",
              " * process.\n",
              " * @param {string} inputId Element ID of the input file picker element.\n",
              " * @param {string} outputId Element ID of the output display.\n",
              " * @return {!Iterable<!Object>} Iterable of next steps.\n",
              " */\n",
              "function* uploadFilesStep(inputId, outputId) {\n",
              "  const inputElement = document.getElementById(inputId);\n",
              "  inputElement.disabled = false;\n",
              "\n",
              "  const outputElement = document.getElementById(outputId);\n",
              "  outputElement.innerHTML = '';\n",
              "\n",
              "  const pickedPromise = new Promise((resolve) => {\n",
              "    inputElement.addEventListener('change', (e) => {\n",
              "      resolve(e.target.files);\n",
              "    });\n",
              "  });\n",
              "\n",
              "  const cancel = document.createElement('button');\n",
              "  inputElement.parentElement.appendChild(cancel);\n",
              "  cancel.textContent = 'Cancel upload';\n",
              "  const cancelPromise = new Promise((resolve) => {\n",
              "    cancel.onclick = () => {\n",
              "      resolve(null);\n",
              "    };\n",
              "  });\n",
              "\n",
              "  // Wait for the user to pick the files.\n",
              "  const files = yield {\n",
              "    promise: Promise.race([pickedPromise, cancelPromise]),\n",
              "    response: {\n",
              "      action: 'starting',\n",
              "    }\n",
              "  };\n",
              "\n",
              "  cancel.remove();\n",
              "\n",
              "  // Disable the input element since further picks are not allowed.\n",
              "  inputElement.disabled = true;\n",
              "\n",
              "  if (!files) {\n",
              "    return {\n",
              "      response: {\n",
              "        action: 'complete',\n",
              "      }\n",
              "    };\n",
              "  }\n",
              "\n",
              "  for (const file of files) {\n",
              "    const li = document.createElement('li');\n",
              "    li.append(span(file.name, {fontWeight: 'bold'}));\n",
              "    li.append(span(\n",
              "        `(${file.type || 'n/a'}) - ${file.size} bytes, ` +\n",
              "        `last modified: ${\n",
              "            file.lastModifiedDate ? file.lastModifiedDate.toLocaleDateString() :\n",
              "                                    'n/a'} - `));\n",
              "    const percent = span('0% done');\n",
              "    li.appendChild(percent);\n",
              "\n",
              "    outputElement.appendChild(li);\n",
              "\n",
              "    const fileDataPromise = new Promise((resolve) => {\n",
              "      const reader = new FileReader();\n",
              "      reader.onload = (e) => {\n",
              "        resolve(e.target.result);\n",
              "      };\n",
              "      reader.readAsArrayBuffer(file);\n",
              "    });\n",
              "    // Wait for the data to be ready.\n",
              "    let fileData = yield {\n",
              "      promise: fileDataPromise,\n",
              "      response: {\n",
              "        action: 'continue',\n",
              "      }\n",
              "    };\n",
              "\n",
              "    // Use a chunked sending to avoid message size limits. See b/62115660.\n",
              "    let position = 0;\n",
              "    do {\n",
              "      const length = Math.min(fileData.byteLength - position, MAX_PAYLOAD_SIZE);\n",
              "      const chunk = new Uint8Array(fileData, position, length);\n",
              "      position += length;\n",
              "\n",
              "      const base64 = btoa(String.fromCharCode.apply(null, chunk));\n",
              "      yield {\n",
              "        response: {\n",
              "          action: 'append',\n",
              "          file: file.name,\n",
              "          data: base64,\n",
              "        },\n",
              "      };\n",
              "\n",
              "      let percentDone = fileData.byteLength === 0 ?\n",
              "          100 :\n",
              "          Math.round((position / fileData.byteLength) * 100);\n",
              "      percent.textContent = `${percentDone}% done`;\n",
              "\n",
              "    } while (position < fileData.byteLength);\n",
              "  }\n",
              "\n",
              "  // All done.\n",
              "  yield {\n",
              "    response: {\n",
              "      action: 'complete',\n",
              "    }\n",
              "  };\n",
              "}\n",
              "\n",
              "scope.google = scope.google || {};\n",
              "scope.google.colab = scope.google.colab || {};\n",
              "scope.google.colab._files = {\n",
              "  _uploadFiles,\n",
              "  _uploadFilesContinue,\n",
              "};\n",
              "})(self);\n",
              "</script> "
            ]
          },
          "metadata": {}
        },
        {
          "output_type": "stream",
          "name": "stdout",
          "text": [
            "Saving Automobile_data.csv to Automobile_data.csv\n",
            "User uploaded file \"Automobile_data.csv\" with length 24864 bytes\n"
          ]
        }
      ]
    },
    {
      "cell_type": "code",
      "source": [
        "#reading the Automobile csv file\n",
        "df_auto = pd.read_csv('Automobile_data.csv')\n",
        "# Displaying the first few and last few rows of the dataset\n",
        "display(df_auto)"
      ],
      "metadata": {
        "colab": {
          "base_uri": "https://localhost:8080/",
          "height": 574
        },
        "id": "J-nPnRaERh5a",
        "outputId": "013ba834-c618-4cee-9bb4-a1ea94447baf"
      },
      "execution_count": 115,
      "outputs": [
        {
          "output_type": "display_data",
          "data": {
            "text/plain": [
              "     symboling normalized-losses         make fuel-type aspiration  \\\n",
              "0            3                 ?  alfa-romero       gas        std   \n",
              "1            3                 ?  alfa-romero       gas        std   \n",
              "2            1                 ?  alfa-romero       gas        std   \n",
              "3            2               164         audi       gas        std   \n",
              "4            2               164         audi       gas        std   \n",
              "..         ...               ...          ...       ...        ...   \n",
              "200         -1                95        volvo       gas        std   \n",
              "201         -1                95        volvo       gas      turbo   \n",
              "202         -1                95        volvo       gas        std   \n",
              "203         -1                95        volvo    diesel      turbo   \n",
              "204         -1                95        volvo       gas      turbo   \n",
              "\n",
              "    num-of-doors   body-style drive-wheels engine-location  wheel-base  ...  \\\n",
              "0            two  convertible          rwd           front        88.6  ...   \n",
              "1            two  convertible          rwd           front        88.6  ...   \n",
              "2            two    hatchback          rwd           front        94.5  ...   \n",
              "3           four        sedan          fwd           front        99.8  ...   \n",
              "4           four        sedan          4wd           front        99.4  ...   \n",
              "..           ...          ...          ...             ...         ...  ...   \n",
              "200         four        sedan          rwd           front       109.1  ...   \n",
              "201         four        sedan          rwd           front       109.1  ...   \n",
              "202         four        sedan          rwd           front       109.1  ...   \n",
              "203         four        sedan          rwd           front       109.1  ...   \n",
              "204         four        sedan          rwd           front       109.1  ...   \n",
              "\n",
              "     engine-size  fuel-system  bore  stroke compression-ratio horsepower  \\\n",
              "0            130         mpfi  3.47    2.68               9.0        111   \n",
              "1            130         mpfi  3.47    2.68               9.0        111   \n",
              "2            152         mpfi  2.68    3.47               9.0        154   \n",
              "3            109         mpfi  3.19     3.4              10.0        102   \n",
              "4            136         mpfi  3.19     3.4               8.0        115   \n",
              "..           ...          ...   ...     ...               ...        ...   \n",
              "200          141         mpfi  3.78    3.15               9.5        114   \n",
              "201          141         mpfi  3.78    3.15               8.7        160   \n",
              "202          173         mpfi  3.58    2.87               8.8        134   \n",
              "203          145          idi  3.01     3.4              23.0        106   \n",
              "204          141         mpfi  3.78    3.15               9.5        114   \n",
              "\n",
              "     peak-rpm city-mpg highway-mpg  price  \n",
              "0        5000       21          27  13495  \n",
              "1        5000       21          27  16500  \n",
              "2        5000       19          26  16500  \n",
              "3        5500       24          30  13950  \n",
              "4        5500       18          22  17450  \n",
              "..        ...      ...         ...    ...  \n",
              "200      5400       23          28  16845  \n",
              "201      5300       19          25  19045  \n",
              "202      5500       18          23  21485  \n",
              "203      4800       26          27  22470  \n",
              "204      5400       19          25  22625  \n",
              "\n",
              "[205 rows x 26 columns]"
            ],
            "text/html": [
              "\n",
              "  <div id=\"df-613165b8-b9cb-41c7-8a03-57385b0d15fd\">\n",
              "    <div class=\"colab-df-container\">\n",
              "      <div>\n",
              "<style scoped>\n",
              "    .dataframe tbody tr th:only-of-type {\n",
              "        vertical-align: middle;\n",
              "    }\n",
              "\n",
              "    .dataframe tbody tr th {\n",
              "        vertical-align: top;\n",
              "    }\n",
              "\n",
              "    .dataframe thead th {\n",
              "        text-align: right;\n",
              "    }\n",
              "</style>\n",
              "<table border=\"1\" class=\"dataframe\">\n",
              "  <thead>\n",
              "    <tr style=\"text-align: right;\">\n",
              "      <th></th>\n",
              "      <th>symboling</th>\n",
              "      <th>normalized-losses</th>\n",
              "      <th>make</th>\n",
              "      <th>fuel-type</th>\n",
              "      <th>aspiration</th>\n",
              "      <th>num-of-doors</th>\n",
              "      <th>body-style</th>\n",
              "      <th>drive-wheels</th>\n",
              "      <th>engine-location</th>\n",
              "      <th>wheel-base</th>\n",
              "      <th>...</th>\n",
              "      <th>engine-size</th>\n",
              "      <th>fuel-system</th>\n",
              "      <th>bore</th>\n",
              "      <th>stroke</th>\n",
              "      <th>compression-ratio</th>\n",
              "      <th>horsepower</th>\n",
              "      <th>peak-rpm</th>\n",
              "      <th>city-mpg</th>\n",
              "      <th>highway-mpg</th>\n",
              "      <th>price</th>\n",
              "    </tr>\n",
              "  </thead>\n",
              "  <tbody>\n",
              "    <tr>\n",
              "      <th>0</th>\n",
              "      <td>3</td>\n",
              "      <td>?</td>\n",
              "      <td>alfa-romero</td>\n",
              "      <td>gas</td>\n",
              "      <td>std</td>\n",
              "      <td>two</td>\n",
              "      <td>convertible</td>\n",
              "      <td>rwd</td>\n",
              "      <td>front</td>\n",
              "      <td>88.6</td>\n",
              "      <td>...</td>\n",
              "      <td>130</td>\n",
              "      <td>mpfi</td>\n",
              "      <td>3.47</td>\n",
              "      <td>2.68</td>\n",
              "      <td>9.0</td>\n",
              "      <td>111</td>\n",
              "      <td>5000</td>\n",
              "      <td>21</td>\n",
              "      <td>27</td>\n",
              "      <td>13495</td>\n",
              "    </tr>\n",
              "    <tr>\n",
              "      <th>1</th>\n",
              "      <td>3</td>\n",
              "      <td>?</td>\n",
              "      <td>alfa-romero</td>\n",
              "      <td>gas</td>\n",
              "      <td>std</td>\n",
              "      <td>two</td>\n",
              "      <td>convertible</td>\n",
              "      <td>rwd</td>\n",
              "      <td>front</td>\n",
              "      <td>88.6</td>\n",
              "      <td>...</td>\n",
              "      <td>130</td>\n",
              "      <td>mpfi</td>\n",
              "      <td>3.47</td>\n",
              "      <td>2.68</td>\n",
              "      <td>9.0</td>\n",
              "      <td>111</td>\n",
              "      <td>5000</td>\n",
              "      <td>21</td>\n",
              "      <td>27</td>\n",
              "      <td>16500</td>\n",
              "    </tr>\n",
              "    <tr>\n",
              "      <th>2</th>\n",
              "      <td>1</td>\n",
              "      <td>?</td>\n",
              "      <td>alfa-romero</td>\n",
              "      <td>gas</td>\n",
              "      <td>std</td>\n",
              "      <td>two</td>\n",
              "      <td>hatchback</td>\n",
              "      <td>rwd</td>\n",
              "      <td>front</td>\n",
              "      <td>94.5</td>\n",
              "      <td>...</td>\n",
              "      <td>152</td>\n",
              "      <td>mpfi</td>\n",
              "      <td>2.68</td>\n",
              "      <td>3.47</td>\n",
              "      <td>9.0</td>\n",
              "      <td>154</td>\n",
              "      <td>5000</td>\n",
              "      <td>19</td>\n",
              "      <td>26</td>\n",
              "      <td>16500</td>\n",
              "    </tr>\n",
              "    <tr>\n",
              "      <th>3</th>\n",
              "      <td>2</td>\n",
              "      <td>164</td>\n",
              "      <td>audi</td>\n",
              "      <td>gas</td>\n",
              "      <td>std</td>\n",
              "      <td>four</td>\n",
              "      <td>sedan</td>\n",
              "      <td>fwd</td>\n",
              "      <td>front</td>\n",
              "      <td>99.8</td>\n",
              "      <td>...</td>\n",
              "      <td>109</td>\n",
              "      <td>mpfi</td>\n",
              "      <td>3.19</td>\n",
              "      <td>3.4</td>\n",
              "      <td>10.0</td>\n",
              "      <td>102</td>\n",
              "      <td>5500</td>\n",
              "      <td>24</td>\n",
              "      <td>30</td>\n",
              "      <td>13950</td>\n",
              "    </tr>\n",
              "    <tr>\n",
              "      <th>4</th>\n",
              "      <td>2</td>\n",
              "      <td>164</td>\n",
              "      <td>audi</td>\n",
              "      <td>gas</td>\n",
              "      <td>std</td>\n",
              "      <td>four</td>\n",
              "      <td>sedan</td>\n",
              "      <td>4wd</td>\n",
              "      <td>front</td>\n",
              "      <td>99.4</td>\n",
              "      <td>...</td>\n",
              "      <td>136</td>\n",
              "      <td>mpfi</td>\n",
              "      <td>3.19</td>\n",
              "      <td>3.4</td>\n",
              "      <td>8.0</td>\n",
              "      <td>115</td>\n",
              "      <td>5500</td>\n",
              "      <td>18</td>\n",
              "      <td>22</td>\n",
              "      <td>17450</td>\n",
              "    </tr>\n",
              "    <tr>\n",
              "      <th>...</th>\n",
              "      <td>...</td>\n",
              "      <td>...</td>\n",
              "      <td>...</td>\n",
              "      <td>...</td>\n",
              "      <td>...</td>\n",
              "      <td>...</td>\n",
              "      <td>...</td>\n",
              "      <td>...</td>\n",
              "      <td>...</td>\n",
              "      <td>...</td>\n",
              "      <td>...</td>\n",
              "      <td>...</td>\n",
              "      <td>...</td>\n",
              "      <td>...</td>\n",
              "      <td>...</td>\n",
              "      <td>...</td>\n",
              "      <td>...</td>\n",
              "      <td>...</td>\n",
              "      <td>...</td>\n",
              "      <td>...</td>\n",
              "      <td>...</td>\n",
              "    </tr>\n",
              "    <tr>\n",
              "      <th>200</th>\n",
              "      <td>-1</td>\n",
              "      <td>95</td>\n",
              "      <td>volvo</td>\n",
              "      <td>gas</td>\n",
              "      <td>std</td>\n",
              "      <td>four</td>\n",
              "      <td>sedan</td>\n",
              "      <td>rwd</td>\n",
              "      <td>front</td>\n",
              "      <td>109.1</td>\n",
              "      <td>...</td>\n",
              "      <td>141</td>\n",
              "      <td>mpfi</td>\n",
              "      <td>3.78</td>\n",
              "      <td>3.15</td>\n",
              "      <td>9.5</td>\n",
              "      <td>114</td>\n",
              "      <td>5400</td>\n",
              "      <td>23</td>\n",
              "      <td>28</td>\n",
              "      <td>16845</td>\n",
              "    </tr>\n",
              "    <tr>\n",
              "      <th>201</th>\n",
              "      <td>-1</td>\n",
              "      <td>95</td>\n",
              "      <td>volvo</td>\n",
              "      <td>gas</td>\n",
              "      <td>turbo</td>\n",
              "      <td>four</td>\n",
              "      <td>sedan</td>\n",
              "      <td>rwd</td>\n",
              "      <td>front</td>\n",
              "      <td>109.1</td>\n",
              "      <td>...</td>\n",
              "      <td>141</td>\n",
              "      <td>mpfi</td>\n",
              "      <td>3.78</td>\n",
              "      <td>3.15</td>\n",
              "      <td>8.7</td>\n",
              "      <td>160</td>\n",
              "      <td>5300</td>\n",
              "      <td>19</td>\n",
              "      <td>25</td>\n",
              "      <td>19045</td>\n",
              "    </tr>\n",
              "    <tr>\n",
              "      <th>202</th>\n",
              "      <td>-1</td>\n",
              "      <td>95</td>\n",
              "      <td>volvo</td>\n",
              "      <td>gas</td>\n",
              "      <td>std</td>\n",
              "      <td>four</td>\n",
              "      <td>sedan</td>\n",
              "      <td>rwd</td>\n",
              "      <td>front</td>\n",
              "      <td>109.1</td>\n",
              "      <td>...</td>\n",
              "      <td>173</td>\n",
              "      <td>mpfi</td>\n",
              "      <td>3.58</td>\n",
              "      <td>2.87</td>\n",
              "      <td>8.8</td>\n",
              "      <td>134</td>\n",
              "      <td>5500</td>\n",
              "      <td>18</td>\n",
              "      <td>23</td>\n",
              "      <td>21485</td>\n",
              "    </tr>\n",
              "    <tr>\n",
              "      <th>203</th>\n",
              "      <td>-1</td>\n",
              "      <td>95</td>\n",
              "      <td>volvo</td>\n",
              "      <td>diesel</td>\n",
              "      <td>turbo</td>\n",
              "      <td>four</td>\n",
              "      <td>sedan</td>\n",
              "      <td>rwd</td>\n",
              "      <td>front</td>\n",
              "      <td>109.1</td>\n",
              "      <td>...</td>\n",
              "      <td>145</td>\n",
              "      <td>idi</td>\n",
              "      <td>3.01</td>\n",
              "      <td>3.4</td>\n",
              "      <td>23.0</td>\n",
              "      <td>106</td>\n",
              "      <td>4800</td>\n",
              "      <td>26</td>\n",
              "      <td>27</td>\n",
              "      <td>22470</td>\n",
              "    </tr>\n",
              "    <tr>\n",
              "      <th>204</th>\n",
              "      <td>-1</td>\n",
              "      <td>95</td>\n",
              "      <td>volvo</td>\n",
              "      <td>gas</td>\n",
              "      <td>turbo</td>\n",
              "      <td>four</td>\n",
              "      <td>sedan</td>\n",
              "      <td>rwd</td>\n",
              "      <td>front</td>\n",
              "      <td>109.1</td>\n",
              "      <td>...</td>\n",
              "      <td>141</td>\n",
              "      <td>mpfi</td>\n",
              "      <td>3.78</td>\n",
              "      <td>3.15</td>\n",
              "      <td>9.5</td>\n",
              "      <td>114</td>\n",
              "      <td>5400</td>\n",
              "      <td>19</td>\n",
              "      <td>25</td>\n",
              "      <td>22625</td>\n",
              "    </tr>\n",
              "  </tbody>\n",
              "</table>\n",
              "<p>205 rows × 26 columns</p>\n",
              "</div>\n",
              "      <button class=\"colab-df-convert\" onclick=\"convertToInteractive('df-613165b8-b9cb-41c7-8a03-57385b0d15fd')\"\n",
              "              title=\"Convert this dataframe to an interactive table.\"\n",
              "              style=\"display:none;\">\n",
              "        \n",
              "  <svg xmlns=\"http://www.w3.org/2000/svg\" height=\"24px\"viewBox=\"0 0 24 24\"\n",
              "       width=\"24px\">\n",
              "    <path d=\"M0 0h24v24H0V0z\" fill=\"none\"/>\n",
              "    <path d=\"M18.56 5.44l.94 2.06.94-2.06 2.06-.94-2.06-.94-.94-2.06-.94 2.06-2.06.94zm-11 1L8.5 8.5l.94-2.06 2.06-.94-2.06-.94L8.5 2.5l-.94 2.06-2.06.94zm10 10l.94 2.06.94-2.06 2.06-.94-2.06-.94-.94-2.06-.94 2.06-2.06.94z\"/><path d=\"M17.41 7.96l-1.37-1.37c-.4-.4-.92-.59-1.43-.59-.52 0-1.04.2-1.43.59L10.3 9.45l-7.72 7.72c-.78.78-.78 2.05 0 2.83L4 21.41c.39.39.9.59 1.41.59.51 0 1.02-.2 1.41-.59l7.78-7.78 2.81-2.81c.8-.78.8-2.07 0-2.86zM5.41 20L4 18.59l7.72-7.72 1.47 1.35L5.41 20z\"/>\n",
              "  </svg>\n",
              "      </button>\n",
              "      \n",
              "  <style>\n",
              "    .colab-df-container {\n",
              "      display:flex;\n",
              "      flex-wrap:wrap;\n",
              "      gap: 12px;\n",
              "    }\n",
              "\n",
              "    .colab-df-convert {\n",
              "      background-color: #E8F0FE;\n",
              "      border: none;\n",
              "      border-radius: 50%;\n",
              "      cursor: pointer;\n",
              "      display: none;\n",
              "      fill: #1967D2;\n",
              "      height: 32px;\n",
              "      padding: 0 0 0 0;\n",
              "      width: 32px;\n",
              "    }\n",
              "\n",
              "    .colab-df-convert:hover {\n",
              "      background-color: #E2EBFA;\n",
              "      box-shadow: 0px 1px 2px rgba(60, 64, 67, 0.3), 0px 1px 3px 1px rgba(60, 64, 67, 0.15);\n",
              "      fill: #174EA6;\n",
              "    }\n",
              "\n",
              "    [theme=dark] .colab-df-convert {\n",
              "      background-color: #3B4455;\n",
              "      fill: #D2E3FC;\n",
              "    }\n",
              "\n",
              "    [theme=dark] .colab-df-convert:hover {\n",
              "      background-color: #434B5C;\n",
              "      box-shadow: 0px 1px 3px 1px rgba(0, 0, 0, 0.15);\n",
              "      filter: drop-shadow(0px 1px 2px rgba(0, 0, 0, 0.3));\n",
              "      fill: #FFFFFF;\n",
              "    }\n",
              "  </style>\n",
              "\n",
              "      <script>\n",
              "        const buttonEl =\n",
              "          document.querySelector('#df-613165b8-b9cb-41c7-8a03-57385b0d15fd button.colab-df-convert');\n",
              "        buttonEl.style.display =\n",
              "          google.colab.kernel.accessAllowed ? 'block' : 'none';\n",
              "\n",
              "        async function convertToInteractive(key) {\n",
              "          const element = document.querySelector('#df-613165b8-b9cb-41c7-8a03-57385b0d15fd');\n",
              "          const dataTable =\n",
              "            await google.colab.kernel.invokeFunction('convertToInteractive',\n",
              "                                                     [key], {});\n",
              "          if (!dataTable) return;\n",
              "\n",
              "          const docLinkHtml = 'Like what you see? Visit the ' +\n",
              "            '<a target=\"_blank\" href=https://colab.research.google.com/notebooks/data_table.ipynb>data table notebook</a>'\n",
              "            + ' to learn more about interactive tables.';\n",
              "          element.innerHTML = '';\n",
              "          dataTable['output_type'] = 'display_data';\n",
              "          await google.colab.output.renderOutput(dataTable, element);\n",
              "          const docLink = document.createElement('div');\n",
              "          docLink.innerHTML = docLinkHtml;\n",
              "          element.appendChild(docLink);\n",
              "        }\n",
              "      </script>\n",
              "    </div>\n",
              "  </div>\n",
              "  "
            ]
          },
          "metadata": {}
        }
      ]
    },
    {
      "cell_type": "code",
      "source": [
        "# body_style and drive_wheel data contains categorical data, we must encode it to numbers before we can fit and evaluate a model.\n",
        "from sklearn.preprocessing import OrdinalEncoder\n",
        "# In ordinal encoding, each unique category value is assigned an integer value.\n",
        "# For example, “red” is 1, “green” is 2, and “blue” is 3. \n",
        "encoder = OrdinalEncoder()\n",
        "body_style = (encoder.fit_transform(df_auto[\"body-style\"].values.reshape(-1,1)) + 1)\n",
        "drive_wheel = (encoder.fit_transform(df_auto[\"drive-wheels\"].values.reshape(-1,1)) + 1)\n",
        "body_style = body_style.flatten()\n",
        "drive_wheel = drive_wheel.flatten()\n",
        "# Reference : https://machinelearningmastery.com/one-hot-encoding-for-categorical-data/"
      ],
      "metadata": {
        "id": "iYFE6CFXRzng"
      },
      "execution_count": 130,
      "outputs": []
    },
    {
      "cell_type": "code",
      "source": [
        "ordinal_df = pd.DataFrame(data = np.transpose([body_style, drive_wheel]),  \n",
        "                  columns = [\"Body style\", \"Drive Wheel\"])\n",
        "ordinal_df[[\"Body style\", \"Drive Wheel\"]].describe()"
      ],
      "metadata": {
        "colab": {
          "base_uri": "https://localhost:8080/",
          "height": 300
        },
        "id": "TZRV5NiVk4WG",
        "outputId": "8d67b737-de00-4e93-f7fd-15ce6ec4f14b"
      },
      "execution_count": 146,
      "outputs": [
        {
          "output_type": "execute_result",
          "data": {
            "text/plain": [
              "       Body style  Drive Wheel\n",
              "count  205.000000   205.000000\n",
              "mean     3.614634     2.326829\n",
              "std      0.859081     0.556171\n",
              "min      1.000000     1.000000\n",
              "25%      3.000000     2.000000\n",
              "50%      4.000000     2.000000\n",
              "75%      4.000000     3.000000\n",
              "max      5.000000     3.000000"
            ],
            "text/html": [
              "\n",
              "  <div id=\"df-134cb6db-72e6-4122-82d7-79c69516fe43\">\n",
              "    <div class=\"colab-df-container\">\n",
              "      <div>\n",
              "<style scoped>\n",
              "    .dataframe tbody tr th:only-of-type {\n",
              "        vertical-align: middle;\n",
              "    }\n",
              "\n",
              "    .dataframe tbody tr th {\n",
              "        vertical-align: top;\n",
              "    }\n",
              "\n",
              "    .dataframe thead th {\n",
              "        text-align: right;\n",
              "    }\n",
              "</style>\n",
              "<table border=\"1\" class=\"dataframe\">\n",
              "  <thead>\n",
              "    <tr style=\"text-align: right;\">\n",
              "      <th></th>\n",
              "      <th>Body style</th>\n",
              "      <th>Drive Wheel</th>\n",
              "    </tr>\n",
              "  </thead>\n",
              "  <tbody>\n",
              "    <tr>\n",
              "      <th>count</th>\n",
              "      <td>205.000000</td>\n",
              "      <td>205.000000</td>\n",
              "    </tr>\n",
              "    <tr>\n",
              "      <th>mean</th>\n",
              "      <td>3.614634</td>\n",
              "      <td>2.326829</td>\n",
              "    </tr>\n",
              "    <tr>\n",
              "      <th>std</th>\n",
              "      <td>0.859081</td>\n",
              "      <td>0.556171</td>\n",
              "    </tr>\n",
              "    <tr>\n",
              "      <th>min</th>\n",
              "      <td>1.000000</td>\n",
              "      <td>1.000000</td>\n",
              "    </tr>\n",
              "    <tr>\n",
              "      <th>25%</th>\n",
              "      <td>3.000000</td>\n",
              "      <td>2.000000</td>\n",
              "    </tr>\n",
              "    <tr>\n",
              "      <th>50%</th>\n",
              "      <td>4.000000</td>\n",
              "      <td>2.000000</td>\n",
              "    </tr>\n",
              "    <tr>\n",
              "      <th>75%</th>\n",
              "      <td>4.000000</td>\n",
              "      <td>3.000000</td>\n",
              "    </tr>\n",
              "    <tr>\n",
              "      <th>max</th>\n",
              "      <td>5.000000</td>\n",
              "      <td>3.000000</td>\n",
              "    </tr>\n",
              "  </tbody>\n",
              "</table>\n",
              "</div>\n",
              "      <button class=\"colab-df-convert\" onclick=\"convertToInteractive('df-134cb6db-72e6-4122-82d7-79c69516fe43')\"\n",
              "              title=\"Convert this dataframe to an interactive table.\"\n",
              "              style=\"display:none;\">\n",
              "        \n",
              "  <svg xmlns=\"http://www.w3.org/2000/svg\" height=\"24px\"viewBox=\"0 0 24 24\"\n",
              "       width=\"24px\">\n",
              "    <path d=\"M0 0h24v24H0V0z\" fill=\"none\"/>\n",
              "    <path d=\"M18.56 5.44l.94 2.06.94-2.06 2.06-.94-2.06-.94-.94-2.06-.94 2.06-2.06.94zm-11 1L8.5 8.5l.94-2.06 2.06-.94-2.06-.94L8.5 2.5l-.94 2.06-2.06.94zm10 10l.94 2.06.94-2.06 2.06-.94-2.06-.94-.94-2.06-.94 2.06-2.06.94z\"/><path d=\"M17.41 7.96l-1.37-1.37c-.4-.4-.92-.59-1.43-.59-.52 0-1.04.2-1.43.59L10.3 9.45l-7.72 7.72c-.78.78-.78 2.05 0 2.83L4 21.41c.39.39.9.59 1.41.59.51 0 1.02-.2 1.41-.59l7.78-7.78 2.81-2.81c.8-.78.8-2.07 0-2.86zM5.41 20L4 18.59l7.72-7.72 1.47 1.35L5.41 20z\"/>\n",
              "  </svg>\n",
              "      </button>\n",
              "      \n",
              "  <style>\n",
              "    .colab-df-container {\n",
              "      display:flex;\n",
              "      flex-wrap:wrap;\n",
              "      gap: 12px;\n",
              "    }\n",
              "\n",
              "    .colab-df-convert {\n",
              "      background-color: #E8F0FE;\n",
              "      border: none;\n",
              "      border-radius: 50%;\n",
              "      cursor: pointer;\n",
              "      display: none;\n",
              "      fill: #1967D2;\n",
              "      height: 32px;\n",
              "      padding: 0 0 0 0;\n",
              "      width: 32px;\n",
              "    }\n",
              "\n",
              "    .colab-df-convert:hover {\n",
              "      background-color: #E2EBFA;\n",
              "      box-shadow: 0px 1px 2px rgba(60, 64, 67, 0.3), 0px 1px 3px 1px rgba(60, 64, 67, 0.15);\n",
              "      fill: #174EA6;\n",
              "    }\n",
              "\n",
              "    [theme=dark] .colab-df-convert {\n",
              "      background-color: #3B4455;\n",
              "      fill: #D2E3FC;\n",
              "    }\n",
              "\n",
              "    [theme=dark] .colab-df-convert:hover {\n",
              "      background-color: #434B5C;\n",
              "      box-shadow: 0px 1px 3px 1px rgba(0, 0, 0, 0.15);\n",
              "      filter: drop-shadow(0px 1px 2px rgba(0, 0, 0, 0.3));\n",
              "      fill: #FFFFFF;\n",
              "    }\n",
              "  </style>\n",
              "\n",
              "      <script>\n",
              "        const buttonEl =\n",
              "          document.querySelector('#df-134cb6db-72e6-4122-82d7-79c69516fe43 button.colab-df-convert');\n",
              "        buttonEl.style.display =\n",
              "          google.colab.kernel.accessAllowed ? 'block' : 'none';\n",
              "\n",
              "        async function convertToInteractive(key) {\n",
              "          const element = document.querySelector('#df-134cb6db-72e6-4122-82d7-79c69516fe43');\n",
              "          const dataTable =\n",
              "            await google.colab.kernel.invokeFunction('convertToInteractive',\n",
              "                                                     [key], {});\n",
              "          if (!dataTable) return;\n",
              "\n",
              "          const docLinkHtml = 'Like what you see? Visit the ' +\n",
              "            '<a target=\"_blank\" href=https://colab.research.google.com/notebooks/data_table.ipynb>data table notebook</a>'\n",
              "            + ' to learn more about interactive tables.';\n",
              "          element.innerHTML = '';\n",
              "          dataTable['output_type'] = 'display_data';\n",
              "          await google.colab.output.renderOutput(dataTable, element);\n",
              "          const docLink = document.createElement('div');\n",
              "          docLink.innerHTML = docLinkHtml;\n",
              "          element.appendChild(docLink);\n",
              "        }\n",
              "      </script>\n",
              "    </div>\n",
              "  </div>\n",
              "  "
            ]
          },
          "metadata": {},
          "execution_count": 146
        }
      ]
    },
    {
      "cell_type": "markdown",
      "source": [
        "Boxplot for checking if there are any outlier and no such outpliers are visible"
      ],
      "metadata": {
        "id": "zMM9ythO4tFS"
      }
    },
    {
      "cell_type": "code",
      "source": [
        "sns.boxplot(data=ordinal_df[[\"Body style\", \"Drive Wheel\"]], orient=\"v\")"
      ],
      "metadata": {
        "colab": {
          "base_uri": "https://localhost:8080/",
          "height": 282
        },
        "id": "5ol2wtRslSFQ",
        "outputId": "e00e21e4-57e7-4e5e-d030-f6ca45723f00"
      },
      "execution_count": 147,
      "outputs": [
        {
          "output_type": "execute_result",
          "data": {
            "text/plain": [
              "<matplotlib.axes._subplots.AxesSubplot at 0x7f01d45a2810>"
            ]
          },
          "metadata": {},
          "execution_count": 147
        },
        {
          "output_type": "display_data",
          "data": {
            "text/plain": [
              "<Figure size 432x288 with 1 Axes>"
            ],
            "image/png": "[encoded data removed]"
          },
          "metadata": {
            "needs_background": "light"
          }
        }
      ]
    },
    {
      "cell_type": "code",
      "source": [
        "# Finding the correlation between the two columns\n",
        "print(np.corrcoef(drive_wheel, body_style))"
      ],
      "metadata": {
        "colab": {
          "base_uri": "https://localhost:8080/"
        },
        "id": "W8ET3oyiTZj3",
        "outputId": "41c8b148-a807-4c23-9fdc-0c9e389c0f15"
      },
      "execution_count": 131,
      "outputs": [
        {
          "output_type": "stream",
          "name": "stdout",
          "text": [
            "[[ 1.         -0.15574477]\n",
            " [-0.15574477  1.        ]]\n"
          ]
        }
      ]
    },
    {
      "cell_type": "markdown",
      "source": [
        "Correlation is very low means that the two  variables have a weak linear relationship with each other"
      ],
      "metadata": {
        "id": "OZsUhVkP41vc"
      }
    },
    {
      "cell_type": "code",
      "source": [
        "# Linear regression using scipy\n",
        "st.linregress(np.array([drive_wheel, body_style]).T)"
      ],
      "metadata": {
        "colab": {
          "base_uri": "https://localhost:8080/"
        },
        "id": "VmgS3Z4DZ-9L",
        "outputId": "d6789be7-0689-4bbc-e501-d9273514d63c"
      },
      "execution_count": 138,
      "outputs": [
        {
          "output_type": "execute_result",
          "data": {
            "text/plain": [
              "LinregressResult(slope=-0.2405689548546687, intercept=4.174397031539888, rvalue=-0.155744772870327, pvalue=0.025753064536771206, stderr=0.10708926326921725, intercept_stderr=0.2561639470334383)"
            ]
          },
          "metadata": {},
          "execution_count": 138
        }
      ]
    },
    {
      "cell_type": "markdown",
      "source": [
        "Linear regression output says that values are not closely related , p value is very low"
      ],
      "metadata": {
        "id": "VqmnzOuF5FWM"
      }
    },
    {
      "cell_type": "markdown",
      "source": [
        "Welch test"
      ],
      "metadata": {
        "id": "4fs9j8dM5NQV"
      }
    },
    {
      "cell_type": "code",
      "source": [
        "mean1 = np.mean(drive_wheel)\n",
        "mean2 = np.mean(body_style)\n",
        "std1 = np.std(drive_wheel)\n",
        "std2 = np.std(body_style)\n",
        "n = len(drive_wheel)\n",
        "t = (mean1 - mean2)/math.sqrt((std1**2 + std2**2)/n)\n",
        "DOF = ((std1**2 + std2**2)/n)**2/((std1**4 + std2**4)/(n**2 * (n - 1)))\n",
        "print(\"Welch's test t value : \" + str(t))\n",
        "print(\"Degrees of freedom : \" + str(DOF))"
      ],
      "metadata": {
        "colab": {
          "base_uri": "https://localhost:8080/"
        },
        "id": "zhTjbAQaahE8",
        "outputId": "5cc6532b-f3c1-4df8-a6a5-2e8c746bd002"
      },
      "execution_count": 141,
      "outputs": [
        {
          "output_type": "stream",
          "name": "stdout",
          "text": [
            "Welch's test t value : -18.061083570096994\n",
            "Degrees of freedom : 349.4530470082811\n"
          ]
        }
      ]
    },
    {
      "cell_type": "markdown",
      "source": [
        "Very high value of t value (higher than t critical ), which means their means are not related"
      ],
      "metadata": {
        "id": "BxFZyVNF5QU6"
      }
    },
    {
      "cell_type": "code",
      "source": [
        "# Wilcoxon signed rank test\n",
        "st.wilcoxon(drive_wheel, body_style)"
      ],
      "metadata": {
        "colab": {
          "base_uri": "https://localhost:8080/"
        },
        "id": "dhTXnTf1fX5m",
        "outputId": "8494687e-54de-4492-ab7a-4e0154358f2a"
      },
      "execution_count": 142,
      "outputs": [
        {
          "output_type": "execute_result",
          "data": {
            "text/plain": [
              "WilcoxonResult(statistic=1026.0, pvalue=1.9277315929313906e-26)"
            ]
          },
          "metadata": {},
          "execution_count": 142
        }
      ]
    },
    {
      "cell_type": "markdown",
      "source": [
        "Very low value of the pvalue mean that we reject the null hypothesis and believe the alternate hypothesis that reject the idea that the difference is a due to chance and conclude instead that the variablrs have a median distinct meaning variable are different"
      ],
      "metadata": {
        "id": "eFCMaNuM5hDJ"
      }
    },
    {
      "cell_type": "markdown",
      "source": [
        "# Warning the following code does not work and is kept for stuff that did not work during the assignment"
      ],
      "metadata": {
        "id": "HBgmBlH69F5e"
      }
    },
    {
      "cell_type": "code",
      "source": [
        "from scipy.stats import rv_continuous\n",
        "import warnings\n",
        "\n",
        "from scipy.integrate import simps\n",
        "from scipy.interpolate import interp1d\n",
        "\n",
        "# some config\n",
        "%config Completer.use_jedi = False\n",
        "warnings.filterwarnings('ignore')\n",
        "# class custom_gen(rv_discrete):\n",
        "#     \"Custom distribution\"\n",
        "#     def _pmf(self, x):\n",
        "#         if(abs(x) <= 1):\n",
        "#           return 0.75*(1 - x**2)\n",
        "#         else:\n",
        "#           return 0\n",
        "\n",
        "# custom_rv = custom_gen(name=\"custom_rv\")\n",
        "\n",
        "\n",
        "# define our gaussian look-a-like distribution\n",
        "class cust_dist(rv_continuous):\n",
        "    \n",
        "    # define init with sigma deviation param e\n",
        "    def __init__(self, e, *args, **kwargs):\n",
        "        super().__init__(*args, **kwargs)\n",
        "        # init our variance divergence\n",
        "        self.e = e\n",
        "        self.name = kwargs['name']\n",
        "        # init our cdf and ppf functions\n",
        "        self.cdf_func, self.ppf_func = self.create_cdf_ppf()\n",
        "        \n",
        "    # function to return normal distribution pdf\n",
        "    def norm_p(self, x):\n",
        "          return 0.75*(1 - x**2)\n",
        "        \n",
        "    # function to normalise the pdf over chosen domain\n",
        "    def normalisation(self, x):\n",
        "        return simps(self.pdf(x), x)\n",
        "    \n",
        "    # function to\n",
        "    def create_cdf_ppf(self):\n",
        "        # define domain as +/-25 sigma\n",
        "        xs = np.linspace(-5, 5, 1000)\n",
        "        # normalise our pdf to sum to 1 so it satisfies a distribution\n",
        "        norm_constant = self.normalisation(xs)\n",
        "        # compute pdfs to be summed to form cdf\n",
        "        my_pdfs = np.where((abs(xs) <= 1), self.pdf(xs) / norm_constant, 0)\n",
        "        # cumsum to form cdf\n",
        "        my_cdf = np.cumsum(my_pdfs)\n",
        "        # make sure cdf bounded on [0,1]\n",
        "        my_cdf = my_cdf / my_cdf[-1]\n",
        "        # create cdf and ppf\n",
        "        func_cdf = interp1d(xs, my_cdf)\n",
        "        func_ppf = interp1d(my_cdf, xs, fill_value='extrapolate')\n",
        "        return func_cdf, func_ppf\n",
        "        \n",
        "    # pdf function for averaged normals\n",
        "    def _pdf(self, x):\n",
        "        # # define lower var distribution prob\n",
        "        # low = self.norm_p(x, scale=(1 - self.e)**0.5)\n",
        "        # # define higher var distribution prob\n",
        "        # high = self.norm_p(x, scale=(1 + self.e)**0.5)\n",
        "        return self.norm_p(x)\n",
        "    \n",
        "    # cdf function\n",
        "    def _cdf(self, x):\n",
        "        return self.cdf_func(x)\n",
        "    \n",
        "    # inverse cdf function\n",
        "    def _ppf(self, q):\n",
        "        return self.ppf_func(q)\n",
        "\n",
        "custom_rv = cust_dist(0.1, name = \"cust_dist\")"
      ],
      "metadata": {
        "id": "sULjpvbI2dJD"
      },
      "execution_count": null,
      "outputs": []
    },
    {
      "cell_type": "code",
      "source": [
        "n = 10000\n",
        "cust_samps = custom_rv.rvs(size=n)\n",
        "fig, ax = plt.subplots(ncols=1, figsize=(25,12))\n",
        "sns.distplot(cust_samps, label='cust_samps', kde=False, norm_hist=True, ax=ax)"
      ],
      "metadata": {
        "colab": {
          "base_uri": "https://localhost:8080/",
          "height": 628
        },
        "id": "7HMdcwgfioxM",
        "outputId": "bd611883-2e73-4ed1-9aef-d31720893ed6"
      },
      "execution_count": null,
      "outputs": [
        {
          "output_type": "execute_result",
          "data": {
            "text/plain": [
              "<matplotlib.axes._subplots.AxesSubplot at 0x7f5b8e49cc90>"
            ]
          },
          "metadata": {},
          "execution_count": 112
        },
        {
          "output_type": "display_data",
          "data": {
            "text/plain": [
              "<Figure size 1800x864 with 1 Axes>"
            ],
            "image/png": "[encoded data removed]"
          },
          "metadata": {
            "needs_background": "light"
          }
        }
      ]
    },
    {
      "cell_type": "code",
      "source": [
        "sm.qqplot(data.dropna(),cust_dist, line=\"s\")\n",
        "\n",
        "plt.show()\n",
        "\n",
        "print(\"----\")"
      ],
      "metadata": {
        "id": "QTyRAdTnVTRx"
      },
      "execution_count": null,
      "outputs": []
    },
    {
      "cell_type": "code",
      "source": [
        "y = np.linspace(-2, 2, 50)\n",
        "a = 1\n",
        "logL = len(IQ_sample)*np.log(a)\n",
        "b = 0\n",
        "z = []\n",
        "for x in IQ_sample:\n",
        "  if( (x > (b - 1/a)) and (x < (b + 1/a)) ):\n",
        "    logL = logL + (np.log(1 - np.abs(a*(x - b))))\n",
        "    z.append(logL)\n",
        "print(z)"
      ],
      "metadata": {
        "colab": {
          "base_uri": "https://localhost:8080/"
        },
        "id": "W0JU56HvcvJv",
        "outputId": "8fed119a-0eab-4edb-b824-e83ac6286796"
      },
      "execution_count": null,
      "outputs": [
        {
          "output_type": "stream",
          "name": "stdout",
          "text": [
            "[-0.9527905376055835, -5.61712782828905, -8.483547145557793, -10.060549734155924, -11.820089994455543, -15.448316529453187, -20.13587086020098, -22.86745234564287, -26.11273324416856, -28.840294413618032, -31.175123197311635, -33.19130173706692, -36.06079018359372, -40.69532833389581, -43.837942656968266, -45.66395286048338, -47.49248597474029, -51.64686556545765, -56.49907913514836, -58.06981980472187, -61.692604179054015, -63.54540226421013, -66.06765882739742, -67.31069762567255, -69.33203454184985, -72.00678908586066, -74.22772112468135, -77.92168839577585, -79.04442638997276, -80.84823735492007, -82.31089664434312, -83.84711662786324, -85.7031369393569, -88.2045228558815, -90.15618410845681, -92.4915691330872, -96.42542374521774, -98.207745585236, -102.5410915879879, -104.29869595834414, -105.39662294828, -109.02827862840444, -110.83608693080353, -113.35619544557933, -114.74546360248804, -116.53170374041643, -118.82083692036767, -120.93710707457134, -124.79312976451308, -127.66171957873934, -128.90559451113918, -130.6575205436893, -132.2720709150231, -133.54932778932036, -136.32461711054106, -141.09918261964864, -144.34935280673707, -145.45783673830203, -149.2108941825989, -152.25608795276509, -153.93010851710756, -155.47143311431867, -156.75267157054833, -159.42065440580214, -161.98283615243432, -163.81227689758302, -165.62001928685513, -169.07432975829477, -170.81016314059914, -172.7483061868948, -174.22414638664333, -176.2002788309088, -180.03417379742135, -183.0680651478836, -185.983543998399, -187.69202153790243, -188.9279502671088, -191.44374319472138, -194.1567094915804, -195.6535987280795, -198.52471292681244, -202.17739332172678, -204.6441780025612, -205.99695226251447, -207.56933145518403, -209.56006973450283, -210.7111686313502, -213.63087563931919, -215.0464463929427, -216.49743270577002, -219.91174042137212, -221.4596729698696, -222.9378648291502, -224.18312900267046, -225.71795724693777, -228.68327186099785, -232.17954887576525, -233.45466308791845, -236.13170244199233, -238.86777322442694, -240.2231987662933, -241.77301829528304, -243.67181913572438, -246.53566896841937, -248.06129981277786, -251.13669595869433, -252.8320100811634, -254.92908153163856, -260.1845558114372, -261.8142848289707, -264.4386566780214, -266.66794191335003, -268.66129875123664, -269.6405985758501, -270.9785549467834, -272.8745630129067, -275.0252961119146, -283.3810321244997, -284.7156674799882, -286.96483554526776, -290.4074906159015, -292.80571205769496, -294.90570368066466, -297.3233372334506, -298.8818126471103, -301.6147702946664, -304.1814376623033, -305.5857876376295, -307.99581381685925, -309.76522843762285, -310.86604022413144, -312.56700225148603, -315.8172948695779, -318.0033069743734, -320.3388580205632, -322.5324905240436, -325.39837504555027, -327.05215023516286, -329.0946209311064, -330.1791755972107, -333.50683612456584, -334.8898578565754, -337.3623274671118, -340.4874525806699, -344.207827094035, -345.5878151983764, -350.7646625845553, -352.2667970099283, -353.5003085671247, -354.8884658815972, -356.7470931419972, -360.555473137265, -362.12059266859546, -366.7864596579627, -368.38516628074467, -371.8857514181066, -373.44089599270836, -376.22549750950395, -378.5538094058003, -380.81614690744334, -382.7151385702898, -383.9993452189981, -385.6069811698026, -386.94251996026026, -387.9293643039753, -389.5071177198207, -392.5652446478455, -394.04077926312596, -395.20637756871537, -396.42835553570086, -398.03111523886423, -400.90188931214556, -402.49263833568756, -404.09346888120484, -406.0446628942378, -409.6133694616539, -413.69257167944994, -415.70031991815557, -418.59599385591395, -419.74129230911035, -421.8723212977693, -424.74613451429923, -426.9809896344737, -429.19005658465494, -430.8481485046674, -432.8058679250817, -435.1363916600864, -437.696279496365, -440.2188059317577, -442.79146960351795, -447.5131589883796, -450.03096008443765, -451.38037356386536, -455.44982059263134, -457.24871064611546, -459.53289845092365, -463.7755513501326, -465.30685576664524, -466.6810169502086, -470.68232465689266, -472.9659901645367, -474.0030398588373, -475.0514392833568, -479.6355351220791, -482.7673492732865, -486.700837468422, -488.91747997775434, -491.34216951120374, -492.5190984192709, -495.99638682240885, -497.3871129596597, -499.42225949789537, -501.6198611581535, -504.57009366005536, -506.16628601282827, -507.8089578030396, -510.0306978298413, -513.7642208799713, -515.4080130722356, -517.9328659703219, -519.562502382686, -521.2703179947227, -525.4142776540936, -527.0670292592483, -528.6189775900303, -530.65387961061, -533.2957713982566, -534.6446660752636, -538.6727483219317, -539.7062541977502, -541.6709514465434, -544.1879598388376, -546.7421398640691, -548.1337787942288, -549.7989960141415, -552.1736770810231, -553.8932119362363, -555.5944882736425, -557.7154375483526, -559.8026979633736, -561.0978923593319, -562.5228172493728, -564.9565445762805, -566.5664805792652, -568.6989696885756, -571.7126318331531, -574.1590571611092, -575.4699850779381, -578.0034560834449, -580.8594836651109, -583.5544287915228, -584.991852165701, -587.6250813354997, -589.7679202266717, -594.0964415758468, -595.6789000968904, -598.8009889918386, -600.0994274555924, -601.4679246282689, -603.3803141594907, -605.2615028746095, -607.8768220092996, -608.957675563275, -610.8878570965462, -611.8741061480415, -615.5138672221813, -616.7318489997807, -619.3706838874062, -621.4003296668707, -626.7067740128541, -627.7594616993833, -628.9230011782503, -630.2244884446259, -632.4136076805042, -635.6372497566215, -637.767576317527, -641.5593285562943, -646.1646555633249, -648.843278967365, -650.7918141335311, -652.7114007040637, -654.377477017548, -655.4739751057238, -657.2003672032847, -659.9006776583908, -661.1932467202353, -665.7539752320753, -667.061141316426, -668.3095108948279, -669.8788115798313, -670.9872653830575, -674.2951018980663, -675.7099164733954, -679.390578722423, -682.2627886174264, -684.905269832784, -687.7439133928654, -690.3747346771041, -691.9251035632573, -694.0325926054945, -695.8267729878711, -699.1604321913364, -701.0590033047937, -703.9716222763253, -705.1024781751295, -707.1363963476268, -708.9231854237958, -710.112287279004, -712.4007839851118, -716.2312588249606, -720.1927947491289, -721.6012914755086, -724.8535879805462, -725.9447914344651, -728.130347763726, -730.5784286980906, -731.6650621568049, -732.9755349537063, -735.8936653438263, -737.6911022250489, -739.6608832493049, -741.5304276998868, -747.354335210914, -750.4434508182258, -752.3153433175349, -755.9632507802124, -757.7720612473436, -758.7776245883524, -760.5390245960918, -762.4546487876224, -763.5283410306491, -765.8639457225587, -767.7733812953562, -769.5111617973046, -771.4770001124542, -773.5697971389837, -777.4241287791322, -784.3146813913295, -785.8902470904841, -790.272210788618, -791.6520002700981, -794.111221106305, -795.9554351389585, -799.1770450681679, -800.7474868532382, -803.0539172025392, -804.2049740096372, -806.188399310127, -810.4905794120543, -814.1670135546814, -816.699543272022, -818.6852314794294, -820.5755678875917, -821.8177388223974, -823.0566063523588, -825.6908450460261, -827.5497591984201, -828.707599647011, -830.310275756353, -831.6036089685033, -832.9236324565605, -834.8528457081048, -837.2966468564641, -839.3135240809524, -842.3580269812343, -845.8382572689181, -847.8368388224828, -849.4473697991124, -851.395391161054, -853.2545262042003, -855.4149188371567, -856.609597839539, -858.8366081167624, -861.5599668733181, -865.444598463943, -867.8186033793662, -872.8727259314768, -874.078785267193, -875.0478644229448, -876.5100657933139, -878.6293532944801, -879.9063191753808, -880.9078517130719, -884.3720417647726, -885.3202830747678, -886.7095308636211, -889.9346746014087, -891.9715654666228, -893.6707327202995, -895.8901223068052, -898.1489858988414, -899.6051618554325, -901.3728682655947, -904.29452990573, -905.4347728798438, -907.4721044945813, -912.1874278901779, -914.9274504770488, -917.5833644644043, -919.4558635319025, -921.1712961742535, -922.6479276473885, -926.5670750237111, -928.7043097072448, -930.878073344425, -932.1447688045864, -934.8914167948498, -937.6540732897348, -942.1883044983264, -947.2837406405683, -948.9643295611046, -952.9090316322931, -955.717523137518, -958.5524886554717, -960.7082757098132, -962.6214047992304, -967.0987335471845, -968.2294822620617, -970.404501121333, -972.7627934696758, -974.1837598614484, -978.8789591854375, -980.0863950987667, -981.8483495143614, -984.8345215942225, -986.7697037295551, -988.843812455485, -992.032057485642, -993.3669742276595, -995.7338298702031, -997.9207588876245, -999.673678886735, -1001.0132267807707, -1002.7317978427907, -1003.9121040085588, -1008.1638775525486, -1011.530956064467, -1012.8375957659875, -1014.4775954590913, -1016.5415228103736, -1018.3581407764209, -1020.9011175448495, -1023.0026296129381, -1023.9160516732481, -1025.654242310765, -1027.7805080745304, -1029.3820816998114, -1031.5563121087953, -1033.3354597372413, -1034.7800951858671, -1036.7219791317918, -1037.6396361145328, -1041.7210505617284, -1044.9442212262031, -1047.7309950207507, -1053.584831356163, -1056.7131087866437, -1057.8541800818123, -1059.0906793686459, -1061.301318114531, -1063.856177826886, -1067.5066962095718, -1069.0732678715615, -1072.4223932382129, -1074.639421717, -1078.797801329389, -1081.5894836228356, -1083.7014675009048, -1085.1463986953256, -1087.4497419836973, -1091.7092140779553, -1092.868884835491, -1095.35337266702, -1098.1614845028055, -1101.018883505111, -1102.8033834364903, -1108.3929133330605, -1111.3613565772855, -1113.282373703345, -1114.3362688121633, -1117.5033647058115, -1119.0928620147147, -1123.9029902314458, -1128.0485329733194, -1130.786403924507, -1132.8878430710076, -1134.8208540609223, -1136.4126560932555, -1138.039895494, -1139.1735033513396, -1140.5433261384376, -1144.0626298643658, -1146.7510317952963, -1149.6084569367906, -1152.282538621079, -1153.4737825201905, -1156.14349236206, -1157.2226756049474, -1158.5035487268763, -1159.9046833723921, -1161.081815458886, -1163.081704377373, -1165.1318859636824, -1167.8156167999202, -1172.334228955927, -1173.6542760853854, -1175.9338981297792, -1178.6516583485893, -1180.8246829448838, -1182.0710317929609, -1185.202616450612, -1186.4795363361684, -1191.7068612038086, -1193.4359611113287, -1194.7328887648525, -1195.8380785345596, -1198.0955954665612, -1200.3878109860586, -1203.0068848506978, -1204.2816844066278, -1206.2209656820407, -1207.5128924896862, -1211.441815937156, -1213.389064758961, -1215.9324358343206, -1217.526582592838, -1219.3007270447695, -1220.544956427528, -1223.4246977456564, -1225.024075638977, -1226.2709446722388, -1228.702322954246, -1230.849899841096, -1233.690443144214, -1237.0852140191494, -1241.3412355327484, -1243.6883329460993, -1244.6657607522345, -1250.3319449303203, -1253.628898146894, -1255.18958216817, -1257.5786689283252, -1258.8725149332217, -1261.753982377164, -1263.294292247562, -1267.2725769104975, -1269.908586998168, -1271.5262553466482, -1272.837877051868, -1274.369411933147, -1276.6845864166617, -1281.0377998674826, -1283.142934366652, -1284.623161781649, -1286.3007510655245, -1292.6299842169308, -1294.9455202004074, -1297.8748126209496, -1300.6812055110247, -1303.812106069789, -1305.4423767679757, -1307.2127019614675, -1308.2641640260874, -1310.3801238720837, -1311.5616652203262, -1312.8297143447849, -1315.212781315047, -1317.3778989968018, -1321.866973457436, -1324.1091354453467, -1325.46635103997, -1327.3352877340358, -1331.0832231260638, -1334.0704774231224, -1335.182358389249, -1336.921048907659, -1341.5135877422044, -1343.7618614838984, -1345.70845971465, -1346.8935495836317, -1349.4207449788796, -1352.7578523248512, -1354.280625447319, -1355.9697157811445, -1359.2548877791419, -1361.3080514861051, -1363.734038971713, -1365.4425453985475, -1367.6570416010688, -1369.7152486050136, -1372.0349237459038, -1373.4813739589279, -1375.2585188446149, -1376.5542541724517, -1378.608648340744, -1380.291231981826, -1381.5789992408254, -1382.9530066678772, -1384.5544753494662, -1386.6846067331546, -1391.9279833099768, -1393.6463168955838, -1394.9459412013678, -1397.5882519157246, -1399.0291035847226, -1401.291136642838, -1403.6696001682833, -1406.2383089368861, -1407.3046448674886, -1408.7792238909503, -1411.559158007672, -1414.704265391326, -1416.898987944612, -1419.903479856006, -1423.5456641200512, -1426.2539037023498, -1428.313099016988, -1430.792682990802, -1436.8581589162864, -1442.239370863688, -1443.7527634197054, -1445.361425181378, -1447.9896232171054, -1450.1747256517529, -1452.4181139111731, -1454.9454559902617, -1457.5166635386038, -1458.5778839903057, -1461.0135017210334, -1465.6399425871243, -1469.6537040341075, -1471.2899643233848, -1472.379980851788, -1474.907363159572, -1477.4859026040263, -1481.217830163719, -1483.4653633293049, -1484.92525471744, -1488.161341505611, -1491.9711268563856, -1493.6272086360098, -1495.0363268367976, -1498.2787568265887, -1503.1108616172214, -1505.948180100889, -1507.294918034727, -1509.8401239694242, -1513.3918313365918, -1514.949109008888, -1520.2595794619178, -1521.8673408131372, -1525.4124284033064, -1527.1947519132334, -1529.5028068364006, -1533.0257073051228, -1534.555845177437, -1537.9955390618093, -1541.4337380274185, -1543.7277588235368, -1546.8491260256915, -1549.5211678561438, -1551.4607610459504, -1553.88139061883, -1554.8511816819405, -1556.9277413037607, -1559.2704389790279, -1561.7838096833084, -1563.7699335370228, -1566.214306506838, -1567.697369948474, -1569.605746828691, -1571.0774401262954, -1574.3171320257247, -1575.6488317405083, -1577.5079639192743, -1578.744973923545, -1580.1557503806087, -1581.5298954211485, -1583.745172709412, -1585.2123878556063, -1587.2558297017981, -1589.3950946162827, -1591.9895039414864, -1593.7518665028308, -1595.4814712088967, -1598.0791550590961, -1603.2617064494823, -1608.5076463172904, -1610.6280016627886, -1612.5135551038586, -1614.0770248279864, -1615.6948920410405, -1616.7875161912211, -1620.1279649116098, -1622.8265718419361, -1625.9339594904447, -1627.4103017279483, -1628.3563813925787, -1629.6755106604762, -1634.8489254714777, -1635.999405705861, -1639.7868878588515, -1642.869412725952, -1646.3236582978054, -1649.8036945317592, -1653.1827728480912, -1657.3958425671935, -1660.075415915818, -1661.6935310039787, -1665.4049080593452, -1667.7647094055264, -1669.1130905144023, -1673.3804943393643, -1677.3071956152535, -1678.511279764928, -1679.4943240199711, -1681.8395238728242, -1683.0606661588945, -1684.3627733935846, -1686.0084565641152, -1690.1358238017872, -1692.4836349589516, -1694.0373482733273, -1696.7330715577755, -1698.1072239120479, -1699.4761601454325, -1700.5670416396288, -1703.1383713219757, -1705.0902239543655, -1707.457950514793, -1708.516022376039, -1709.475925326844, -1712.8336211934031, -1714.3935627380993, -1716.0141543990185, -1717.381369932317, -1719.3113875596737, -1721.8458506941388, -1723.839883579049, -1737.2942939340817, -1738.2205392748217, -1742.326285749908, -1744.7344525823198, -1745.7333704864777, -1749.0904261268024, -1750.2083133345595, -1755.543778675563, -1757.028072962116, -1759.5216625304622, -1761.1193588462445, -1762.814278202179, -1767.7209198197877, -1771.7882692004641, -1773.1990997704813, -1774.6578492957426, -1776.3316081982784, -1779.802413651148, -1782.1852591783872, -1784.4708798837496, -1786.410457094946, -1788.2655240613537, -1789.4686104378593, -1790.7091675756437, -1793.8706534877879, -1794.9576051303648, -1796.6179092875861, -1799.1204660974017, -1800.3532907030524, -1802.4234663775624, -1803.3581742673955, -1805.1872693535292, -1807.4776026535176, -1809.3159552297418, -1811.4715277281448, -1813.9117117579465, -1816.6240146072828, -1818.302974710038, -1819.6534835378768, -1821.7568551537413, -1822.847298304268, -1825.7388031429443, -1827.5860792816557, -1829.4391834989985, -1831.4096322035439, -1833.1016990681223, -1836.08062951255, -1838.0439941246484, -1840.119032924823, -1842.631991458742, -1843.778518468841, -1845.9156969947046, -1849.461203348808, -1851.15270613717, -1855.0561751314876, -1856.6526143590959, -1859.137823309748, -1860.8562524428849, -1863.7053267534382, -1868.6233169818197, -1870.4928770792073, -1873.1364123474302, -1876.302390668091, -1878.1951125391358, -1882.3863723919017, -1884.9565633163388, -1889.466537190731, -1891.7787687782086, -1894.1439745869375, -1896.794816542825, -1903.9298578611783, -1906.9138716993036, -1910.6095950995848, -1912.3759645687564, -1913.335424400861, -1915.144734997803, -1917.2336792900308, -1919.4418246225737, -1921.9359363460842, -1923.9845418512339, -1925.0632284633991, -1927.7604355679575, -1932.3020790958776, -1934.7582647782274, -1938.7174393563048, -1939.9725240659595, -1941.752079279959, -1947.196032180554, -1948.8286601434947, -1951.305643306388, -1953.6196978159487, -1955.3097892933724, -1957.3788516100487, -1959.842991664501, -1962.3302642233803, -1963.3785658869658, -1968.346119838848, -1971.5305361184035, -1974.477565190835, -1976.9861475925186, -1979.0978588173439, -1983.3246990758898, -1986.4167646492924, -1988.6670226816723, -1991.6351756411202, -1993.8816431460782, -1995.3281080962804, -1997.603546762327, -2000.611215901838, -2002.1187168327303, -2003.97571103331, -2005.6983293485434, -2009.9383839545658, -2010.9205310986436, -2013.4029959088625, -2015.1272094665064, -2016.6722462575408, -2018.4903949591867, -2020.4344354511709, -2023.7511994304173, -2025.3601985620012, -2028.1914062935211, -2029.5127590245597, -2033.2703115031961, -2035.0207346718607, -2038.7744895103576, -2041.19610943567, -2045.5361736669684, -2046.789411658484, -2050.367924689714, -2055.0506485219325, -2057.081822758969, -2058.245916201261, -2059.9682975626597, -2061.0245396758237, -2062.253629509759, -2066.305504324189, -2067.800082653061, -2070.0027653868633, -2071.841131514373, -2073.303337925084, -2074.900296305436, -2076.8509960357896, -2081.2199993058953, -2082.1837506258053, -2084.6874412695574, -2087.492175948948, -2090.4090494620696, -2091.56146948507, -2093.9278435139495, -2095.8575525106044, -2101.74712274945, -2103.705886642181, -2104.657456903305, -2105.8116131888287, -2108.390293540011, -2110.2620852339223, -2112.504297964319, -2115.4932150991012, -2117.316724548995, -2119.15473194247, -2121.176144681411, -2124.51690501019, -2128.462792854558, -2133.448660185752, -2137.0883366001403, -2138.285691763712, -2142.642081311828, -2145.780544139215, -2150.8184124352815, -2152.057963210393, -2153.7848415660887, -2155.7477961312034, -2157.075926987408, -2158.5164342684725, -2163.1010972826484, -2164.876437401833, -2166.34315672962, -2170.2673801287333, -2172.819405590805, -2177.855924430718, -2179.5602186955534, -2182.196717294459, -2183.268106991178]\n"
          ]
        }
      ]
    },
    {
      "cell_type": "code",
      "source": [
        "y"
      ],
      "metadata": {
        "colab": {
          "base_uri": "https://localhost:8080/"
        },
        "id": "NfYifk-kvTIs",
        "outputId": "9fab8dc2-55d1-4567-941c-2442508f2429"
      },
      "execution_count": null,
      "outputs": [
        {
          "output_type": "execute_result",
          "data": {
            "text/plain": [
              "array([-2.        , -1.91836735, -1.83673469, -1.75510204, -1.67346939,\n",
              "       -1.59183673, -1.51020408, -1.42857143, -1.34693878, -1.26530612,\n",
              "       -1.18367347, -1.10204082, -1.02040816, -0.93877551, -0.85714286,\n",
              "       -0.7755102 , -0.69387755, -0.6122449 , -0.53061224, -0.44897959,\n",
              "       -0.36734694, -0.28571429, -0.20408163, -0.12244898, -0.04081633,\n",
              "        0.04081633,  0.12244898,  0.20408163,  0.28571429,  0.36734694,\n",
              "        0.44897959,  0.53061224,  0.6122449 ,  0.69387755,  0.7755102 ,\n",
              "        0.85714286,  0.93877551,  1.02040816,  1.10204082,  1.18367347,\n",
              "        1.26530612,  1.34693878,  1.42857143,  1.51020408,  1.59183673,\n",
              "        1.67346939,  1.75510204,  1.83673469,  1.91836735,  2.        ])"
            ]
          },
          "metadata": {},
          "execution_count": 123
        }
      ]
    },
    {
      "cell_type": "code",
      "source": [],
      "metadata": {
        "id": "UbdJM_TOvs8p"
      },
      "execution_count": null,
      "outputs": []
    }
  ]
}