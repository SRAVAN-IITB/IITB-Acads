{
 "cells": [
  {
   "cell_type": "markdown",
   "id": "107a1df3",
   "metadata": {},
   "source": [
    "# Name: _Sravan K Suresh_\n",
    "# Roll no: 22B3936\n",
    "## Demo Video Link: [Click here!]()"
   ]
  },
  {
   "cell_type": "markdown",
   "id": "7302a7ce",
   "metadata": {},
   "source": [
    "\n",
    "# <strong><center>Bank Marketing Campaign🏦</center></strong>"
   ]
  },
  {
   "cell_type": "markdown",
   "id": "9b59c63b",
   "metadata": {},
   "source": [
    "## Libraries"
   ]
  },
  {
   "cell_type": "code",
   "execution_count": 1,
   "id": "bad020a3",
   "metadata": {},
   "outputs": [],
   "source": [
    "import os\n",
    "import warnings\n",
    "import numpy as np \n",
    "import pandas as pd \n",
    "import matplotlib.pyplot as plt\n",
    "import seaborn as sns\n",
    "from plotly.subplots import make_subplots\n",
    "import pickle\n",
    "import plotly.graph_objects as go\n",
    "import plotly.express as px \n",
    "from sklearn.svm import SVC\n",
    "from sklearn import tree\n",
    "from sklearn.preprocessing import MinMaxScaler\n",
    "from sklearn.metrics import roc_curve\n",
    "from sklearn.model_selection import KFold\n",
    "from sklearn.tree import DecisionTreeClassifier\n",
    "from sklearn.ensemble import RandomForestClassifier\n",
    "from sklearn.model_selection import cross_val_score\n",
    "from sklearn.preprocessing import StandardScaler, LabelEncoder,OneHotEncoder\n",
    "from sklearn.linear_model import LogisticRegression\n",
    "from sklearn.neighbors import KNeighborsClassifier\n",
    "from sklearn.neighbors import KNeighborsClassifier\n",
    "from sklearn.ensemble import GradientBoostingClassifier\n",
    "from sklearn.ensemble import RandomForestClassifier\n",
    "from sklearn.naive_bayes import GaussianNB\n",
    "from sklearn.model_selection import train_test_split\n",
    "from sklearn.metrics import precision_score, recall_score\n",
    "from sklearn.metrics import *\n",
    "from sklearn.model_selection import GridSearchCV\n",
    "pd.set_option('display.max_columns',None)\n",
    "warnings.filterwarnings('ignore')"
   ]
  },
  {
   "cell_type": "markdown",
   "id": "f32bc2d2",
   "metadata": {},
   "source": [
    "## Read The Data"
   ]
  },
  {
   "cell_type": "code",
   "execution_count": 5,
   "id": "f3829d6e",
   "metadata": {},
   "outputs": [
    {
     "ename": "ModuleNotFoundError",
     "evalue": "No module named 'kagglehub'",
     "output_type": "error",
     "traceback": [
      "\u001b[1;31m---------------------------------------------------------------------------\u001b[0m",
      "\u001b[1;31mModuleNotFoundError\u001b[0m                       Traceback (most recent call last)",
      "Cell \u001b[1;32mIn[5], line 1\u001b[0m\n\u001b[1;32m----> 1\u001b[0m \u001b[38;5;28;01mimport\u001b[39;00m \u001b[38;5;21;01mkagglehub\u001b[39;00m\n\u001b[0;32m      3\u001b[0m \u001b[38;5;66;03m# Download latest version\u001b[39;00m\n\u001b[0;32m      4\u001b[0m path \u001b[38;5;241m=\u001b[39m kagglehub\u001b[38;5;241m.\u001b[39mdataset_download(\u001b[38;5;124m\"\u001b[39m\u001b[38;5;124mjaniobachmann/bank-marketing-dataset\u001b[39m\u001b[38;5;124m\"\u001b[39m)\n",
      "\u001b[1;31mModuleNotFoundError\u001b[0m: No module named 'kagglehub'"
     ]
    }
   ],
   "source": [
    "import kagglehub\n",
    "\n",
    "# Download latest version\n",
    "path = kagglehub.dataset_download(\"janiobachmann/bank-marketing-dataset\")\n",
    "\n",
    "print(\"Path to dataset files:\", path)"
   ]
  },
  {
   "cell_type": "code",
   "execution_count": null,
   "id": "bc7dd05a-da2d-4b8d-94de-136689cfbe74",
   "metadata": {},
   "outputs": [],
   "source": [
    "df = pd.read_csv('../input/bank-marketing-dataset/bank.csv')"
   ]
  },
  {
   "cell_type": "code",
   "execution_count": null,
   "id": "d0a9fa90",
   "metadata": {},
   "outputs": [],
   "source": [
    "df.head()"
   ]
  },
  {
   "cell_type": "code",
   "execution_count": null,
   "id": "d2e1b3c9",
   "metadata": {},
   "outputs": [],
   "source": [
    "df.info()"
   ]
  },
  {
   "cell_type": "code",
   "execution_count": null,
   "id": "b95aedb4",
   "metadata": {},
   "outputs": [],
   "source": [
    "df.describe()"
   ]
  },
  {
   "cell_type": "markdown",
   "id": "c2bb7b1f",
   "metadata": {},
   "source": [
    "`bank.csv` bank Data anlysis\n",
    "\n",
    "Header | Definition\n",
    "---|---------\n",
    "`Age`| Age of customer\n",
    "`Job` | Job of customer\n",
    "`Martial` | Martial status of customer  \n",
    "`Education` |Customer education level\n",
    "`Default` |  Has credit in default?\n",
    "`Housing` | If costumer has housing loan\n",
    "`Loan` | Has Personal Loan\n",
    "`Balance` |Customer's individual balance\n",
    "`Contact` | Communication type\n",
    "`Month` |  Last contact month of year \n",
    "`Day` | Last contact day of the week\n",
    "`Duration` |Last contact duration, in seconds\n",
    "`Campaign` | Number of contacts performed during this campaign and for this client\n",
    "`Pdays` | Number of days that passed by after the client was last contacted from a previous campaign\n",
    "`Previous` | Number of contacts performed before this campaign and for this client\n",
    "`Poutcome` |outcome of the previous marketing campaign \n",
    "`Deposit` | has the client subscribed a term deposit"
   ]
  },
  {
   "cell_type": "code",
   "execution_count": null,
   "id": "90d10810",
   "metadata": {},
   "outputs": [],
   "source": [
    "#find percentage of missing values for each column\n",
    "missing_values = df.isnull().mean()*100\n",
    "\n",
    "missing_values.sum()"
   ]
  },
  {
   "cell_type": "markdown",
   "id": "967f546c",
   "metadata": {},
   "source": [
    "<div class=\"alert alert-info\"><strong>CLASS: </strong>\n",
    "      We can explore an innovative approach instead of conventional analysis by developing a new class. This class will focus on examining all datasets and will determine the data type of each column, visualizing the findings accordingly. For columns containing integer data, it will calculate and display the mean, standard deviation, and minimum values. In the case of categorical data, it will visually represent the distribution of each category.</div>\n"
   ]
  },
  {
   "cell_type": "code",
   "execution_count": null,
   "id": "7bf87cef",
   "metadata": {},
   "outputs": [],
   "source": [
    "class EDA:\n",
    "    \n",
    "    def row(self, data):\n",
    "        fig = make_subplots(rows=1, cols=2)\n",
    "        fig.add_trace(go.Indicator(mode = \"number\", value = data.shape[0], \n",
    "                                   number={'font':{'color': '#E58F65', 'size':100}},\n",
    "                                   title = {\"text\": \"🧾 Rows<br><span style='font-size:0.8em;color:gray'>In the Dataframe</span>\"},\n",
    "                                   domain = {'x': [0, 0.5], 'y': [0.6, 1]}))\n",
    "        fig.add_trace(go.Indicator(mode = \"number\", value = data.shape[1], \n",
    "                                   number={'font':{'color': '#E58F65', 'size':100}},\n",
    "                                   title = {\"text\": \"⭕ Columns<br><span style='font-size:0.8em;color:gray'>In the Dataframe</span>\"},\n",
    "                                   domain = {'x': [0.5, 1], 'y': [0, 0.4]}))\n",
    "        fig.show()\n",
    "    \n",
    "    def border_msg(self, msg, indent=1, width=None, title=None):\n",
    "        \"\"\"Print message-box with optional title.\"\"\"\n",
    "        lines = msg.split('\\n')\n",
    "        space = \" \" * indent\n",
    "        if not width:\n",
    "            width = max(map(len, lines))\n",
    "        box = f'╔{\"═\" * (width + indent * 2)}╗\\n'  \n",
    "        if title:\n",
    "            box += f'║{space}{title:<{width}}{space}║\\n'  \n",
    "            box += f'║{space}{\"-\" * len(title):<{width}}{space}║\\n'  \n",
    "        box += ''.join([f'║{space}{line:<{width}}{space}║\\n' for line in lines])\n",
    "        box += f'╚{\"═\" * (width + indent * 2)}╝' \n",
    "        print('\\033[92m'+'\\033[1m')\n",
    "        print(box)\n",
    "        \n",
    "    def distribution(self, x, title):\n",
    "        plt.figure(figsize=(10,8))\n",
    "        ax = sns.distplot(x, kde=False, bins=30)\n",
    "        values = np.array([rec.get_height() for rec in ax.patches])\n",
    "        norm = plt.Normalize(values.min(), values.max())\n",
    "        colors = plt.cm.jet(norm(values))\n",
    "        for rec, col in zip(ax.patches, colors):\n",
    "            rec.set_color(col)\n",
    "        plt.title(title, size=20, color='black')\n",
    "        \n",
    "    def run(self, df):\n",
    "        \n",
    "        self.row(df)\n",
    "        if len(df) > 0:\n",
    "            \n",
    "            object_df = df.select_dtypes('object').columns.tolist()\n",
    "            int_df = df.select_dtypes('int').columns.tolist()\n",
    "            bool_df = df.select_dtypes('bool').columns.tolist()\n",
    "            float_df = df.select_dtypes('float').columns.tolist()\n",
    "\n",
    "            if len(object_df) > 0:\n",
    "                \n",
    "                print('\\033[1m' + \"OBJECT TYPE\")\n",
    "                for col in object_df:\n",
    "                    self.border_msg(' ' * 25 + col.upper() + ' ' * 25)\n",
    "                    self.border_msg(f'There are {df[col].nunique()} unique values in {col.upper()} column')\n",
    "                    \n",
    "                    # Adding the pie chart visualization for object columns (e.g., 'job')\n",
    "                    fig = px.pie(df, values=np.ones(len(df)), names=col, \n",
    "                                 title=f'{col}', color_discrete_sequence=px.colors.sequential.Brwnyl)\n",
    "                    fig.show()\n",
    "                    \n",
    "                    plt.figure(figsize=(10,5))\n",
    "                    sns.countplot(y=col, data=df, order=df[col].value_counts().index)\n",
    "                    plt.show()\n",
    "\n",
    "            if len(int_df) > 0:\n",
    "                \n",
    "                print('\\033[1m' + \"INT TYPE\")\n",
    "                for col in int_df:\n",
    "                    self.border_msg(' ' * 25 + col.upper() + ' ' * 25)\n",
    "                    self.border_msg(f'Average value is: {df[col].mean()}')\n",
    "                    self.border_msg(f'Minimum value is: {df[col].min()}')\n",
    "                    self.border_msg(f'Maximum value is: {df[col].max()}')\n",
    "\n",
    "                    self.distribution(df[col], title=col)\n",
    "                    \n",
    "                    # Boxplot visualization for int columns\n",
    "                    sns.boxplot(data=df[[col]])\n",
    "                    plt.xticks(rotation=90)\n",
    "                    plt.show()\n",
    "\n",
    "                    fig = make_subplots(rows=1, cols=2)\n",
    "                    fig.add_trace(go.Indicator(mode=\"number\", value=df[col].mean(),\n",
    "                                               number={'font':{'color': '#E58F65', 'size':100}},\n",
    "                                               title={\"text\": \"📌 Mean<br><span style='font-size:0.8em;color:gray'></span>\"},\n",
    "                                               domain={'x': [0, 0.5], 'y': [0.6, 1]}))\n",
    "                    fig.add_trace(go.Indicator(mode=\"number\", value=df[col].std(),\n",
    "                                               number={'font':{'color': '#E58F65', 'size':100}},\n",
    "                                               title={\"text\": \"🖇 Standard dev<br><span style='font-size:0.8em;color:gray'></span>\"},\n",
    "                                               domain={'x': [0.5, 1], 'y': [0, 0.4]}))\n",
    "                    fig.show()\n",
    "                    plt.show()\n",
    "                    \n",
    "            if len(bool_df) > 0:\n",
    "                \n",
    "                print('\\033[1m' + \"BOOL TYPE\")\n",
    "                for col in bool_df:\n",
    "                    self.border_msg(' ' * 25 + col.upper() + ' ' * 25)\n",
    "                    plt.figure(figsize=(10,5))\n",
    "                    sns.countplot(y=col, data=df, order=df[col].value_counts().index)\n",
    "                    plt.show()\n",
    "\n",
    "            if len(float_df) > 0:\n",
    "                \n",
    "                print('\\033[1m' + \"FLOAT TYPE\")\n",
    "                for col in float_df:\n",
    "                    self.border_msg(' ' * 25 + col.upper() + ' ' * 25)\n",
    "                    self.border_msg(f'Average value is: {df[col].mean()}')\n",
    "                    self.border_msg(f'Minimum value is: {df[col].min()}')\n",
    "                    self.border_msg(f'Maximum value is: {df[col].max()}')\n",
    "\n",
    "                    self.distribution(df[col], title=col)\n",
    "                    \n",
    "                    # Boxplot for float columns\n",
    "                    sns.boxplot(data=df[[col]])\n",
    "                    plt.xticks(rotation=90)\n",
    "                    plt.show()\n",
    "\n",
    "                    fig = make_subplots(rows=1, cols=2)\n",
    "                    fig.add_trace(go.Indicator(mode=\"number\", value=df[col].mean(),\n",
    "                                               number={'font':{'color': '#E58F65', 'size':100}},\n",
    "                                               title={\"text\": \"📌 Mean<br><span style='font-size:0.8em;color:gray'></span>\"},\n",
    "                                               domain={'x': [0, 0.5], 'y': [0.6, 1]}))\n",
    "                    fig.add_trace(go.Indicator(mode=\"number\", value=df[col].std(),\n",
    "                                               number={'font':{'color': '#E58F65', 'size':100}},\n",
    "                                               title={\"text\": \"🖇 Standard dev<br><span style='font-size:0.8em;color:gray'></span>\"},\n",
    "                                               domain={'x': [0.5, 1], 'y': [0, 0.4]}))\n",
    "                    fig.show()\n",
    "                    plt.show()\n"
   ]
  },
  {
   "cell_type": "code",
   "execution_count": null,
   "id": "b94ae8ff",
   "metadata": {},
   "outputs": [],
   "source": [
    "sns.pairplot(df,hue='deposit',corner=True)"
   ]
  },
  {
   "cell_type": "code",
   "execution_count": null,
   "id": "42fd8c43",
   "metadata": {},
   "outputs": [],
   "source": [
    "plt.figure(figsize=(10,8),dpi=80)\n",
    "sns.heatmap(df.corr(),cmap=\"coolwarm\",annot=True,linewidth=0.5)\n",
    "plt.yticks(rotation=55)"
   ]
  },
  {
   "cell_type": "code",
   "execution_count": null,
   "id": "a6db813e",
   "metadata": {},
   "outputs": [],
   "source": []
  },
  {
   "cell_type": "code",
   "execution_count": null,
   "id": "3a20e9a3",
   "metadata": {},
   "outputs": [],
   "source": []
  },
  {
   "cell_type": "code",
   "execution_count": null,
   "id": "3e590ea1",
   "metadata": {},
   "outputs": [],
   "source": []
  },
  {
   "cell_type": "code",
   "execution_count": null,
   "id": "9f4c681a",
   "metadata": {},
   "outputs": [],
   "source": []
  },
  {
   "cell_type": "code",
   "execution_count": null,
   "id": "c9184150",
   "metadata": {},
   "outputs": [],
   "source": []
  },
  {
   "cell_type": "code",
   "execution_count": null,
   "id": "6cb89780",
   "metadata": {},
   "outputs": [],
   "source": []
  },
  {
   "cell_type": "markdown",
   "id": "a41713ed",
   "metadata": {},
   "source": [
    "---\n",
    "## References\n",
    "\n",
    "1. [NumPy Random Documentation](https://numpy.org/doc/stable/reference/random/index.html)\n",
    "\n",
    "2. Same as [Source 1](#1).\n",
    "\n",
    "3. [NumPy `linalg.pinv()`: Computing the Pseudo-Inverse of a Matrix](https://www.askpython.com/python-modules/numpy/numpy-linalg-pinv)  \n",
    "   [NumPy `linalg.pinv` Stable Documentation](https://numpy.org/doc/stable/reference/generated/numpy.linalg.pinv.html)\n",
    "\n",
    "4. [How to Normalize the RMSE](https://www.marinedatascience.co/blog/2019/01/07/normalizing-the-rmse/)\n",
    "\n",
    "5. **Perplexity AI Prompt**:  \n",
    "   \"Explain the Gradient of Mean Squared Error (MSE) Calculation and help me with the code for computing it.\"\n",
    "\n",
    "6. [Intuitions on L1 and L2 Regularization: Explaining how L1 and L2 work using Gradient Descent](https://towardsdatascience.com/intuitions-on-l1-and-l2-regularisation-235f2db4c261)  \n",
    "   [Calculating Gradient Norm w.r.t Weights with Keras](https://stackoverflow.com/questions/45694344/calculating-gradient-norm-wrt-weights-with-keras)\n",
    "\n",
    "7. Same as [Source 6](#6).\n",
    "\n",
    "8. **ChatGPT Prompt**:  \n",
    "   \"Explain the gradient descent idea on the loss function `MSE + λ_1 L1 + λ_2 L2` with the code.\"\n",
    "\n",
    "9. **Perplexity AI Prompt**:  \n",
    "   \"Impact of $ \\sigma $ on the NRMSE for linear regression using gradient descent.\"\n",
    "\n",
    "10. Partly from [Source 5](#5) and [Source 8](#8).\n",
    "\n",
    "11. Same as [Source 10](#10).\n",
    "\n",
    "12. [Elastic Net Regression — Combined Features of L1 and L2 Regularization](https://medium.com/@abhishekjainindore24/elastic-net-regression-combined-features-of-l1-and-l2-regularization-6181a660c3a5)\n",
    "\n",
    "13. From [Source 1](#1) and **ChatGPT Prompt**.\n",
    "\n",
    "14. Class Notes.\n",
    "\n",
    "15. From [Source 10](#10) and [Source 13](#13).\n",
    "\n",
    "## Additional Sources\n",
    "\n",
    "### Websites\n",
    "- [Markdown Cheatsheet](https://www.markdownguide.org/cheat-sheet/) (for fluent notes)\n",
    "- [NumPy Documentation](https://numpy.org/doc/)\n",
    "\n",
    "$$--------End \\space  of \\space  Assignment--------$$\n"
   ]
  }
 ],
 "metadata": {
  "kaggle": {
   "accelerator": "gpu",
   "dataSources": [],
   "dockerImageVersionId": 30787,
   "isGpuEnabled": true,
   "isInternetEnabled": true,
   "language": "python",
   "sourceType": "notebook"
  },
  "kernelspec": {
   "display_name": "Python 3 (ipykernel)",
   "language": "python",
   "name": "python3"
  },
  "language_info": {
   "codemirror_mode": {
    "name": "ipython",
    "version": 3
   },
   "file_extension": ".py",
   "mimetype": "text/x-python",
   "name": "python",
   "nbconvert_exporter": "python",
   "pygments_lexer": "ipython3",
   "version": "3.12.3"
  }
 },
 "nbformat": 4,
 "nbformat_minor": 5
}
